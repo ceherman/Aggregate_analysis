{
 "cells": [
  {
   "cell_type": "code",
   "execution_count": 1,
   "metadata": {
    "ExecuteTime": {
     "end_time": "2022-07-23T00:42:20.437584Z",
     "start_time": "2022-07-23T00:42:20.415278Z"
    }
   },
   "outputs": [],
   "source": [
    "%load_ext autoreload\n",
    "%autoreload 2"
   ]
  },
  {
   "cell_type": "code",
   "execution_count": 2,
   "metadata": {
    "ExecuteTime": {
     "end_time": "2022-07-23T00:42:20.887170Z",
     "start_time": "2022-07-23T00:42:20.866918Z"
    }
   },
   "outputs": [
    {
     "data": {
      "text/html": [
       "<style>.container { width:100% !important; }</style>"
      ],
      "text/plain": [
       "<IPython.core.display.HTML object>"
      ]
     },
     "metadata": {},
     "output_type": "display_data"
    }
   ],
   "source": [
    "from IPython.core.display import display, HTML, clear_output\n",
    "display(HTML(\"<style>.container { width:100% !important; }</style>\"))"
   ]
  },
  {
   "cell_type": "code",
   "execution_count": 18,
   "metadata": {
    "ExecuteTime": {
     "end_time": "2022-07-23T01:13:31.109245Z",
     "start_time": "2022-07-23T01:13:30.993229Z"
    }
   },
   "outputs": [],
   "source": [
    "import pandas as pd\n",
    "import numpy as np\n",
    "import numpy.polynomial.polynomial as poly\n",
    "import scipy\n",
    "from scipy import integrate, interpolate, misc, stats\n",
    "import math\n",
    "import matplotlib as mpl\n",
    "import matplotlib.pyplot as plt\n",
    "import matplotlib.cm as cm\n",
    "\n",
    "import sys\n",
    "import os"
   ]
  },
  {
   "cell_type": "code",
   "execution_count": 4,
   "metadata": {
    "ExecuteTime": {
     "end_time": "2022-07-23T00:42:23.141013Z",
     "start_time": "2022-07-23T00:42:23.105973Z"
    }
   },
   "outputs": [],
   "source": [
    "sys.path.append(\"/home/chase/codes/python_functions/\")\n",
    "import plotting as my_plot\n",
    "\n",
    "sys.path.append(os.path.realpath('./pyilt/'))\n",
    "import ilt\n",
    "\n",
    "import my_dls_code as dls\n",
    "\n",
    "sys.path.append(\"./previous/lcurve-master/\")\n",
    "import lcurve_functions as lcurve_fun"
   ]
  },
  {
   "cell_type": "code",
   "execution_count": 5,
   "metadata": {
    "ExecuteTime": {
     "end_time": "2022-07-23T00:42:23.759869Z",
     "start_time": "2022-07-23T00:42:23.657920Z"
    }
   },
   "outputs": [
    {
     "data": {
      "image/png": "[encoded data removed]",
      "text/plain": [
       "<Figure size 72x72 with 1 Axes>"
      ]
     },
     "metadata": {
      "needs_background": "light"
     },
     "output_type": "display_data"
    }
   ],
   "source": [
    "fig, ax = my_plot.instantiate_fig(1, 1)"
   ]
  },
  {
   "cell_type": "code",
   "execution_count": 6,
   "metadata": {
    "ExecuteTime": {
     "end_time": "2022-07-23T00:42:27.525469Z",
     "start_time": "2022-07-23T00:42:27.506436Z"
    }
   },
   "outputs": [
    {
     "data": {
      "text/plain": [
       "['hccf-0700.dat',\n",
       " 'hccf-feed-3d.dat',\n",
       " 'hccf-feed-pseudo.dat',\n",
       " 'hccf-feed.dat',\n",
       " 'pafvin-0700-pseudo.dat',\n",
       " 'pafvin-0700.dat',\n",
       " 'pafvin-feed-3d-45deg.dat',\n",
       " 'pafvin-feed-3d.dat',\n",
       " 'pafvin-feed-pseudo-bad.dat']"
      ]
     },
     "execution_count": 6,
     "metadata": {},
     "output_type": "execute_result"
    }
   ],
   "source": [
    "images_folder = './images_2/'\n",
    "\n",
    "data_folder = './data_2/'\n",
    "files = os.listdir(data_folder)\n",
    "files.sort()\n",
    "files = [f for f in files if '.dat' in f and 'fit' not in f]\n",
    "files"
   ]
  },
  {
   "cell_type": "code",
   "execution_count": 60,
   "metadata": {
    "ExecuteTime": {
     "end_time": "2022-07-23T01:42:50.775322Z",
     "start_time": "2022-07-23T01:42:50.648452Z"
    }
   },
   "outputs": [],
   "source": [
    "data = {}\n",
    "\n",
    "for f in [files[0]]:\n",
    "    data[f] = dls.data_file(f'{data_folder}/{f}')"
   ]
  },
  {
   "cell_type": "code",
   "execution_count": 87,
   "metadata": {
    "ExecuteTime": {
     "end_time": "2022-07-23T02:04:52.843769Z",
     "start_time": "2022-07-23T02:04:48.827572Z"
    }
   },
   "outputs": [],
   "source": [
    "for f in [files[0]]:\n",
    "    data[f].get_optimal_alpha()"
   ]
  },
  {
   "cell_type": "code",
   "execution_count": 95,
   "metadata": {
    "ExecuteTime": {
     "end_time": "2022-07-23T02:09:36.902611Z",
     "start_time": "2022-07-23T02:09:36.737864Z"
    }
   },
   "outputs": [
    {
     "data": {
      "image/png": "[encoded data removed]",
      "text/plain": [
       "<Figure size 504x432 with 1 Axes>"
      ]
     },
     "metadata": {
      "needs_background": "light"
     },
     "output_type": "display_data"
    }
   ],
   "source": [
    "fig, ax = data[f].draw_L_curve()"
   ]
  },
  {
   "cell_type": "code",
   "execution_count": null,
   "metadata": {},
   "outputs": [],
   "source": []
  },
  {
   "cell_type": "code",
   "execution_count": null,
   "metadata": {},
   "outputs": [],
   "source": []
  },
  {
   "cell_type": "code",
   "execution_count": null,
   "metadata": {},
   "outputs": [],
   "source": []
  },
  {
   "cell_type": "code",
   "execution_count": null,
   "metadata": {},
   "outputs": [],
   "source": []
  },
  {
   "cell_type": "code",
   "execution_count": null,
   "metadata": {},
   "outputs": [],
   "source": []
  },
  {
   "cell_type": "code",
   "execution_count": null,
   "metadata": {},
   "outputs": [],
   "source": []
  }
 ],
 "metadata": {
  "kernelspec": {
   "display_name": "Python 3 (ipykernel)",
   "language": "python",
   "name": "python3"
  },
  "language_info": {
   "codemirror_mode": {
    "name": "ipython",
    "version": 3
   },
   "file_extension": ".py",
   "mimetype": "text/x-python",
   "name": "python",
   "nbconvert_exporter": "python",
   "pygments_lexer": "ipython3",
   "version": "3.7.12"
  },
  "toc": {
   "base_numbering": 1,
   "nav_menu": {},
   "number_sections": true,
   "sideBar": true,
   "skip_h1_title": false,
   "title_cell": "Table of Contents",
   "title_sidebar": "Contents",
   "toc_cell": false,
   "toc_position": {},
   "toc_section_display": true,
   "toc_window_display": false
  }
 },
 "nbformat": 4,
 "nbformat_minor": 2
}
