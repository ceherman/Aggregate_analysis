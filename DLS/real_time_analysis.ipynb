{
 "cells": [
  {
   "cell_type": "code",
   "execution_count": 1,
   "metadata": {
    "ExecuteTime": {
     "end_time": "2022-07-23T23:55:36.251065Z",
     "start_time": "2022-07-23T23:55:36.231104Z"
    }
   },
   "outputs": [],
   "source": [
    "%load_ext autoreload\n",
    "%autoreload 2"
   ]
  },
  {
   "cell_type": "code",
   "execution_count": 2,
   "metadata": {
    "ExecuteTime": {
     "end_time": "2022-07-23T23:55:36.588816Z",
     "start_time": "2022-07-23T23:55:36.568577Z"
    }
   },
   "outputs": [
    {
     "data": {
      "text/html": [
       "<style>.container { width:100% !important; }</style>"
      ],
      "text/plain": [
       "<IPython.core.display.HTML object>"
      ]
     },
     "metadata": {},
     "output_type": "display_data"
    }
   ],
   "source": [
    "from IPython.core.display import display, HTML, clear_output\n",
    "display(HTML(\"<style>.container { width:100% !important; }</style>\"))"
   ]
  },
  {
   "cell_type": "code",
   "execution_count": 3,
   "metadata": {
    "ExecuteTime": {
     "end_time": "2022-07-23T23:55:37.907084Z",
     "start_time": "2022-07-23T23:55:36.989896Z"
    }
   },
   "outputs": [],
   "source": [
    "import pandas as pd\n",
    "import numpy as np\n",
    "import numpy.polynomial.polynomial as poly\n",
    "import scipy\n",
    "from scipy import integrate, interpolate, misc\n",
    "import math\n",
    "import matplotlib as mpl\n",
    "import matplotlib.pyplot as plt\n",
    "import matplotlib.cm as cm\n",
    "\n",
    "import sys\n",
    "import os"
   ]
  },
  {
   "cell_type": "code",
   "execution_count": 4,
   "metadata": {
    "ExecuteTime": {
     "end_time": "2022-07-23T23:55:38.012977Z",
     "start_time": "2022-07-23T23:55:37.908381Z"
    }
   },
   "outputs": [],
   "source": [
    "sys.path.append(\"/home/chase/codes/python_functions/\")\n",
    "import plotting as my_plot\n",
    "\n",
    "sys.path.append(os.path.realpath('./pyilt/'))\n",
    "import ilt\n",
    "\n",
    "import my_dls_code as dls\n",
    "\n",
    "sys.path.append(\"./previous/lcurve-master/\")\n",
    "import lcurve_functions as lcurve_fun"
   ]
  },
  {
   "cell_type": "code",
   "execution_count": 5,
   "metadata": {
    "ExecuteTime": {
     "end_time": "2022-07-23T23:55:38.084723Z",
     "start_time": "2022-07-23T23:55:38.014081Z"
    }
   },
   "outputs": [
    {
     "data": {
      "image/png": "[encoded data removed]",
      "text/plain": [
       "<Figure size 72x72 with 1 Axes>"
      ]
     },
     "metadata": {
      "needs_background": "light"
     },
     "output_type": "display_data"
    }
   ],
   "source": [
    "fig, ax = my_plot.instantiate_fig(1, 1)"
   ]
  },
  {
   "cell_type": "code",
   "execution_count": 39,
   "metadata": {
    "ExecuteTime": {
     "end_time": "2022-07-24T02:50:16.218801Z",
     "start_time": "2022-07-24T02:50:16.197541Z"
    }
   },
   "outputs": [
    {
     "data": {
      "text/plain": [
       "['pafvin-s-250-3.dat',\n",
       " 'pafvin-m-750.dat',\n",
       " 'hccf-lmw1-unk.dat',\n",
       " 'pafvin-s-0500-2.dat',\n",
       " 'pafvin-s-0500.dat']"
      ]
     },
     "execution_count": 39,
     "metadata": {},
     "output_type": "execute_result"
    }
   ],
   "source": [
    "data_set_number = 5\n",
    "\n",
    "data_folder = f'./data/data_{data_set_number}/'\n",
    "images_folder = f'./images_real_time/images_{data_set_number}/'\n",
    "try:\n",
    "    os.mkdir(images_folder)\n",
    "except:\n",
    "    pass\n",
    "\n",
    "files = os.listdir(data_folder)\n",
    "files.remove('notes.txt')\n",
    "files"
   ]
  },
  {
   "cell_type": "code",
   "execution_count": 40,
   "metadata": {
    "ExecuteTime": {
     "end_time": "2022-07-24T02:50:16.561968Z",
     "start_time": "2022-07-24T02:50:16.389286Z"
    }
   },
   "outputs": [],
   "source": [
    "data = {}\n",
    "for f in files:\n",
    "    data[f] = dls.data_file(f'{data_folder}/{f}')"
   ]
  },
  {
   "cell_type": "code",
   "execution_count": 41,
   "metadata": {
    "ExecuteTime": {
     "end_time": "2022-07-24T02:50:22.907849Z",
     "start_time": "2022-07-24T02:50:16.563620Z"
    }
   },
   "outputs": [],
   "source": [
    "# Descriptive plots\n",
    "\n",
    "for f in files:\n",
    "    fig, ax = data[f].make_count_rate_plot()\n",
    "    plt.savefig(f'./{images_folder}/{data[f].name}_1_count_rate.png', \n",
    "                dpi=300, bbox_inches='tight')\n",
    "    \n",
    "    fig, ax = data[f].make_count_rate_histogram()\n",
    "    plt.savefig(f'./{images_folder}/{data[f].name}_2_count_rate_hist.png', \n",
    "                dpi=300, bbox_inches='tight')\n",
    "    \n",
    "    fig, ax = data[f].make_g2_plot()\n",
    "    plt.savefig(f'./{images_folder}/{data[f].name}_3_g2.png', \n",
    "                dpi=300, bbox_inches='tight')\n",
    "    \n",
    "    plt.close('all')"
   ]
  },
  {
   "cell_type": "code",
   "execution_count": 42,
   "metadata": {
    "ExecuteTime": {
     "end_time": "2022-07-24T02:50:42.234979Z",
     "start_time": "2022-07-24T02:50:22.909434Z"
    },
    "scrolled": true
   },
   "outputs": [],
   "source": [
    "for f in files:\n",
    "    data[f].get_optimal_alpha(low_r_bound=0.5, up_r_bound=1000)"
   ]
  },
  {
   "cell_type": "code",
   "execution_count": 43,
   "metadata": {
    "ExecuteTime": {
     "end_time": "2022-07-24T02:50:54.978045Z",
     "start_time": "2022-07-24T02:50:42.236833Z"
    },
    "scrolled": false
   },
   "outputs": [],
   "source": [
    "for f in files:\n",
    "    fig, ax = data[f].draw_L_curve()\n",
    "    plt.savefig(f'./{images_folder}/{data[f].name}_4_L_curve.png', \n",
    "                dpi=300, bbox_inches='tight')\n",
    "    \n",
    "    fig, ax = data[f].plot_g1_fit()\n",
    "    plt.savefig(f'./{images_folder}/{data[f].name}_5_g1_fit.png', \n",
    "                dpi=300, bbox_inches='tight')\n",
    "\n",
    "    fig, ax = data[f].make_gamma_dist_plot()\n",
    "    plt.savefig(f'./{images_folder}/{data[f].name}_6_G_gamma_dist.png', \n",
    "                dpi=300, bbox_inches='tight')\n",
    "    \n",
    "    fig, ax = data[f].make_rh_dist_plot()\n",
    "    plt.savefig(f'./{images_folder}/{data[f].name}_7_Rh_dist.png', \n",
    "                dpi=300, bbox_inches='tight')\n",
    "                \n",
    "    plt.close('all')"
   ]
  },
  {
   "cell_type": "code",
   "execution_count": null,
   "metadata": {},
   "outputs": [],
   "source": []
  },
  {
   "cell_type": "code",
   "execution_count": null,
   "metadata": {},
   "outputs": [],
   "source": []
  },
  {
   "cell_type": "code",
   "execution_count": null,
   "metadata": {},
   "outputs": [],
   "source": []
  },
  {
   "cell_type": "code",
   "execution_count": null,
   "metadata": {
    "ExecuteTime": {
     "end_time": "2022-07-07T12:36:49.110290Z",
     "start_time": "2022-07-07T12:36:49.088575Z"
    }
   },
   "outputs": [],
   "source": []
  },
  {
   "cell_type": "code",
   "execution_count": null,
   "metadata": {
    "ExecuteTime": {
     "end_time": "2022-07-07T12:36:04.528601Z",
     "start_time": "2022-07-07T12:36:04.510826Z"
    }
   },
   "outputs": [],
   "source": []
  },
  {
   "cell_type": "code",
   "execution_count": null,
   "metadata": {},
   "outputs": [],
   "source": []
  },
  {
   "cell_type": "code",
   "execution_count": null,
   "metadata": {},
   "outputs": [],
   "source": []
  },
  {
   "cell_type": "code",
   "execution_count": null,
   "metadata": {},
   "outputs": [],
   "source": []
  },
  {
   "cell_type": "code",
   "execution_count": null,
   "metadata": {},
   "outputs": [],
   "source": []
  },
  {
   "cell_type": "code",
   "execution_count": null,
   "metadata": {},
   "outputs": [],
   "source": []
  },
  {
   "cell_type": "code",
   "execution_count": null,
   "metadata": {},
   "outputs": [],
   "source": []
  },
  {
   "cell_type": "code",
   "execution_count": null,
   "metadata": {},
   "outputs": [],
   "source": []
  },
  {
   "cell_type": "code",
   "execution_count": null,
   "metadata": {},
   "outputs": [],
   "source": []
  }
 ],
 "metadata": {
  "kernelspec": {
   "display_name": "Python 3 (ipykernel)",
   "language": "python",
   "name": "python3"
  },
  "language_info": {
   "codemirror_mode": {
    "name": "ipython",
    "version": 3
   },
   "file_extension": ".py",
   "mimetype": "text/x-python",
   "name": "python",
   "nbconvert_exporter": "python",
   "pygments_lexer": "ipython3",
   "version": "3.7.12"
  },
  "toc": {
   "base_numbering": 1,
   "nav_menu": {},
   "number_sections": true,
   "sideBar": true,
   "skip_h1_title": false,
   "title_cell": "Table of Contents",
   "title_sidebar": "Contents",
   "toc_cell": false,
   "toc_position": {},
   "toc_section_display": true,
   "toc_window_display": false
  }
 },
 "nbformat": 4,
 "nbformat_minor": 2
}
