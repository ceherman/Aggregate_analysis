{
 "cells": [
  {
   "cell_type": "code",
   "execution_count": 1,
   "id": "4ff64a89-4347-491b-9166-39f1197a28e1",
   "metadata": {
    "ExecuteTime": {
     "end_time": "2022-09-23T13:51:00.218126Z",
     "start_time": "2022-09-23T13:51:00.193018Z"
    },
    "execution": {
     "iopub.execute_input": "2023-08-27T23:38:02.001858Z",
     "iopub.status.busy": "2023-08-27T23:38:02.001173Z",
     "iopub.status.idle": "2023-08-27T23:38:02.018075Z",
     "shell.execute_reply": "2023-08-27T23:38:02.017261Z",
     "shell.execute_reply.started": "2023-08-27T23:38:02.001819Z"
    }
   },
   "outputs": [],
   "source": [
    "%load_ext autoreload\n",
    "%autoreload 2"
   ]
  },
  {
   "cell_type": "code",
   "execution_count": 2,
   "id": "c82f24cb",
   "metadata": {
    "ExecuteTime": {
     "end_time": "2022-09-23T13:51:01.895166Z",
     "start_time": "2022-09-23T13:51:00.735467Z"
    },
    "execution": {
     "iopub.execute_input": "2023-08-27T23:38:04.744302Z",
     "iopub.status.busy": "2023-08-27T23:38:04.743678Z",
     "iopub.status.idle": "2023-08-27T23:38:05.582423Z",
     "shell.execute_reply": "2023-08-27T23:38:05.581424Z",
     "shell.execute_reply.started": "2023-08-27T23:38:04.744268Z"
    }
   },
   "outputs": [],
   "source": [
    "import pandas as pd\n",
    "import numpy as np\n",
    "from scipy import optimize\n",
    "from scipy.stats import sem\n",
    "\n",
    "import os\n",
    "import sys\n",
    "\n",
    "import matplotlib.pyplot as plt\n",
    "import matplotlib.ticker\n",
    "from matplotlib.patches import Rectangle\n",
    "from matplotlib.colors import ListedColormap, BoundaryNorm\n",
    "\n",
    "from venn import venn, pseudovenn\n",
    "import seaborn as sns\n",
    "\n",
    "from Bio import SeqIO, SeqUtils\n",
    "\n",
    "from addict import Dict\n",
    "\n",
    "import math"
   ]
  },
  {
   "cell_type": "code",
   "execution_count": 3,
   "id": "5cb3d29b",
   "metadata": {
    "ExecuteTime": {
     "end_time": "2022-09-23T13:51:01.912413Z",
     "start_time": "2022-09-23T13:51:01.896711Z"
    },
    "execution": {
     "iopub.execute_input": "2023-08-27T23:38:10.992028Z",
     "iopub.status.busy": "2023-08-27T23:38:10.991463Z",
     "iopub.status.idle": "2023-08-27T23:38:11.018419Z",
     "shell.execute_reply": "2023-08-27T23:38:11.017255Z",
     "shell.execute_reply.started": "2023-08-27T23:38:10.991993Z"
    }
   },
   "outputs": [],
   "source": [
    "sys.path.append(\"../\")\n",
    "import plotting as my_plot\n",
    "\n",
    "sys.path.append(\"/home/chase/my_repos/Misc_electrostatics/sim_vs_exp/mean_field_elect/\")\n",
    "import proteomics_functions as prot_fun"
   ]
  },
  {
   "cell_type": "code",
   "execution_count": 4,
   "id": "90e66849",
   "metadata": {
    "ExecuteTime": {
     "end_time": "2022-09-23T13:51:02.019833Z",
     "start_time": "2022-09-23T13:51:01.998547Z"
    },
    "execution": {
     "iopub.execute_input": "2023-08-27T23:38:11.606244Z",
     "iopub.status.busy": "2023-08-27T23:38:11.605836Z",
     "iopub.status.idle": "2023-08-27T23:38:11.626284Z",
     "shell.execute_reply": "2023-08-27T23:38:11.625119Z",
     "shell.execute_reply.started": "2023-08-27T23:38:11.606207Z"
    }
   },
   "outputs": [],
   "source": [
    "def clean_data(df_con):\n",
    "    for i, cont in df_con.iterrows():\n",
    "        string = cont['name'].lower()\n",
    "\n",
    "        string = string.replace('✓', '')\n",
    "        string = string.replace('\\xa0', ' ')\n",
    "        string = string.replace('\\u2009', ' ')\n",
    "        string = string.replace(') c', ')')\n",
    "        string = string.replace(') d', ')')\n",
    "        string = string.replace(') e', ')')\n",
    "        string = string.replace(' - ', '-')\n",
    "        string = string.replace('-β1', '')\n",
    "\n",
    "        string = string.strip()\n",
    "        if string.find('(')-1 > 0:\n",
    "            df_con.at[i, 'desc_lower'] = string[:string.find('(')-1]\n",
    "        else:\n",
    "            df_con.at[i, 'desc_lower'] = string\n",
    "\n",
    "        if '(' in string:\n",
    "            df_con.at[i, 'acronym'] = string[string.find('(')+1:-1]\n",
    "        else:\n",
    "            df_con.at[i, 'acronym'] = False\n",
    "        \n",
    "        desc_lower = df_con.at[i, 'desc_lower']\n",
    "        desc_lower_2 = desc_lower.replace('-', ' ')\n",
    "        desc_lower_2 = desc_lower_2.replace('_', ' ')\n",
    "        desc_lower_2 = desc_lower_2.replace(',', '')\n",
    "        df_con.at[i, 'desc_lower_2'] = desc_lower_2\n",
    "    return "
   ]
  },
  {
   "cell_type": "code",
   "execution_count": null,
   "id": "fae43946",
   "metadata": {},
   "outputs": [],
   "source": []
  },
  {
   "cell_type": "markdown",
   "id": "15d92841",
   "metadata": {},
   "source": [
    "# Biophorum\n",
    "10.1002/bit.27808\n",
    "- Arbitrary list of difficult-to-remove species\n",
    "- Cited list of high-risk species"
   ]
  },
  {
   "cell_type": "code",
   "execution_count": 5,
   "id": "0d5ce237",
   "metadata": {
    "ExecuteTime": {
     "end_time": "2022-09-20T21:06:40.855189Z",
     "start_time": "2022-09-20T21:06:40.812304Z"
    },
    "execution": {
     "iopub.execute_input": "2023-08-27T23:38:12.422266Z",
     "iopub.status.busy": "2023-08-27T23:38:12.421909Z",
     "iopub.status.idle": "2023-08-27T23:38:12.464936Z",
     "shell.execute_reply": "2023-08-27T23:38:12.464187Z",
     "shell.execute_reply.started": "2023-08-27T23:38:12.422238Z"
    }
   },
   "outputs": [],
   "source": [
    "df_biophorum = pd.read_csv('./lit_data/dirty/biophorum_dirty.csv')\n",
    "df_biophorum.columns = ['name', 'mw_kDa', 'pI', 'uniprot', 'n_aa']\n",
    "clean_data(df_biophorum)\n",
    "df_biophorum.to_csv('./lit_data/biophorum_clean.csv', index=False)"
   ]
  },
  {
   "cell_type": "code",
   "execution_count": 6,
   "id": "8d72d296",
   "metadata": {
    "ExecuteTime": {
     "end_time": "2022-09-20T21:06:45.557873Z",
     "start_time": "2022-09-20T21:06:45.524229Z"
    },
    "execution": {
     "iopub.execute_input": "2023-08-27T23:38:12.622954Z",
     "iopub.status.busy": "2023-08-27T23:38:12.622528Z",
     "iopub.status.idle": "2023-08-27T23:38:12.652561Z",
     "shell.execute_reply": "2023-08-27T23:38:12.651848Z",
     "shell.execute_reply.started": "2023-08-27T23:38:12.622919Z"
    }
   },
   "outputs": [],
   "source": [
    "df_risk = pd.read_csv('./lit_data/dirty/biophorum_high_risk_dirty.csv')\n",
    "df_risk.columns = ['name', 'function', 'impact', 'impact_type', 'references']\n",
    "clean_data(df_risk)\n",
    "df_risk.to_csv('./lit_data/biophorum_high_risk_clean.csv', index=False)"
   ]
  },
  {
   "cell_type": "markdown",
   "id": "c1394b41",
   "metadata": {},
   "source": [
    "# Molden\n",
    "10.1080/19420862.2021.1955811\n",
    "- In at least one of 29 commercial antibody products"
   ]
  },
  {
   "cell_type": "code",
   "execution_count": 7,
   "id": "8dda2290",
   "metadata": {
    "ExecuteTime": {
     "end_time": "2022-09-20T21:07:03.070878Z",
     "start_time": "2022-09-20T21:07:03.023245Z"
    },
    "execution": {
     "iopub.execute_input": "2023-08-27T23:38:12.975249Z",
     "iopub.status.busy": "2023-08-27T23:38:12.974401Z",
     "iopub.status.idle": "2023-08-27T23:38:13.011126Z",
     "shell.execute_reply": "2023-08-27T23:38:13.009318Z",
     "shell.execute_reply.started": "2023-08-27T23:38:12.975198Z"
    }
   },
   "outputs": [],
   "source": [
    "df_molden = pd.read_csv('./lit_data/dirty/molden_dirty.csv')\n",
    "df_molden.rename(columns={'Accession Number (Uniport) ':'uniprot', 'Protein Name':'name'}, inplace=True)\n",
    "clean_data(df_molden)\n",
    "df_molden.to_csv('./lit_data/molden_clean.csv', index=False)"
   ]
  },
  {
   "cell_type": "code",
   "execution_count": null,
   "id": "9554133f",
   "metadata": {},
   "outputs": [],
   "source": []
  },
  {
   "cell_type": "markdown",
   "id": "2ebd163a",
   "metadata": {},
   "source": [
    "# Falkenberg\n",
    "10.1002/btpr.2788\n",
    "- In 5 / 6 mAb drug substances"
   ]
  },
  {
   "cell_type": "code",
   "execution_count": 8,
   "id": "5210bbbf",
   "metadata": {
    "ExecuteTime": {
     "end_time": "2022-09-20T21:10:45.839484Z",
     "start_time": "2022-09-20T21:10:45.809010Z"
    },
    "execution": {
     "iopub.execute_input": "2023-08-27T23:38:14.111572Z",
     "iopub.status.busy": "2023-08-27T23:38:14.111136Z",
     "iopub.status.idle": "2023-08-27T23:38:14.141593Z",
     "shell.execute_reply": "2023-08-27T23:38:14.140329Z",
     "shell.execute_reply.started": "2023-08-27T23:38:14.111538Z"
    }
   },
   "outputs": [],
   "source": [
    "df_falk = pd.read_csv('./lit_data/dirty/falkenberg_table_4_dirty.csv')\n",
    "clean_data(df_falk)\n",
    "df_falk.to_csv('./lit_data/falkenberg_table_4_clean.csv', index=False)"
   ]
  },
  {
   "cell_type": "code",
   "execution_count": null,
   "id": "f3b02c1e",
   "metadata": {},
   "outputs": [],
   "source": []
  },
  {
   "cell_type": "markdown",
   "id": "4a7bbf2b",
   "metadata": {},
   "source": [
    "# Kreimer\n",
    "10.1021/acs.analchem.6b04892\n",
    "- In drug substance of one mAb"
   ]
  },
  {
   "cell_type": "code",
   "execution_count": 9,
   "id": "0e2a6ce2",
   "metadata": {
    "ExecuteTime": {
     "end_time": "2022-09-20T21:14:32.758826Z",
     "start_time": "2022-09-20T21:14:32.726132Z"
    },
    "execution": {
     "iopub.execute_input": "2023-08-27T23:38:14.605440Z",
     "iopub.status.busy": "2023-08-27T23:38:14.605146Z",
     "iopub.status.idle": "2023-08-27T23:38:14.633695Z",
     "shell.execute_reply": "2023-08-27T23:38:14.632431Z",
     "shell.execute_reply.started": "2023-08-27T23:38:14.605398Z"
    }
   },
   "outputs": [],
   "source": [
    "df = pd.read_csv('./lit_data/dirty/kreimer_table_1_dirty.csv')\n",
    "clean_data(df)\n",
    "df.to_csv('./lit_data/kreimer_table_1_clean.csv', index=False)"
   ]
  },
  {
   "cell_type": "code",
   "execution_count": null,
   "id": "f67fa550",
   "metadata": {},
   "outputs": [],
   "source": []
  },
  {
   "cell_type": "markdown",
   "id": "9fa8fb82",
   "metadata": {},
   "source": [
    "# Zhang\n",
    "10.1002/btpr.2272\n",
    "- Co-purification in Pro A in 15 mAbs"
   ]
  },
  {
   "cell_type": "code",
   "execution_count": 10,
   "id": "74aa03bf",
   "metadata": {
    "ExecuteTime": {
     "end_time": "2022-09-20T21:22:12.636447Z",
     "start_time": "2022-09-20T21:22:12.608004Z"
    },
    "execution": {
     "iopub.execute_input": "2023-08-27T23:38:15.117045Z",
     "iopub.status.busy": "2023-08-27T23:38:15.116778Z",
     "iopub.status.idle": "2023-08-27T23:38:15.139179Z",
     "shell.execute_reply": "2023-08-27T23:38:15.138228Z",
     "shell.execute_reply.started": "2023-08-27T23:38:15.117027Z"
    }
   },
   "outputs": [],
   "source": [
    "df = pd.read_csv('./lit_data/dirty/zhang_table_2_dirty.csv')\n",
    "clean_data(df)\n",
    "df.to_csv('./lit_data/zhang_table_2_clean.csv', index=False)"
   ]
  },
  {
   "cell_type": "code",
   "execution_count": null,
   "id": "3d8eaa0a",
   "metadata": {},
   "outputs": [],
   "source": []
  },
  {
   "cell_type": "markdown",
   "id": "c4f12a2a",
   "metadata": {},
   "source": [
    "# Levy 2014 \n",
    "10.1002/bit.25158\n",
    "- Product association with at least one of 5 mAbs"
   ]
  },
  {
   "cell_type": "code",
   "execution_count": 11,
   "id": "eb85394a",
   "metadata": {
    "ExecuteTime": {
     "end_time": "2022-09-20T21:29:19.248663Z",
     "start_time": "2022-09-20T21:29:19.219198Z"
    },
    "execution": {
     "iopub.execute_input": "2023-08-27T23:38:15.637181Z",
     "iopub.status.busy": "2023-08-27T23:38:15.636919Z",
     "iopub.status.idle": "2023-08-27T23:38:15.657370Z",
     "shell.execute_reply": "2023-08-27T23:38:15.656481Z",
     "shell.execute_reply.started": "2023-08-27T23:38:15.637163Z"
    }
   },
   "outputs": [],
   "source": [
    "df = pd.read_csv('./lit_data/dirty/levy_2014_dirty.csv')\n",
    "clean_data(df)\n",
    "df.to_csv('./lit_data/levy_2014_clean.csv', index=False)"
   ]
  },
  {
   "cell_type": "code",
   "execution_count": null,
   "id": "56d992b3",
   "metadata": {},
   "outputs": [],
   "source": []
  },
  {
   "cell_type": "markdown",
   "id": "a9bb512f",
   "metadata": {},
   "source": [
    "# Levy 2016\n",
    "10.1002/bit.25882\n",
    "- Coelution during polishing operations or association with mAb"
   ]
  },
  {
   "cell_type": "code",
   "execution_count": 12,
   "id": "e1cdd0b7",
   "metadata": {
    "ExecuteTime": {
     "end_time": "2022-09-20T21:49:06.657591Z",
     "start_time": "2022-09-20T21:49:06.616573Z"
    },
    "execution": {
     "iopub.execute_input": "2023-08-27T23:38:16.173257Z",
     "iopub.status.busy": "2023-08-27T23:38:16.172973Z",
     "iopub.status.idle": "2023-08-27T23:38:16.205211Z",
     "shell.execute_reply": "2023-08-27T23:38:16.204475Z",
     "shell.execute_reply.started": "2023-08-27T23:38:16.173236Z"
    }
   },
   "outputs": [],
   "source": [
    "df = pd.read_csv('./lit_data/dirty/levy_2016_dirty.csv')\n",
    "clean_data(df)\n",
    "df.to_csv('./lit_data/levy_2016_clean.csv', index=False)"
   ]
  },
  {
   "cell_type": "code",
   "execution_count": null,
   "id": "b0385780",
   "metadata": {},
   "outputs": [],
   "source": []
  },
  {
   "cell_type": "markdown",
   "id": "d67f4e6d",
   "metadata": {},
   "source": [
    "# Aboulaich 2014\n",
    "10.1002/btpr.1948\n",
    "- Association with one of four mAbs"
   ]
  },
  {
   "cell_type": "code",
   "execution_count": 13,
   "id": "05cbafbf",
   "metadata": {
    "ExecuteTime": {
     "end_time": "2022-09-23T13:52:33.150960Z",
     "start_time": "2022-09-23T13:52:33.113207Z"
    },
    "execution": {
     "iopub.execute_input": "2023-08-27T23:38:16.725295Z",
     "iopub.status.busy": "2023-08-27T23:38:16.725016Z",
     "iopub.status.idle": "2023-08-27T23:38:16.755230Z",
     "shell.execute_reply": "2023-08-27T23:38:16.754492Z",
     "shell.execute_reply.started": "2023-08-27T23:38:16.725276Z"
    }
   },
   "outputs": [],
   "source": [
    "df = pd.read_csv('./lit_data/dirty/aboulaich_table_1_dirty.csv')\n",
    "clean_data(df)\n",
    "df.to_csv('./lit_data/aboulaich_table_1_clean.csv', index=False)"
   ]
  },
  {
   "cell_type": "code",
   "execution_count": null,
   "id": "7f18e4ab",
   "metadata": {},
   "outputs": [],
   "source": []
  },
  {
   "cell_type": "code",
   "execution_count": null,
   "id": "e86e0650",
   "metadata": {},
   "outputs": [],
   "source": []
  },
  {
   "cell_type": "markdown",
   "id": "959dc26d",
   "metadata": {},
   "source": [
    "# Consolidation"
   ]
  },
  {
   "cell_type": "code",
   "execution_count": 14,
   "id": "91c7909c",
   "metadata": {
    "ExecuteTime": {
     "end_time": "2022-09-20T22:05:15.655491Z",
     "start_time": "2022-09-20T22:05:15.611319Z"
    },
    "execution": {
     "iopub.execute_input": "2023-08-27T23:38:17.543789Z",
     "iopub.status.busy": "2023-08-27T23:38:17.542410Z",
     "iopub.status.idle": "2023-08-27T23:38:17.586511Z",
     "shell.execute_reply": "2023-08-27T23:38:17.585596Z",
     "shell.execute_reply.started": "2023-08-27T23:38:17.543752Z"
    }
   },
   "outputs": [],
   "source": [
    "df_biophorum = pd.read_csv('./lit_data/biophorum_clean.csv')\n",
    "df_risk      = pd.read_csv('./lit_data/biophorum_high_risk_clean.csv')\n",
    "df_levy_4    = pd.read_csv('./lit_data/levy_2014_clean.csv')\n",
    "df_zhang     = pd.read_csv('./lit_data/zhang_table_2_clean.csv')\n",
    "df_levy_6    = pd.read_csv('./lit_data/levy_2016_clean.csv')\n",
    "df_molden    = pd.read_csv('./lit_data/molden_clean.csv')\n",
    "df_falk      = pd.read_csv('./lit_data/falkenberg_table_4_clean.csv')\n",
    "df_kreimer   = pd.read_csv('./lit_data/kreimer_table_1_clean.csv')\n",
    "\n",
    "dfs = [df_biophorum, df_risk, df_levy_4, df_zhang, df_levy_6, df_molden, df_falk, df_kreimer]\n",
    "papers = ['Biophorum DTR', 'Biophorum high-risk', 'Levy 2014 - Association', 'Zhang 2016 - Pro A', \n",
    "          'Levy 2016 - Coelution', 'Molden 2021 - 29 DS', 'Falkenberg 2019 - 6 DS', 'Kreimer 2017 - 1 DS']\n",
    "dois = ['10.1002/bit.27808', '10.1002/bit.27808', '10.1002/bit.25158', '10.1002/btpr.2272', '10.1002/bit.25882',\n",
    "       '10.1080/19420862.2021.1955811', '10.1002/btpr.2788', '10.1021/acs.analchem.6b04892']"
   ]
  },
  {
   "cell_type": "code",
   "execution_count": 15,
   "id": "49556c59",
   "metadata": {
    "ExecuteTime": {
     "end_time": "2022-09-20T22:10:35.857487Z",
     "start_time": "2022-09-20T22:10:35.786075Z"
    },
    "execution": {
     "iopub.execute_input": "2023-08-27T23:38:17.854471Z",
     "iopub.status.busy": "2023-08-27T23:38:17.854057Z",
     "iopub.status.idle": "2023-08-27T23:38:17.902319Z",
     "shell.execute_reply": "2023-08-27T23:38:17.901596Z",
     "shell.execute_reply.started": "2023-08-27T23:38:17.854439Z"
    }
   },
   "outputs": [],
   "source": [
    "name_list, desc_lower_list, desc_lower_2_list, paper_list, doi_list = [], [], [], [], []\n",
    "\n",
    "for (df, paper, doi) in zip(dfs, papers, dois):\n",
    "    for i, cont in df.iterrows():\n",
    "        name_list.append(cont.name)\n",
    "        desc_lower_list.append(cont.desc_lower)\n",
    "        desc_lower_2_list.append(cont.desc_lower_2)\n",
    "        paper_list.append(paper)\n",
    "        doi_list.append(doi)\n",
    "        \n",
    "df = pd.DataFrame({'name':name_list, 'desc_lower':desc_lower_list, 'desc_lower_2':desc_lower_2_list,\n",
    "                   'paper':paper_list, 'doi':doi_list})\n",
    "df.to_csv('./lit_data/combined.csv')"
   ]
  },
  {
   "cell_type": "code",
   "execution_count": null,
   "id": "e301fcc0",
   "metadata": {},
   "outputs": [],
   "source": []
  },
  {
   "cell_type": "code",
   "execution_count": null,
   "id": "66252b1f",
   "metadata": {},
   "outputs": [],
   "source": []
  },
  {
   "cell_type": "code",
   "execution_count": null,
   "id": "eb0a3056",
   "metadata": {},
   "outputs": [],
   "source": []
  },
  {
   "cell_type": "code",
   "execution_count": null,
   "id": "b3a664df",
   "metadata": {},
   "outputs": [],
   "source": []
  },
  {
   "cell_type": "code",
   "execution_count": null,
   "id": "c6c4841a",
   "metadata": {},
   "outputs": [],
   "source": []
  },
  {
   "cell_type": "code",
   "execution_count": null,
   "id": "6ff15834",
   "metadata": {},
   "outputs": [],
   "source": []
  }
 ],
 "metadata": {
  "kernelspec": {
   "display_name": "Python 3 (ipykernel)",
   "language": "python",
   "name": "python3"
  },
  "language_info": {
   "codemirror_mode": {
    "name": "ipython",
    "version": 3
   },
   "file_extension": ".py",
   "mimetype": "text/x-python",
   "name": "python",
   "nbconvert_exporter": "python",
   "pygments_lexer": "ipython3",
   "version": "3.11.5"
  }
 },
 "nbformat": 4,
 "nbformat_minor": 5
}
