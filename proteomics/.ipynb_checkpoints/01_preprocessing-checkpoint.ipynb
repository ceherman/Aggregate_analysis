{
 "cells": [
  {
   "cell_type": "code",
   "execution_count": 1,
   "id": "eea4dd83",
   "metadata": {
    "ExecuteTime": {
     "end_time": "2023-03-01T15:49:38.197587Z",
     "start_time": "2023-03-01T15:49:38.175134Z"
    },
    "execution": {
     "iopub.execute_input": "2023-08-27T23:38:56.322038Z",
     "iopub.status.busy": "2023-08-27T23:38:56.321617Z",
     "iopub.status.idle": "2023-08-27T23:38:56.343216Z",
     "shell.execute_reply": "2023-08-27T23:38:56.342026Z",
     "shell.execute_reply.started": "2023-08-27T23:38:56.322004Z"
    }
   },
   "outputs": [],
   "source": [
    "%load_ext autoreload\n",
    "%autoreload 2"
   ]
  },
  {
   "cell_type": "code",
   "execution_count": 3,
   "id": "769e7bdc",
   "metadata": {
    "ExecuteTime": {
     "end_time": "2023-03-01T15:49:40.158209Z",
     "start_time": "2023-03-01T15:49:38.783085Z"
    },
    "execution": {
     "iopub.execute_input": "2023-08-27T23:39:15.497478Z",
     "iopub.status.busy": "2023-08-27T23:39:15.496525Z",
     "iopub.status.idle": "2023-08-27T23:39:16.438450Z",
     "shell.execute_reply": "2023-08-27T23:39:16.437715Z",
     "shell.execute_reply.started": "2023-08-27T23:39:15.497448Z"
    }
   },
   "outputs": [],
   "source": [
    "import pandas as pd\n",
    "import numpy as np\n",
    "from scipy import optimize\n",
    "from scipy.stats import sem\n",
    "\n",
    "import os\n",
    "import sys\n",
    "\n",
    "import matplotlib.pyplot as plt\n",
    "import matplotlib.ticker\n",
    "from venn import venn, pseudovenn\n",
    "import seaborn as sns\n",
    "from matplotlib.collections import PathCollection\n",
    "\n",
    "from Bio import SeqIO, SeqUtils\n",
    "from Bio.SeqUtils.ProtParam import ProteinAnalysis\n",
    "\n",
    "from addict import Dict\n",
    "import json\n"
   ]
  },
  {
   "cell_type": "code",
   "execution_count": 4,
   "id": "be351da5",
   "metadata": {
    "ExecuteTime": {
     "end_time": "2023-03-01T15:49:40.184154Z",
     "start_time": "2023-03-01T15:49:40.159840Z"
    },
    "execution": {
     "iopub.execute_input": "2023-08-27T23:39:57.612830Z",
     "iopub.status.busy": "2023-08-27T23:39:57.612037Z",
     "iopub.status.idle": "2023-08-27T23:39:57.640679Z",
     "shell.execute_reply": "2023-08-27T23:39:57.639830Z",
     "shell.execute_reply.started": "2023-08-27T23:39:57.612783Z"
    }
   },
   "outputs": [],
   "source": [
    "sys.path.append(\"../\")\n",
    "import plotting as my_plot\n",
    "\n",
    "sys.path.append(\"/home/chase/my_repos/Misc_electrostatics/sim_vs_exp/mean_field_elect/\")\n",
    "import proteomics_functions as prot_fun\n",
    "import base_classes\n",
    "import morbidelli as m"
   ]
  },
  {
   "cell_type": "code",
   "execution_count": null,
   "id": "4db40f24",
   "metadata": {
    "ExecuteTime": {
     "end_time": "2022-08-13T23:02:38.536798Z",
     "start_time": "2022-08-13T23:02:38.512568Z"
    }
   },
   "outputs": [],
   "source": []
  },
  {
   "cell_type": "markdown",
   "id": "1c3f0dd7",
   "metadata": {},
   "source": [
    "# Load data"
   ]
  },
  {
   "cell_type": "code",
   "execution_count": 6,
   "id": "00aa7f48",
   "metadata": {
    "ExecuteTime": {
     "end_time": "2023-03-01T15:49:45.667662Z",
     "start_time": "2023-03-01T15:49:41.724958Z"
    },
    "execution": {
     "iopub.execute_input": "2023-08-27T23:40:59.865471Z",
     "iopub.status.busy": "2023-08-27T23:40:59.864494Z",
     "iopub.status.idle": "2023-08-27T23:41:02.608592Z",
     "shell.execute_reply": "2023-08-27T23:41:02.607837Z",
     "shell.execute_reply.started": "2023-08-27T23:40:59.865445Z"
    }
   },
   "outputs": [],
   "source": [
    "folder = './data/'\n",
    "dfs = Dict()\n",
    "\n",
    "file = pd.ExcelFile(folder + 'CH_CrossDigestNative_DDA.xlsx')\n",
    "dfs.native.hccf.feed  = file.parse('HCCF Feed')\n",
    "dfs.native.hccf.large = file.parse('HCCF Large Agg')\n",
    "dfs.native.hccf.small = file.parse('HCCF Small Agg')\n",
    "dfs.native.hccf.mab   = file.parse('HCCF mAb')\n",
    "dfs.native.hccf.lmw1  = file.parse('HCCF LMW 1')\n",
    "\n",
    "file = pd.ExcelFile(folder + 'CH_CrossDigestStandard_DDA.xlsx')\n",
    "dfs.std.pafvin.feed  = file.parse('PAFVIN feed')\n",
    "dfs.std.pafvin.large = file.parse('PAFVIN Large Agg')\n",
    "dfs.std.pafvin.small = file.parse('PAFVIN Small Agg')\n",
    "dfs.std.pafvin.mab   = file.parse('PAFVIN mAb')\n",
    "\n",
    "file = pd.ExcelFile(folder + 'CH_20220421_HCCF DDA zero.xlsx')\n",
    "dfs.std.hccf.feed  = file.parse('HCCF Feed')\n",
    "dfs.std.hccf.large = file.parse('HCCF Large Agg')\n",
    "dfs.std.hccf.small = file.parse('HCCF Small Agg')\n",
    "dfs.std.hccf.mab   = file.parse('HCCF mAb')\n",
    "dfs.std.hccf.lmw1  = file.parse('HCCF LMW1')\n",
    "dfs.std.hccf.lmw2  = file.parse('HCCF LMW2')\n",
    "\n",
    "file = pd.ExcelFile(folder + 'CH_20220421_PAFVIN DDA zero.xlsx')\n",
    "dfs.native.pafvin.feed  = file.parse('PAFVIN Feed')\n",
    "dfs.native.pafvin.large = file.parse('PAFVIN Large Agg')\n",
    "dfs.native.pafvin.small = file.parse('PAFVIN Small Agg')\n",
    "dfs.native.pafvin.mab   = file.parse('PAFVIN mAb')"
   ]
  },
  {
   "cell_type": "code",
   "execution_count": null,
   "id": "49e17e58-cda2-450e-8468-254be4690cfa",
   "metadata": {},
   "outputs": [],
   "source": []
  },
  {
   "cell_type": "markdown",
   "id": "9bfdf21c",
   "metadata": {},
   "source": [
    "# Remove non-CHO and reversed (decoy) proteins"
   ]
  },
  {
   "cell_type": "code",
   "execution_count": 14,
   "id": "2559b1b6",
   "metadata": {
    "ExecuteTime": {
     "end_time": "2023-03-01T15:50:03.108968Z",
     "start_time": "2023-03-01T15:50:03.087249Z"
    },
    "execution": {
     "iopub.execute_input": "2023-08-27T23:42:25.584571Z",
     "iopub.status.busy": "2023-08-27T23:42:25.583646Z",
     "iopub.status.idle": "2023-08-27T23:42:25.602015Z",
     "shell.execute_reply": "2023-08-27T23:42:25.600994Z",
     "shell.execute_reply.started": "2023-08-27T23:42:25.584522Z"
    }
   },
   "outputs": [],
   "source": [
    "def remove_non_CHO_and_reversed(df):\n",
    "    df = df[df['Name'].str.contains('Cricetulus griseus')]\n",
    "    df_rev = df[df['Accession'].str.contains('RRRRR')]\n",
    "    df = df[~df['Accession'].str.contains('RRRRR')]\n",
    "    df.reset_index(inplace=True, drop=True)\n",
    "    df_rev.reset_index(inplace=True, drop=True)\n",
    "    return df, df_rev"
   ]
  },
  {
   "cell_type": "code",
   "execution_count": 15,
   "id": "6481ee48",
   "metadata": {
    "ExecuteTime": {
     "end_time": "2023-03-01T15:50:04.534882Z",
     "start_time": "2023-03-01T15:50:04.414760Z"
    },
    "execution": {
     "iopub.execute_input": "2023-08-27T23:42:26.854707Z",
     "iopub.status.busy": "2023-08-27T23:42:26.854240Z",
     "iopub.status.idle": "2023-08-27T23:42:26.950299Z",
     "shell.execute_reply": "2023-08-27T23:42:26.949519Z",
     "shell.execute_reply.started": "2023-08-27T23:42:26.854673Z"
    }
   },
   "outputs": [],
   "source": [
    "dfs_rev = Dict()\n",
    "\n",
    "for digest in dfs.keys():\n",
    "    for source in dfs[digest].keys():\n",
    "        for frac in dfs[digest][source].keys():\n",
    "            dfs[digest][source][frac], df_rev = remove_non_CHO_and_reversed(dfs[digest][source][frac])\n",
    "            if not df_rev.empty:\n",
    "                dfs_rev[digest][source][frac] = df_rev"
   ]
  },
  {
   "cell_type": "markdown",
   "id": "2afcf512",
   "metadata": {},
   "source": [
    "## What confidence criteria were given to reversed proteins?"
   ]
  },
  {
   "cell_type": "code",
   "execution_count": 16,
   "id": "3a238769",
   "metadata": {
    "ExecuteTime": {
     "end_time": "2023-03-01T15:50:09.625001Z",
     "start_time": "2023-03-01T15:50:09.581907Z"
    },
    "execution": {
     "iopub.execute_input": "2023-08-27T23:42:33.208086Z",
     "iopub.status.busy": "2023-08-27T23:42:33.207664Z",
     "iopub.status.idle": "2023-08-27T23:42:33.232398Z",
     "shell.execute_reply": "2023-08-27T23:42:33.231418Z",
     "shell.execute_reply.started": "2023-08-27T23:42:33.208055Z"
    }
   },
   "outputs": [
    {
     "name": "stdout",
     "output_type": "stream",
     "text": [
      "hccf \t feed \t 1.24 \t 1 \t native\n",
      "hccf \t large \t 0.01 \t 1 \t native\n",
      "hccf \t small \t 1.68 \t 1 \t native\n",
      "hccf \t lmw1 \t 0.0 \t 1 \t native\n",
      "pafvin \t feed \t 2.0 \t 1 \t native\n",
      "pafvin \t mab \t 2.0 \t 1 \t native\n",
      "pafvin \t feed \t 2.0 \t 1 \t std\n",
      "pafvin \t small \t 2.0 \t 1 \t std\n",
      "pafvin \t mab \t 0.0 \t 1 \t std\n",
      "hccf \t large \t 2.0 \t 1 \t std\n",
      "hccf \t lmw2 \t 2.0 \t 1 \t std\n"
     ]
    }
   ],
   "source": [
    "for digest in dfs_rev.keys():\n",
    "    for source in dfs_rev[digest].keys():\n",
    "        for frac in dfs_rev[digest][source].keys():\n",
    "            df = dfs_rev[digest][source][frac]\n",
    "            print(source, '\\t', frac, '\\t', df.at[0, 'Unused'], '\\t', df.at[0, 'Peptides(95%)'], '\\t', digest)"
   ]
  },
  {
   "cell_type": "markdown",
   "id": "3e3882d0",
   "metadata": {},
   "source": [
    "# Select HCPs with $\\geq 2$ peptides"
   ]
  },
  {
   "cell_type": "code",
   "execution_count": 17,
   "id": "c6a4dea7",
   "metadata": {
    "ExecuteTime": {
     "end_time": "2023-03-01T15:50:25.614979Z",
     "start_time": "2023-03-01T15:50:25.550185Z"
    },
    "execution": {
     "iopub.execute_input": "2023-08-27T23:42:35.782288Z",
     "iopub.status.busy": "2023-08-27T23:42:35.781859Z",
     "iopub.status.idle": "2023-08-27T23:42:35.822345Z",
     "shell.execute_reply": "2023-08-27T23:42:35.821580Z",
     "shell.execute_reply.started": "2023-08-27T23:42:35.782257Z"
    }
   },
   "outputs": [],
   "source": [
    "for digest in dfs.keys():\n",
    "    for source in dfs[digest].keys():\n",
    "        for frac in dfs[digest][source].keys():\n",
    "            df = dfs[digest][source][frac]\n",
    "            df.drop(df[df['Peptides(95%)'] == 1].index, inplace=True)\n",
    "            df.reset_index(inplace=True, drop=True)"
   ]
  },
  {
   "cell_type": "markdown",
   "id": "fe0d3069",
   "metadata": {},
   "source": [
    "# Deal with the problem of $Unused \\; score = 0$\n",
    "\n",
    "Problem:  among multiple possible HCPs, only one needs to be selected, but this can lead to the appearance of different HCPs in different samples that should truly be treated as the same HCP.\n",
    "\n",
    "I plan to try to minimize the total number of HCPs in the union by selecting among HCP possibilities based on some ranking (eg. most confident identifications elswhere, etc.)."
   ]
  },
  {
   "cell_type": "code",
   "execution_count": 18,
   "id": "942c734f",
   "metadata": {
    "ExecuteTime": {
     "end_time": "2023-03-01T15:53:29.799094Z",
     "start_time": "2023-03-01T15:53:21.873674Z"
    },
    "execution": {
     "iopub.execute_input": "2023-08-27T23:42:38.006695Z",
     "iopub.status.busy": "2023-08-27T23:42:38.006086Z",
     "iopub.status.idle": "2023-08-27T23:42:41.983767Z",
     "shell.execute_reply": "2023-08-27T23:42:41.982504Z",
     "shell.execute_reply.started": "2023-08-27T23:42:38.006618Z"
    }
   },
   "outputs": [],
   "source": [
    "accn_groups = []\n",
    "single_ids = []\n",
    "\n",
    "for digest in dfs.keys():\n",
    "    for source in dfs[digest].keys():\n",
    "        for frac in dfs[digest][source].keys():\n",
    "            df = dfs[digest][source][frac]\n",
    "            if len(df) > 0:\n",
    "                n_vals = list(set(df.N))\n",
    "                n_vals.sort()\n",
    "                for n in n_vals:\n",
    "                    df_prot = df[df.N == n]\n",
    "                    accn_groups.append(list(df_prot.Accession))\n",
    "                    if len(df_prot) == 1:\n",
    "                        single_ids.append([digest, source, frac, df_prot.iloc[0]['Accession'], df_prot.iloc[0]['Unused'], df_prot.iloc[0]['Peptides(95%)']])\n",
    "                    \n",
    "unique_accn_groups = list(set(map(tuple, accn_groups)))\n",
    "df_singles = pd.DataFrame(single_ids, columns=['digest', 'source', 'frac', 'accn', 'unused', 'peptides'])"
   ]
  },
  {
   "cell_type": "code",
   "execution_count": 19,
   "id": "335221b2",
   "metadata": {
    "ExecuteTime": {
     "end_time": "2022-09-25T02:56:01.692291Z",
     "start_time": "2022-09-25T02:56:01.663891Z"
    },
    "execution": {
     "iopub.execute_input": "2023-08-27T23:42:42.927079Z",
     "iopub.status.busy": "2023-08-27T23:42:42.926428Z",
     "iopub.status.idle": "2023-08-27T23:42:42.958842Z",
     "shell.execute_reply": "2023-08-27T23:42:42.957959Z",
     "shell.execute_reply.started": "2023-08-27T23:42:42.926991Z"
    }
   },
   "outputs": [],
   "source": [
    "# Get frequency counts for HCPs\n",
    "hcp_freq = {}\n",
    "\n",
    "for digest in dfs.keys():\n",
    "    for source in dfs[digest].keys():\n",
    "        for frac in dfs[digest][source].keys():\n",
    "            df = dfs[digest][source][frac]\n",
    "            for a in df.Accession:\n",
    "                if a in hcp_freq.keys():\n",
    "                    hcp_freq[a] += 1\n",
    "                else:\n",
    "                    hcp_freq[a] = 1"
   ]
  },
  {
   "cell_type": "code",
   "execution_count": 20,
   "id": "5182faf1",
   "metadata": {
    "ExecuteTime": {
     "end_time": "2022-09-25T02:56:29.537250Z",
     "start_time": "2022-09-25T02:56:01.730660Z"
    },
    "execution": {
     "iopub.execute_input": "2023-08-27T23:42:46.135007Z",
     "iopub.status.busy": "2023-08-27T23:42:46.134581Z",
     "iopub.status.idle": "2023-08-27T23:43:02.433787Z",
     "shell.execute_reply": "2023-08-27T23:43:02.432789Z",
     "shell.execute_reply.started": "2023-08-27T23:42:46.134975Z"
    },
    "scrolled": true
   },
   "outputs": [],
   "source": [
    "# Select \"winner\" HCPs\n",
    "# 1) Are there multiple options? If not, the selection is unnecessary.\n",
    "# 2) If there are multiple options, narrow it down by taking the HCPs with the highest number of peptides. Then, are any of the HCPs found elsewhere as a singlet? \n",
    "#    If so, select the singlet that was identified with the greatest confidence (based on number of peptides, then the unused score)\n",
    "# 3) If none of the degenerate HCPs are ever found as singlets, check that I haven't already selected any of the HCPs (from 4 and 5 below).\n",
    "#    If previous selections have been made, take the one that has the higher frequency of previous selection, \n",
    "#    and if they all have the same frequency of previous selection, take the top one from the list of ordered accn ids.\n",
    "# 4) If none of the HCPs have been previously selected, does any one of the HCPs appear at a higher frequency? If so, select that one.\n",
    "# 5) If not, take the top entry in the list of ordered accn ids. \n",
    "\n",
    "# May need to unbias the bias toward large HCPs\n",
    "\n",
    "already_selected = {}\n",
    "\n",
    "for digest in dfs.keys():\n",
    "    for source in dfs[digest].keys():\n",
    "        for frac in dfs[digest][source].keys():\n",
    "            df = dfs[digest][source][frac]\n",
    "            df['selection'] = False\n",
    "            if len(df) > 0:\n",
    "                n_vals = list(set(df.N))\n",
    "                n_vals.sort()\n",
    "                for n in n_vals:\n",
    "                    df_prot = df[df.N == n]\n",
    "                    if len(df_prot) == 1:\n",
    "                        index = df_prot.index[0]\n",
    "                        df.at[index, 'selection'] = True\n",
    "                    else:\n",
    "                        df_prot = df_prot[df_prot['Peptides(95%)'] == df_prot['Peptides(95%)'].max()]\n",
    "                        df_single_test = df_singles[df_singles.accn.isin(list(df_prot.Accession))].copy()\n",
    "                        if len(df_single_test) > 0:\n",
    "                            df_single_test.sort_values(by=['peptides', 'unused'], inplace=True, ignore_index=True, ascending=False)\n",
    "                            accn_selection = df_single_test.at[0, 'accn']\n",
    "                            index = df_prot.loc[df_prot.Accession == accn_selection].index[0]\n",
    "                            df.at[index, 'selection'] = True\n",
    "                        else:\n",
    "                            df_already = df_prot[df_prot.Accession.isin(already_selected.keys())].copy()\n",
    "                            if len(df_already) == 0:\n",
    "                                temp = []\n",
    "                                for a in df_prot.Accession:\n",
    "                                    temp.append([a, hcp_freq[a]])\n",
    "                                df_freq = pd.DataFrame(temp, columns=['accn', 'freq'])\n",
    "                                df_freq.sort_values(by=['freq', 'accn'], inplace=True, ignore_index=True, ascending=False)\n",
    "                                accn_selection = df_freq.at[0, 'accn']\n",
    "                                index = df_prot.loc[df_prot.Accession == accn_selection].index[0]\n",
    "                                df.at[index, 'selection'] = True\n",
    "                                already_selected[accn_selection] = 1\n",
    "                            else:\n",
    "                                df_b = df_already.copy()\n",
    "                                for i, cont in df_already.iterrows():\n",
    "                                    df_already.at[i, 'freq'] = already_selected[cont.Accession]\n",
    "                                df_already.sort_values(by=['freq', 'Accession'], inplace=True, ignore_index=True, ascending=False)\n",
    "                                accn_selection = df_already.at[0, 'Accession']\n",
    "                                index = df_prot.loc[df_prot.Accession == accn_selection].index[0]\n",
    "                                df.at[index, 'selection'] = True\n",
    "                                already_selected[accn_selection] += 1                         "
   ]
  },
  {
   "cell_type": "code",
   "execution_count": 21,
   "id": "12f8b35b",
   "metadata": {
    "ExecuteTime": {
     "end_time": "2022-09-25T02:56:35.980783Z",
     "start_time": "2022-09-25T02:56:29.538999Z"
    },
    "execution": {
     "iopub.execute_input": "2023-08-27T23:43:08.062534Z",
     "iopub.status.busy": "2023-08-27T23:43:08.061665Z",
     "iopub.status.idle": "2023-08-27T23:43:11.727178Z",
     "shell.execute_reply": "2023-08-27T23:43:11.726175Z",
     "shell.execute_reply.started": "2023-08-27T23:43:08.062496Z"
    }
   },
   "outputs": [],
   "source": [
    "# Check\n",
    "for digest in dfs.keys():\n",
    "    for source in dfs[digest].keys():\n",
    "        for frac in dfs[digest][source].keys():\n",
    "            df = dfs[digest][source][frac]\n",
    "            assert df.selection.sum() - len(list(set(df.N))) == 0\n",
    "            if len(df) > 0:\n",
    "                n_vals = list(set(df.N))\n",
    "                n_vals.sort()\n",
    "                for n in n_vals:\n",
    "                    df_prot = df[df.N == n]\n",
    "                    assert df_prot.selection.sum() == 1            "
   ]
  },
  {
   "cell_type": "code",
   "execution_count": 22,
   "id": "3bad813c",
   "metadata": {
    "ExecuteTime": {
     "end_time": "2022-09-22T23:38:29.525347Z",
     "start_time": "2022-09-22T23:38:29.510625Z"
    },
    "execution": {
     "iopub.execute_input": "2023-08-27T23:43:15.502679Z",
     "iopub.status.busy": "2023-08-27T23:43:15.502246Z",
     "iopub.status.idle": "2023-08-27T23:43:15.525172Z",
     "shell.execute_reply": "2023-08-27T23:43:15.523813Z",
     "shell.execute_reply.started": "2023-08-27T23:43:15.502648Z"
    }
   },
   "outputs": [],
   "source": [
    "# # Only for reference\n",
    "\n",
    "# # Get all accn ids\n",
    "# all_accn = []\n",
    "# for digest in dfs.keys():\n",
    "#     for source in dfs[digest].keys():\n",
    "#         for frac in dfs[digest][source].keys():\n",
    "#             df = dfs[digest][source][frac]\n",
    "#             if len(df) > 0:\n",
    "#                 all_accn.append(list(df.Accession))\n",
    "                    \n",
    "# all_accn = list(set([item for sublist in all_accn for item in sublist]))\n",
    "# all_accn.sort()\n",
    "\n",
    "# # Get dictionary of alternative accn ids (at least in one of the degenerate HCP options)\n",
    "# aliases_dic = {}\n",
    "# for accn in all_accn:\n",
    "#     temp = [a for a in unique_accn_groups if accn in a]\n",
    "#     temp = list(set([item for sublist in temp for item in sublist]))\n",
    "#     temp.remove(accn) # N.B.\n",
    "#     temp.sort()\n",
    "#     aliases_dic[accn] = temp\n",
    "\n",
    "# # Instances where HCPs are unique in the given dataframe but not unique elsewhere\n",
    "# dfs_alias_hits = Dict() \n",
    "# for digest in dfs.keys():\n",
    "#     for source in dfs[digest].keys():\n",
    "#         for frac in dfs[digest][source].keys():\n",
    "#             df = dfs[digest][source][frac]\n",
    "#             if len(df) > 0:\n",
    "#                 df_nonzero = df[df.Unused > 0]\n",
    "#                 accn_list = list(df_nonzero.Accession)\n",
    "#                 temp = []\n",
    "#                 for a in accn_list:\n",
    "#                     aliases = aliases_dic[a]\n",
    "#                     for alias in aliases:\n",
    "#                         if alias in accn_list:\n",
    "#                             temp.append([a, alias])\n",
    "#                 dfs_alias_hits[digest][source][frac] = pd.DataFrame(temp, columns=['accn_1', 'accn_2'])\n",
    "#                 print(digest, source, frac, len(dfs_alias_hits[digest][source][frac]))"
   ]
  },
  {
   "cell_type": "code",
   "execution_count": null,
   "id": "d1c218c3",
   "metadata": {},
   "outputs": [],
   "source": []
  },
  {
   "cell_type": "code",
   "execution_count": null,
   "id": "86cfe778",
   "metadata": {},
   "outputs": [],
   "source": []
  },
  {
   "cell_type": "markdown",
   "id": "187a5245",
   "metadata": {},
   "source": [
    "# Get set of all proteins and a master dataframe with their locations"
   ]
  },
  {
   "cell_type": "code",
   "execution_count": 23,
   "id": "fc945db5",
   "metadata": {
    "ExecuteTime": {
     "end_time": "2022-09-25T02:56:54.932126Z",
     "start_time": "2022-09-25T02:56:47.104832Z"
    },
    "execution": {
     "iopub.execute_input": "2023-08-27T23:43:19.974248Z",
     "iopub.status.busy": "2023-08-27T23:43:19.973826Z",
     "iopub.status.idle": "2023-08-27T23:43:25.714668Z",
     "shell.execute_reply": "2023-08-27T23:43:25.713616Z",
     "shell.execute_reply.started": "2023-08-27T23:43:19.974216Z"
    }
   },
   "outputs": [],
   "source": [
    "names = {}\n",
    "\n",
    "for digest in dfs.keys():\n",
    "    for source in dfs[digest].keys():\n",
    "        for frac in dfs[digest][source].keys():\n",
    "            df = dfs[digest][source][frac]\n",
    "            df = df[df.selection]\n",
    "            for i, cont in df.iterrows():\n",
    "                names[cont['Accession']] = cont['Name']\n",
    "                \n",
    "df_master_1 = pd.DataFrame.from_dict(names, orient='index')\n",
    "df_master_1.reset_index(inplace=True)\n",
    "df_master_1.columns = ['accession', 'name']\n",
    "\n",
    "for digest in dfs.keys():\n",
    "    for source in dfs[digest].keys():\n",
    "        for frac in dfs[digest][source].keys():\n",
    "            df = dfs[digest][source][frac]\n",
    "            df = df[df.selection]\n",
    "            for i, cont in df_master_1.iterrows():\n",
    "                df_master_1.at[i, f'{digest}_{source}_{frac}'] = cont.accession in list(df['Accession'])"
   ]
  },
  {
   "cell_type": "code",
   "execution_count": 24,
   "id": "d1f3bfb3",
   "metadata": {
    "ExecuteTime": {
     "end_time": "2022-09-25T02:57:03.953514Z",
     "start_time": "2022-09-25T02:56:54.933690Z"
    },
    "execution": {
     "iopub.execute_input": "2023-08-27T23:43:26.649136Z",
     "iopub.status.busy": "2023-08-27T23:43:26.648021Z",
     "iopub.status.idle": "2023-08-27T23:43:33.406334Z",
     "shell.execute_reply": "2023-08-27T23:43:33.405584Z",
     "shell.execute_reply.started": "2023-08-27T23:43:26.649107Z"
    }
   },
   "outputs": [
    {
     "data": {
      "text/plain": [
       "(3124, 2668, 0.17091454272863568)"
      ]
     },
     "execution_count": 24,
     "metadata": {},
     "output_type": "execute_result"
    }
   ],
   "source": [
    "# For reference - if I had just selected the first species in each degenerate case\n",
    "\n",
    "names = {}\n",
    "\n",
    "for digest in dfs.keys():\n",
    "    for source in dfs[digest].keys():\n",
    "        for frac in dfs[digest][source].keys():\n",
    "            df = dfs[digest][source][frac]\n",
    "            df = df[df.Unused > 0]\n",
    "            for i, cont in df.iterrows():\n",
    "                names[cont['Accession']] = cont['Name']\n",
    "                \n",
    "df_master_dummy = pd.DataFrame.from_dict(names, orient='index')\n",
    "df_master_dummy.reset_index(inplace=True)\n",
    "df_master_dummy.columns = ['accession', 'name']\n",
    "\n",
    "for digest in dfs.keys():\n",
    "    for source in dfs[digest].keys():\n",
    "        for frac in dfs[digest][source].keys():\n",
    "            df = dfs[digest][source][frac]\n",
    "            df = df[df.Unused > 0]\n",
    "            for i, cont in df_master_dummy.iterrows():\n",
    "                df_master_dummy.at[i, f'{digest}_{source}_{frac}'] = cont.accession in list(df['Accession'])\n",
    "                \n",
    "len(df_master_dummy), len(df_master_1), (len(df_master_dummy) - len(df_master_1))/len(df_master_1)"
   ]
  },
  {
   "cell_type": "code",
   "execution_count": null,
   "id": "b73d55ab",
   "metadata": {
    "ExecuteTime": {
     "end_time": "2022-09-05T15:24:14.772872Z",
     "start_time": "2022-09-05T15:24:14.753924Z"
    }
   },
   "outputs": [],
   "source": []
  },
  {
   "cell_type": "markdown",
   "id": "06acb83b",
   "metadata": {
    "ExecuteTime": {
     "end_time": "2022-04-26T15:01:06.357816Z",
     "start_time": "2022-04-26T15:01:06.341631Z"
    }
   },
   "source": [
    "# Add sequences, pI values, and masses to the dataframe"
   ]
  },
  {
   "cell_type": "code",
   "execution_count": 25,
   "id": "f866ad0f",
   "metadata": {
    "ExecuteTime": {
     "end_time": "2022-09-22T23:40:40.370424Z",
     "start_time": "2022-09-22T23:40:40.350104Z"
    },
    "execution": {
     "iopub.execute_input": "2023-08-27T23:43:33.407446Z",
     "iopub.status.busy": "2023-08-27T23:43:33.407236Z",
     "iopub.status.idle": "2023-08-27T23:43:33.421481Z",
     "shell.execute_reply": "2023-08-27T23:43:33.420850Z",
     "shell.execute_reply.started": "2023-08-27T23:43:33.407432Z"
    }
   },
   "outputs": [],
   "source": [
    "# # Get new html links to look up sequences\n",
    "\n",
    "# html = ''\n",
    "# cnt = 0\n",
    "\n",
    "# for i, a in enumerate(df_master_1.accession):\n",
    "#     if i % 200 == 0:\n",
    "#         print(html[:-1], '\\n'*2)\n",
    "#         html = 'https://www.ncbi.nlm.nih.gov/protein/'        \n",
    "#     html += a + ','\n",
    "#     cnt += 1\n",
    "    \n",
    "# print(html[:-1], '\\n'*2)"
   ]
  },
  {
   "cell_type": "code",
   "execution_count": 26,
   "id": "93b91ff0",
   "metadata": {
    "ExecuteTime": {
     "end_time": "2022-09-20T22:32:41.542507Z",
     "start_time": "2022-09-20T22:32:41.483792Z"
    },
    "execution": {
     "iopub.execute_input": "2023-08-27T23:43:33.422504Z",
     "iopub.status.busy": "2023-08-27T23:43:33.422262Z",
     "iopub.status.idle": "2023-08-27T23:43:33.478978Z",
     "shell.execute_reply": "2023-08-27T23:43:33.478106Z",
     "shell.execute_reply.started": "2023-08-27T23:43:33.422485Z"
    }
   },
   "outputs": [],
   "source": [
    "# My substitution rules for uncertain amino acids\n",
    "my_sub_rules =\\\n",
    "{\n",
    "    'B':'D',\n",
    "    'Z':'E',\n",
    "    'X':'A',\n",
    "    'J':'L'\n",
    "}\n",
    "\n",
    "# Get sequence dictionary {accession:sequence_object}\n",
    "sequences = {}\n",
    "subbed_ids = []\n",
    "\n",
    "for r in SeqIO.parse(\"./data/sequences.fasta\", \"fasta\"):\n",
    "    for aa in my_sub_rules.keys(): # uncertain amino acids\n",
    "        if aa in r.seq:\n",
    "            r.seq = r.seq.replace(aa, my_sub_rules[aa])\n",
    "            subbed_ids.append(r.id)\n",
    "    sequences[r.id] = r.seq"
   ]
  },
  {
   "cell_type": "code",
   "execution_count": 27,
   "id": "e15341ca",
   "metadata": {
    "ExecuteTime": {
     "end_time": "2022-09-20T22:32:41.557154Z",
     "start_time": "2022-09-20T22:32:41.543500Z"
    },
    "execution": {
     "iopub.execute_input": "2023-08-27T23:43:33.481148Z",
     "iopub.status.busy": "2023-08-27T23:43:33.480679Z",
     "iopub.status.idle": "2023-08-27T23:43:33.495585Z",
     "shell.execute_reply": "2023-08-27T23:43:33.494686Z",
     "shell.execute_reply.started": "2023-08-27T23:43:33.481131Z"
    }
   },
   "outputs": [],
   "source": [
    "# missing = []\n",
    "# for i, cont in df_master_1.iterrows():\n",
    "#     if cont.accession not in list(sequences.keys()):\n",
    "#         missing.append(cont.accession)"
   ]
  },
  {
   "cell_type": "code",
   "execution_count": 28,
   "id": "6d09ebb3",
   "metadata": {
    "ExecuteTime": {
     "end_time": "2022-09-20T22:32:41.572563Z",
     "start_time": "2022-09-20T22:32:41.558071Z"
    },
    "execution": {
     "iopub.execute_input": "2023-08-27T23:43:33.497092Z",
     "iopub.status.busy": "2023-08-27T23:43:33.496554Z",
     "iopub.status.idle": "2023-08-27T23:43:33.513327Z",
     "shell.execute_reply": "2023-08-27T23:43:33.512063Z",
     "shell.execute_reply.started": "2023-08-27T23:43:33.497068Z"
    }
   },
   "outputs": [],
   "source": [
    "# for accn in df_master_1.accession:\n",
    "#     assert accn in sequences.keys()"
   ]
  },
  {
   "cell_type": "code",
   "execution_count": 29,
   "id": "67b15c82",
   "metadata": {
    "ExecuteTime": {
     "end_time": "2022-09-20T22:28:54.140527Z",
     "start_time": "2022-09-20T22:27:57.845124Z"
    },
    "execution": {
     "iopub.execute_input": "2023-08-27T23:43:33.515679Z",
     "iopub.status.busy": "2023-08-27T23:43:33.515395Z",
     "iopub.status.idle": "2023-08-27T23:44:12.398607Z",
     "shell.execute_reply": "2023-08-27T23:44:12.397483Z",
     "shell.execute_reply.started": "2023-08-27T23:43:33.515657Z"
    }
   },
   "outputs": [
    {
     "name": "stderr",
     "output_type": "stream",
     "text": [
      "/home/chase/psi4conda/envs/jupyter/lib/python3.11/site-packages/scipy/optimize/_minpack_py.py:177: RuntimeWarning: The iteration is not making good progress, as measured by the \n",
      "  improvement from the last ten iterations.\n",
      "  warnings.warn(msg, RuntimeWarning)\n"
     ]
    }
   ],
   "source": [
    "# Get pI and mass dictionaries {accession:pI/mass}\n",
    "pI_vals = {}\n",
    "masses = {}\n",
    "\n",
    "for p_id, seq in sequences.items():\n",
    "    pI, is_solved = prot_fun.get_pI(seq)\n",
    "    assert is_solved\n",
    "    pI_vals[p_id] = pI\n",
    "    masses[p_id] = SeqUtils.molecular_weight(seq, seq_type='protein')"
   ]
  },
  {
   "cell_type": "code",
   "execution_count": 30,
   "id": "5e930f84",
   "metadata": {
    "ExecuteTime": {
     "end_time": "2022-09-20T22:32:41.906775Z",
     "start_time": "2022-09-20T22:32:41.573543Z"
    },
    "execution": {
     "iopub.execute_input": "2023-08-27T23:44:12.400630Z",
     "iopub.status.busy": "2023-08-27T23:44:12.399822Z",
     "iopub.status.idle": "2023-08-27T23:44:12.707329Z",
     "shell.execute_reply": "2023-08-27T23:44:12.706270Z",
     "shell.execute_reply.started": "2023-08-27T23:44:12.400593Z"
    }
   },
   "outputs": [],
   "source": [
    "# Add sequences, pI values, and masses to df_master_1\n",
    "for i, cont in df_master_1.iterrows():\n",
    "    df_master_1.at[i, 'sequence'] = str(sequences[cont.accession])\n",
    "    df_master_1.at[i, 'pI'] = pI_vals[cont.accession]\n",
    "    df_master_1.at[i, 'mass'] = masses[cont.accession]"
   ]
  },
  {
   "cell_type": "code",
   "execution_count": 31,
   "id": "106b6c18",
   "metadata": {
    "ExecuteTime": {
     "end_time": "2022-09-20T22:32:47.148606Z",
     "start_time": "2022-09-20T22:32:41.907773Z"
    },
    "execution": {
     "iopub.execute_input": "2023-08-27T23:44:12.708688Z",
     "iopub.status.busy": "2023-08-27T23:44:12.708505Z",
     "iopub.status.idle": "2023-08-27T23:44:16.436958Z",
     "shell.execute_reply": "2023-08-27T23:44:16.436003Z",
     "shell.execute_reply.started": "2023-08-27T23:44:12.708674Z"
    }
   },
   "outputs": [],
   "source": [
    "# Get other biophysical property dictionaries (assuming pH 7.0)\n",
    "net_charges, net_neg_charges, net_pos_charges, charge_densities, charge_densities_neg, charge_densities_pos = {}, {}, {}, {}, {}, {}\n",
    "\n",
    "for p_id, seq in sequences.items():\n",
    "    net_charge, net_neg_charge, net_pos_charge, charge_dens, charge_dens_neg, charge_dens_pos = prot_fun.get_charge(pH=7.0, seq=seq, charge_contributions=True)\n",
    "    net_charges[p_id] = net_charge\n",
    "    net_neg_charges[p_id] = net_neg_charge\n",
    "    net_pos_charges[p_id] = net_pos_charge\n",
    "    charge_densities[p_id] = charge_dens\n",
    "    charge_densities_neg[p_id] = charge_dens_neg\n",
    "    charge_densities_pos[p_id] = charge_dens_pos"
   ]
  },
  {
   "cell_type": "code",
   "execution_count": 32,
   "id": "b8b3d696",
   "metadata": {
    "ExecuteTime": {
     "end_time": "2022-09-20T22:32:47.601164Z",
     "start_time": "2022-09-20T22:32:47.149641Z"
    },
    "execution": {
     "iopub.execute_input": "2023-08-27T23:44:16.438670Z",
     "iopub.status.busy": "2023-08-27T23:44:16.438126Z",
     "iopub.status.idle": "2023-08-27T23:44:17.059941Z",
     "shell.execute_reply": "2023-08-27T23:44:17.059324Z",
     "shell.execute_reply.started": "2023-08-27T23:44:16.438642Z"
    }
   },
   "outputs": [],
   "source": [
    "# Add these biophysical properties to df_master_1\n",
    "for i, cont in df_master_1.iterrows():\n",
    "    df_master_1.at[i, 'net_charge'] = net_charges[cont.accession]\n",
    "    df_master_1.at[i, 'net_charge_neg'] = net_neg_charges[cont.accession]\n",
    "    df_master_1.at[i, 'net_charge_pos'] = net_pos_charges[cont.accession]\n",
    "    df_master_1.at[i, 'charge_dens_C_m2'] = charge_densities[cont.accession]\n",
    "    df_master_1.at[i, 'charge_dens_neg_C_m2'] = charge_densities_neg[cont.accession]\n",
    "    df_master_1.at[i, 'charge_dens_pos_C_m2'] = charge_densities_pos[cont.accession]"
   ]
  },
  {
   "cell_type": "code",
   "execution_count": 33,
   "id": "4389ade2",
   "metadata": {
    "ExecuteTime": {
     "end_time": "2022-09-20T22:32:47.621934Z",
     "start_time": "2022-09-20T22:32:47.602211Z"
    },
    "execution": {
     "iopub.execute_input": "2023-08-27T23:44:17.061006Z",
     "iopub.status.busy": "2023-08-27T23:44:17.060667Z",
     "iopub.status.idle": "2023-08-27T23:44:17.215061Z",
     "shell.execute_reply": "2023-08-27T23:44:17.213271Z",
     "shell.execute_reply.started": "2023-08-27T23:44:17.060991Z"
    }
   },
   "outputs": [
    {
     "name": "stdout",
     "output_type": "stream",
     "text": [
      "[] []\n"
     ]
    }
   ],
   "source": [
    "# Check for duplicate sequences (i.e. degeneracy of accession numbers corresponding to a single sequence)\n",
    "sequence_dict = {}\n",
    "for i, s in enumerate(df_master_1.sequence):\n",
    "    if s in sequence_dict.keys():\n",
    "        sequence_dict[s].append(i)\n",
    "    else:\n",
    "        sequence_dict[s] = [i]\n",
    "        \n",
    "dup_seq = [s for s, indeces in sequence_dict.items() if len(indeces) > 1]\n",
    "dup_seq_indeces = [indeces for n, indeces in sequence_dict.items() if len(indeces) > 1]\n",
    "\n",
    "print(dup_seq, dup_seq_indeces)"
   ]
  },
  {
   "cell_type": "code",
   "execution_count": 34,
   "id": "9f8e2a1e",
   "metadata": {
    "ExecuteTime": {
     "end_time": "2022-09-20T22:32:48.036648Z",
     "start_time": "2022-09-20T22:32:47.622962Z"
    },
    "execution": {
     "iopub.execute_input": "2023-08-27T23:44:17.217584Z",
     "iopub.status.busy": "2023-08-27T23:44:17.217103Z",
     "iopub.status.idle": "2023-08-27T23:44:17.580032Z",
     "shell.execute_reply": "2023-08-27T23:44:17.578937Z",
     "shell.execute_reply.started": "2023-08-27T23:44:17.217545Z"
    }
   },
   "outputs": [],
   "source": [
    "# Get cysteine content\n",
    "for i, cont in df_master_1.iterrows():\n",
    "    x = ProteinAnalysis(str(sequences[cont.accession]))\n",
    "    df_master_1.at[i, 'cysteine_cont_percent'] = x.get_amino_acids_percent()['C'] * 100\n",
    "    df_master_1.at[i, 'cysteine_num'] = x.count_amino_acids()['C']"
   ]
  },
  {
   "cell_type": "code",
   "execution_count": 35,
   "id": "397cd2b4",
   "metadata": {
    "ExecuteTime": {
     "end_time": "2022-09-20T22:32:48.053985Z",
     "start_time": "2022-09-20T22:32:48.037660Z"
    },
    "execution": {
     "iopub.execute_input": "2023-08-27T23:44:17.581074Z",
     "iopub.status.busy": "2023-08-27T23:44:17.580908Z",
     "iopub.status.idle": "2023-08-27T23:44:17.597590Z",
     "shell.execute_reply": "2023-08-27T23:44:17.596931Z",
     "shell.execute_reply.started": "2023-08-27T23:44:17.581059Z"
    }
   },
   "outputs": [],
   "source": [
    "# Drop sequences for readability\n",
    "try:\n",
    "    df_master_1.drop(columns=['sequence'], inplace=True)\n",
    "except:\n",
    "    pass"
   ]
  },
  {
   "cell_type": "code",
   "execution_count": null,
   "id": "a3a81cf5",
   "metadata": {},
   "outputs": [],
   "source": []
  },
  {
   "cell_type": "markdown",
   "id": "6eca9635",
   "metadata": {},
   "source": [
    "# Combine entries with identically repeated names"
   ]
  },
  {
   "cell_type": "code",
   "execution_count": 36,
   "id": "b20982a1",
   "metadata": {
    "ExecuteTime": {
     "end_time": "2022-09-20T22:32:48.076031Z",
     "start_time": "2022-09-20T22:32:48.055019Z"
    },
    "execution": {
     "iopub.execute_input": "2023-08-27T23:45:57.599160Z",
     "iopub.status.busy": "2023-08-27T23:45:57.598693Z",
     "iopub.status.idle": "2023-08-27T23:45:57.620444Z",
     "shell.execute_reply": "2023-08-27T23:45:57.619407Z",
     "shell.execute_reply.started": "2023-08-27T23:45:57.599126Z"
    }
   },
   "outputs": [],
   "source": [
    "hcp_names = {}\n",
    "for i, n in enumerate(df_master_1.name):\n",
    "    if n in hcp_names.keys():\n",
    "        hcp_names[n].append(i)\n",
    "    else:\n",
    "        hcp_names[n] = [i]\n",
    "        \n",
    "dup_names = [n for n, indeces in hcp_names.items() if len(indeces) > 1]\n",
    "dup_indeces = [indeces for n, indeces in hcp_names.items() if len(indeces) > 1]\n",
    "dup_indeces_flat = [item for sublist in dup_indeces for item in sublist]\n",
    "\n",
    "n_dup_max = max([len(sublist) for sublist in dup_indeces])"
   ]
  },
  {
   "cell_type": "code",
   "execution_count": 37,
   "id": "f21d9b04",
   "metadata": {
    "ExecuteTime": {
     "end_time": "2022-09-20T22:32:48.107367Z",
     "start_time": "2022-09-20T22:32:48.077116Z"
    },
    "execution": {
     "iopub.execute_input": "2023-08-27T23:45:58.239440Z",
     "iopub.status.busy": "2023-08-27T23:45:58.238521Z",
     "iopub.status.idle": "2023-08-27T23:45:58.271668Z",
     "shell.execute_reply": "2023-08-27T23:45:58.270765Z",
     "shell.execute_reply.started": "2023-08-27T23:45:58.239406Z"
    }
   },
   "outputs": [
    {
     "name": "stdout",
     "output_type": "stream",
     "text": [
      "[90, 2616] \t std_hccf_large \t elongation factor 1-alpha 1 [Cricetulus griseus]\n",
      "[650, 1005] \t native_hccf_feed \t 10 kDa heat shock protein, mitochondrial [Cricetulus griseus]\n",
      "[650, 1005] \t native_hccf_lmw1 \t 10 kDa heat shock protein, mitochondrial [Cricetulus griseus]\n",
      "[650, 1005] \t std_hccf_lmw2 \t 10 kDa heat shock protein, mitochondrial [Cricetulus griseus]\n",
      "[772, 1015] \t native_hccf_feed \t beta-hexosaminidase subunit beta isoform X2 [Cricetulus griseus]\n",
      "[772, 1015] \t native_hccf_small \t beta-hexosaminidase subunit beta isoform X2 [Cricetulus griseus]\n",
      "[772, 1015] \t native_pafvin_large \t beta-hexosaminidase subunit beta isoform X2 [Cricetulus griseus]\n"
     ]
    }
   ],
   "source": [
    "for indeces in dup_indeces:\n",
    "    df_temp = df_master_1.iloc[indeces]\n",
    "    for sample in ['native_hccf_feed', 'native_hccf_large',\n",
    "                   'native_hccf_small', 'native_hccf_mab', 'native_hccf_lmw1',\n",
    "                   'native_pafvin_feed', 'native_pafvin_large', 'native_pafvin_small',\n",
    "                   'native_pafvin_mab', 'std_pafvin_feed', 'std_pafvin_large',\n",
    "                   'std_pafvin_small', 'std_pafvin_mab', 'std_hccf_feed', 'std_hccf_large',\n",
    "                   'std_hccf_small', 'std_hccf_mab', 'std_hccf_lmw1', 'std_hccf_lmw2']:\n",
    "        if df_temp[sample].sum() > 1:\n",
    "            print(indeces, '\\t', sample,  '\\t', df_temp.at[indeces[0], 'name'])\n",
    "    "
   ]
  },
  {
   "cell_type": "code",
   "execution_count": 38,
   "id": "1ea1f0bc",
   "metadata": {
    "ExecuteTime": {
     "end_time": "2022-09-20T22:32:48.124427Z",
     "start_time": "2022-09-20T22:32:48.108336Z"
    },
    "execution": {
     "iopub.execute_input": "2023-08-27T23:45:58.669653Z",
     "iopub.status.busy": "2023-08-27T23:45:58.669226Z",
     "iopub.status.idle": "2023-08-27T23:45:58.689106Z",
     "shell.execute_reply": "2023-08-27T23:45:58.688207Z",
     "shell.execute_reply.started": "2023-08-27T23:45:58.669621Z"
    }
   },
   "outputs": [],
   "source": [
    "# df_master_1.iloc[dup_indeces_flat]"
   ]
  },
  {
   "cell_type": "code",
   "execution_count": null,
   "id": "bf6a4fbf",
   "metadata": {
    "ExecuteTime": {
     "end_time": "2022-04-27T16:09:11.541552Z",
     "start_time": "2022-04-27T16:09:11.496163Z"
    }
   },
   "outputs": [],
   "source": []
  },
  {
   "cell_type": "code",
   "execution_count": 39,
   "id": "a1fea33a",
   "metadata": {
    "ExecuteTime": {
     "end_time": "2022-09-20T22:32:48.180709Z",
     "start_time": "2022-09-20T22:32:48.125469Z"
    },
    "execution": {
     "iopub.execute_input": "2023-08-27T23:45:59.742588Z",
     "iopub.status.busy": "2023-08-27T23:45:59.742176Z",
     "iopub.status.idle": "2023-08-27T23:45:59.796464Z",
     "shell.execute_reply": "2023-08-27T23:45:59.794968Z",
     "shell.execute_reply.started": "2023-08-27T23:45:59.742556Z"
    }
   },
   "outputs": [],
   "source": [
    "unique_names = df_master_1.iloc[~df_master_1.index.isin(dup_indeces_flat)].copy()\n",
    "unique_names.reset_index(inplace=True, drop=True)\n",
    "unique_names.rename(columns={'accession':'accession_0', 'pI':'pI_0', 'mass':'mass_0', 'net_charge':'net_charge_0', \n",
    "                             'net_charge_neg':'net_charge_neg_0', 'net_charge_pos':'net_charge_pos_0',\n",
    "                             'charge_dens_C_m2':'charge_dens_C_m2_0', 'charge_dens_neg_C_m2':'charge_dens_neg_C_m2_0', \n",
    "                             'charge_dens_pos_C_m2':'charge_dens_pos_C_m2_0', 'cysteine_cont_percent':'cysteine_cont_percent_0',\n",
    "                             'cysteine_num':'cysteine_num_0'}, inplace=True)\n",
    "\n",
    "for n in dup_names:\n",
    "    df = df_master_1.iloc[hcp_names[n]].copy()\n",
    "    df.reset_index(inplace=True, drop=True)\n",
    "    combined_entry = {}\n",
    "    \n",
    "    for i, cont in df.iterrows():\n",
    "        for column in ['accession', 'pI', 'mass', 'net_charge', 'net_charge_neg', 'net_charge_pos',\n",
    "                       'charge_dens_C_m2', 'charge_dens_neg_C_m2', 'charge_dens_pos_C_m2',\n",
    "                       'cysteine_cont_percent', 'cysteine_num']:\n",
    "            combined_entry[f'{column}_{i}'] = [cont[column]]\n",
    "        \n",
    "        if i == 0:\n",
    "            combined_entry['name'] = [cont['name']]\n",
    "    \n",
    "    for sample in ['native_hccf_feed', 'native_hccf_large',\n",
    "                   'native_hccf_small', 'native_hccf_mab', 'native_hccf_lmw1',\n",
    "                   'native_pafvin_feed', 'native_pafvin_large', 'native_pafvin_small',\n",
    "                   'native_pafvin_mab', 'std_pafvin_feed', 'std_pafvin_large',\n",
    "                   'std_pafvin_small', 'std_pafvin_mab', 'std_hccf_feed', 'std_hccf_large',\n",
    "                   'std_hccf_small', 'std_hccf_mab', 'std_hccf_lmw1', 'std_hccf_lmw2']:\n",
    "        combined_entry[sample] = [True in list(df[sample])]\n",
    "    \n",
    "    df_temp = pd.DataFrame(combined_entry)\n",
    "    unique_names = pd.concat([unique_names, df_temp], ignore_index=True)"
   ]
  },
  {
   "cell_type": "code",
   "execution_count": 40,
   "id": "69c69e8c",
   "metadata": {
    "ExecuteTime": {
     "end_time": "2022-09-20T22:32:48.214761Z",
     "start_time": "2022-09-20T22:32:48.181755Z"
    },
    "execution": {
     "iopub.execute_input": "2023-08-27T23:46:00.453827Z",
     "iopub.status.busy": "2023-08-27T23:46:00.453398Z",
     "iopub.status.idle": "2023-08-27T23:46:00.510242Z",
     "shell.execute_reply": "2023-08-27T23:46:00.509267Z",
     "shell.execute_reply.started": "2023-08-27T23:46:00.453796Z"
    }
   },
   "outputs": [],
   "source": [
    "pI_columns = []\n",
    "mass_columns = []\n",
    "net_charge_columns = []\n",
    "net_charge_neg_columns = []\n",
    "net_charge_pos_columns = []\n",
    "charge_dens_C_m2_columns = []\n",
    "charge_dens_neg_C_m2_columns = []\n",
    "charge_dens_pos_C_m2_columns = []\n",
    "cysteine_cont_percent_columns = []\n",
    "cysteine_num_columns = []\n",
    "\n",
    "for i in range(n_dup_max):\n",
    "    pI_columns.append(f'pI_{i}')\n",
    "    mass_columns.append(f'mass_{i}')\n",
    "    net_charge_columns.append(f'net_charge_{i}')\n",
    "    net_charge_neg_columns.append(f'net_charge_neg_{i}')\n",
    "    net_charge_pos_columns.append(f'net_charge_pos_{i}')\n",
    "    charge_dens_C_m2_columns.append(f'charge_dens_C_m2_{i}')\n",
    "    charge_dens_neg_C_m2_columns.append(f'charge_dens_neg_C_m2_{i}')\n",
    "    charge_dens_pos_C_m2_columns.append(f'charge_dens_pos_C_m2_{i}')\n",
    "    cysteine_cont_percent_columns.append(f'cysteine_cont_percent_{i}')\n",
    "    cysteine_num_columns.append(f'cysteine_num_{i}')\n",
    "    \n",
    "unique_names['pI_mean'] = unique_names[pI_columns].mean(axis=1)\n",
    "unique_names['mass_mean'] = unique_names[mass_columns].mean(axis=1)\n",
    "unique_names['net_charge_mean'] = unique_names[net_charge_columns].mean(axis=1)\n",
    "unique_names['net_charge_neg_mean'] = unique_names[net_charge_neg_columns].mean(axis=1)\n",
    "unique_names['net_charge_pos_mean'] = unique_names[net_charge_pos_columns].mean(axis=1)\n",
    "unique_names['charge_dens_C_m2_mean'] = unique_names[charge_dens_C_m2_columns].mean(axis=1)\n",
    "unique_names['charge_dens_neg_C_m2_mean'] = unique_names[charge_dens_neg_C_m2_columns].mean(axis=1)\n",
    "unique_names['charge_dens_pos_C_m2_mean'] = unique_names[charge_dens_pos_C_m2_columns].mean(axis=1)\n",
    "unique_names['cysteine_cont_percent_mean'] = unique_names[cysteine_cont_percent_columns].mean(axis=1)\n",
    "unique_names['cysteine_num_mean'] = unique_names[cysteine_num_columns].mean(axis=1)"
   ]
  },
  {
   "cell_type": "code",
   "execution_count": null,
   "id": "50d6d9c8",
   "metadata": {},
   "outputs": [],
   "source": []
  },
  {
   "cell_type": "markdown",
   "id": "ec73c059",
   "metadata": {},
   "source": [
    "# Save master dataframe"
   ]
  },
  {
   "cell_type": "code",
   "execution_count": 41,
   "id": "90a44646",
   "metadata": {
    "ExecuteTime": {
     "end_time": "2022-09-20T22:32:48.449154Z",
     "start_time": "2022-09-20T22:32:48.215968Z"
    },
    "execution": {
     "iopub.execute_input": "2023-08-27T23:46:01.965299Z",
     "iopub.status.busy": "2023-08-27T23:46:01.964862Z",
     "iopub.status.idle": "2023-08-27T23:46:02.146209Z",
     "shell.execute_reply": "2023-08-27T23:46:02.145192Z",
     "shell.execute_reply.started": "2023-08-27T23:46:01.965270Z"
    }
   },
   "outputs": [],
   "source": [
    "df_master = unique_names\n",
    "for i, cont in df_master.iterrows():\n",
    "    text = cont['name'].replace(' [Cricetulus griseus]', '')\n",
    "    df_master.at[i, 'desc_lower'] = text.lower()"
   ]
  },
  {
   "cell_type": "code",
   "execution_count": 42,
   "id": "dc764bb6",
   "metadata": {
    "ExecuteTime": {
     "end_time": "2022-09-20T22:32:48.470151Z",
     "start_time": "2022-09-20T22:32:48.450262Z"
    },
    "execution": {
     "iopub.execute_input": "2023-08-27T23:46:02.584535Z",
     "iopub.status.busy": "2023-08-27T23:46:02.584114Z",
     "iopub.status.idle": "2023-08-27T23:46:02.609215Z",
     "shell.execute_reply": "2023-08-27T23:46:02.607906Z",
     "shell.execute_reply.started": "2023-08-27T23:46:02.584504Z"
    }
   },
   "outputs": [],
   "source": [
    "df_master = df_master[['accession_0', 'name', 'std_hccf_feed', 'std_hccf_large',\n",
    "                       'std_hccf_small', 'std_hccf_mab', 'std_hccf_lmw1', 'std_hccf_lmw2',\n",
    "                       'native_hccf_feed', 'native_hccf_large', 'native_hccf_small', \n",
    "                       'native_hccf_mab', 'native_hccf_lmw1', 'std_pafvin_feed', 'std_pafvin_large',\n",
    "                       'std_pafvin_small', 'std_pafvin_mab', 'native_pafvin_feed', \n",
    "                       'native_pafvin_large', 'native_pafvin_small', 'native_pafvin_mab', \n",
    "                       'pI_mean', 'mass_mean', 'cysteine_cont_percent_mean', 'cysteine_num_mean',\n",
    "                       'net_charge_mean', 'net_charge_neg_mean', 'net_charge_pos_mean', \n",
    "                       'charge_dens_C_m2_mean', 'charge_dens_neg_C_m2_mean', 'charge_dens_pos_C_m2_mean',\n",
    "                       'pI_0', 'mass_0', 'net_charge_0', 'net_charge_neg_0',\n",
    "                       'net_charge_pos_0', 'charge_dens_C_m2_0', 'charge_dens_neg_C_m2_0',\n",
    "                       'charge_dens_pos_C_m2_0', 'accession_1', 'pI_1', 'mass_1',\n",
    "                       'net_charge_1', 'net_charge_neg_1', 'net_charge_pos_1',\n",
    "                       'charge_dens_C_m2_1', 'charge_dens_neg_C_m2_1',\n",
    "                       'charge_dens_pos_C_m2_1', 'accession_2', 'pI_2', 'mass_2',\n",
    "                       'net_charge_2', 'net_charge_neg_2', 'net_charge_pos_2',\n",
    "                       'charge_dens_C_m2_2', 'charge_dens_neg_C_m2_2',\n",
    "                       'charge_dens_pos_C_m2_2', \n",
    "                       'cysteine_cont_percent_0', 'cysteine_num_0', 'cysteine_cont_percent_1', 'cysteine_num_1',\n",
    "                       'cysteine_cont_percent_2', 'cysteine_num_2',\n",
    "                       'desc_lower']]"
   ]
  },
  {
   "cell_type": "code",
   "execution_count": 43,
   "id": "94a3cfb6",
   "metadata": {
    "ExecuteTime": {
     "end_time": "2022-09-20T22:33:18.872273Z",
     "start_time": "2022-09-20T22:33:18.600865Z"
    },
    "execution": {
     "iopub.execute_input": "2023-08-27T23:46:03.093280Z",
     "iopub.status.busy": "2023-08-27T23:46:03.092878Z",
     "iopub.status.idle": "2023-08-27T23:46:03.297511Z",
     "shell.execute_reply": "2023-08-27T23:46:03.296534Z",
     "shell.execute_reply.started": "2023-08-27T23:46:03.093252Z"
    }
   },
   "outputs": [
    {
     "name": "stderr",
     "output_type": "stream",
     "text": [
      "/tmp/ipykernel_28530/4101303392.py:6: SettingWithCopyWarning: \n",
      "A value is trying to be set on a copy of a slice from a DataFrame.\n",
      "Try using .loc[row_indexer,col_indexer] = value instead\n",
      "\n",
      "See the caveats in the documentation: https://pandas.pydata.org/pandas-docs/stable/user_guide/indexing.html#returning-a-view-versus-a-copy\n",
      "  df_master.at[i, 'desc_lower_2'] = desc_lower_2\n"
     ]
    }
   ],
   "source": [
    "for i, cont in df_master.iterrows():\n",
    "    desc_lower_2 = cont.desc_lower[:]\n",
    "    desc_lower_2 = desc_lower_2.replace('-', ' ')\n",
    "    desc_lower_2 = desc_lower_2.replace('_', ' ')\n",
    "    desc_lower_2 = desc_lower_2.replace(',', '')\n",
    "    df_master.at[i, 'desc_lower_2'] = desc_lower_2"
   ]
  },
  {
   "cell_type": "code",
   "execution_count": 44,
   "id": "a45e93cb",
   "metadata": {
    "ExecuteTime": {
     "end_time": "2022-09-20T22:33:20.573048Z",
     "start_time": "2022-09-20T22:33:20.440842Z"
    },
    "execution": {
     "iopub.execute_input": "2023-08-27T23:46:03.494992Z",
     "iopub.status.busy": "2023-08-27T23:46:03.493012Z",
     "iopub.status.idle": "2023-08-27T23:46:03.620604Z",
     "shell.execute_reply": "2023-08-27T23:46:03.619667Z",
     "shell.execute_reply.started": "2023-08-27T23:46:03.494942Z"
    }
   },
   "outputs": [
    {
     "ename": "AttributeError",
     "evalue": "'DataFrame' object has no attribute 'accession'",
     "output_type": "error",
     "traceback": [
      "\u001b[0;31m---------------------------------------------------------------------------\u001b[0m",
      "\u001b[0;31mAttributeError\u001b[0m                            Traceback (most recent call last)",
      "\u001b[0;32m/tmp/ipykernel_28530/338919233.py\u001b[0m in \u001b[0;36m?\u001b[0;34m()\u001b[0m\n\u001b[1;32m      1\u001b[0m \u001b[0mdf_master\u001b[0m\u001b[0;34m.\u001b[0m\u001b[0mto_csv\u001b[0m\u001b[0;34m(\u001b[0m\u001b[0;34m'./generated_tables/location_master_with_properties.csv'\u001b[0m\u001b[0;34m,\u001b[0m \u001b[0mindex\u001b[0m\u001b[0;34m=\u001b[0m\u001b[0;32mFalse\u001b[0m\u001b[0;34m)\u001b[0m\u001b[0;34m\u001b[0m\u001b[0;34m\u001b[0m\u001b[0m\n\u001b[0;32m----> 2\u001b[0;31m \u001b[0mnp\u001b[0m\u001b[0;34m.\u001b[0m\u001b[0msavetxt\u001b[0m\u001b[0;34m(\u001b[0m\u001b[0;34m'./generated_tables/master_accn.txt'\u001b[0m\u001b[0;34m,\u001b[0m \u001b[0mdf_master\u001b[0m\u001b[0;34m.\u001b[0m\u001b[0maccession\u001b[0m\u001b[0;34m.\u001b[0m\u001b[0mvalues\u001b[0m\u001b[0;34m,\u001b[0m \u001b[0mfmt\u001b[0m\u001b[0;34m=\u001b[0m\u001b[0;34m'%s'\u001b[0m\u001b[0;34m)\u001b[0m\u001b[0;34m\u001b[0m\u001b[0;34m\u001b[0m\u001b[0m\n\u001b[0m",
      "\u001b[0;32m~/psi4conda/envs/jupyter/lib/python3.11/site-packages/pandas/core/generic.py\u001b[0m in \u001b[0;36m?\u001b[0;34m(self, name)\u001b[0m\n\u001b[1;32m   5985\u001b[0m             \u001b[0;32mand\u001b[0m \u001b[0mname\u001b[0m \u001b[0;32mnot\u001b[0m \u001b[0;32min\u001b[0m \u001b[0mself\u001b[0m\u001b[0;34m.\u001b[0m\u001b[0m_accessors\u001b[0m\u001b[0;34m\u001b[0m\u001b[0;34m\u001b[0m\u001b[0m\n\u001b[1;32m   5986\u001b[0m             \u001b[0;32mand\u001b[0m \u001b[0mself\u001b[0m\u001b[0;34m.\u001b[0m\u001b[0m_info_axis\u001b[0m\u001b[0;34m.\u001b[0m\u001b[0m_can_hold_identifiers_and_holds_name\u001b[0m\u001b[0;34m(\u001b[0m\u001b[0mname\u001b[0m\u001b[0;34m)\u001b[0m\u001b[0;34m\u001b[0m\u001b[0;34m\u001b[0m\u001b[0m\n\u001b[1;32m   5987\u001b[0m         ):\n\u001b[1;32m   5988\u001b[0m             \u001b[0;32mreturn\u001b[0m \u001b[0mself\u001b[0m\u001b[0;34m[\u001b[0m\u001b[0mname\u001b[0m\u001b[0;34m]\u001b[0m\u001b[0;34m\u001b[0m\u001b[0;34m\u001b[0m\u001b[0m\n\u001b[0;32m-> 5989\u001b[0;31m         \u001b[0;32mreturn\u001b[0m \u001b[0mobject\u001b[0m\u001b[0;34m.\u001b[0m\u001b[0m__getattribute__\u001b[0m\u001b[0;34m(\u001b[0m\u001b[0mself\u001b[0m\u001b[0;34m,\u001b[0m \u001b[0mname\u001b[0m\u001b[0;34m)\u001b[0m\u001b[0;34m\u001b[0m\u001b[0;34m\u001b[0m\u001b[0m\n\u001b[0m",
      "\u001b[0;31mAttributeError\u001b[0m: 'DataFrame' object has no attribute 'accession'"
     ]
    }
   ],
   "source": [
    "df_master.to_csv('./generated_tables/location_master_with_properties.csv', index=False)\n",
    "np.savetxt('./generated_tables/master_accn.txt', df_master.accession.values, fmt='%s')"
   ]
  },
  {
   "cell_type": "code",
   "execution_count": null,
   "id": "a7262764",
   "metadata": {},
   "outputs": [],
   "source": []
  },
  {
   "cell_type": "code",
   "execution_count": 45,
   "id": "6425d450",
   "metadata": {
    "ExecuteTime": {
     "end_time": "2022-09-20T22:33:22.322866Z",
     "start_time": "2022-09-20T22:33:22.304310Z"
    },
    "execution": {
     "iopub.execute_input": "2023-08-27T23:46:06.710527Z",
     "iopub.status.busy": "2023-08-27T23:46:06.709341Z",
     "iopub.status.idle": "2023-08-27T23:46:06.734858Z",
     "shell.execute_reply": "2023-08-27T23:46:06.733582Z",
     "shell.execute_reply.started": "2023-08-27T23:46:06.710492Z"
    }
   },
   "outputs": [],
   "source": [
    "df_master_pared_down = df_master.copy()"
   ]
  },
  {
   "cell_type": "code",
   "execution_count": 46,
   "id": "b8bcf738",
   "metadata": {
    "ExecuteTime": {
     "end_time": "2022-09-20T22:33:23.718086Z",
     "start_time": "2022-09-20T22:33:23.689190Z"
    },
    "execution": {
     "iopub.execute_input": "2023-08-27T23:46:07.421747Z",
     "iopub.status.busy": "2023-08-27T23:46:07.421376Z",
     "iopub.status.idle": "2023-08-27T23:46:07.441572Z",
     "shell.execute_reply": "2023-08-27T23:46:07.440590Z",
     "shell.execute_reply.started": "2023-08-27T23:46:07.421719Z"
    }
   },
   "outputs": [],
   "source": [
    "df_master_pared_down.rename(columns={'accession_0':'accession'}, inplace=True)\n",
    "df_master_pared_down.drop(columns=['pI_0', 'mass_0', 'net_charge_0', 'net_charge_neg_0', 'net_charge_pos_0',\n",
    "                       'charge_dens_C_m2_0', 'charge_dens_neg_C_m2_0',\n",
    "                       'charge_dens_pos_C_m2_0', 'accession_1', 'pI_1', 'mass_1',\n",
    "                       'net_charge_1', 'net_charge_neg_1', 'net_charge_pos_1',\n",
    "                       'charge_dens_C_m2_1', 'charge_dens_neg_C_m2_1',\n",
    "                       'charge_dens_pos_C_m2_1', 'accession_2', 'pI_2', 'mass_2',\n",
    "                       'net_charge_2', 'net_charge_neg_2', 'net_charge_pos_2',\n",
    "                       'charge_dens_C_m2_2', 'charge_dens_neg_C_m2_2',\n",
    "                       'charge_dens_pos_C_m2_2', 'cysteine_cont_percent_0', 'cysteine_num_0',\n",
    "                       'cysteine_cont_percent_1', 'cysteine_num_1', 'cysteine_cont_percent_2',\n",
    "                       'cysteine_num_2'], inplace=True)"
   ]
  },
  {
   "cell_type": "code",
   "execution_count": 47,
   "id": "03432d02",
   "metadata": {
    "ExecuteTime": {
     "end_time": "2022-09-20T22:33:24.853854Z",
     "start_time": "2022-09-20T22:33:24.760848Z"
    },
    "execution": {
     "iopub.execute_input": "2023-08-27T23:46:08.013188Z",
     "iopub.status.busy": "2023-08-27T23:46:08.012836Z",
     "iopub.status.idle": "2023-08-27T23:46:08.088372Z",
     "shell.execute_reply": "2023-08-27T23:46:08.087554Z",
     "shell.execute_reply.started": "2023-08-27T23:46:08.013163Z"
    }
   },
   "outputs": [],
   "source": [
    "df_master_pared_down.to_csv('./generated_tables/location_master_with_only_mean_properties.csv', index=False)"
   ]
  },
  {
   "cell_type": "code",
   "execution_count": null,
   "id": "25ed1001",
   "metadata": {},
   "outputs": [],
   "source": []
  },
  {
   "cell_type": "code",
   "execution_count": null,
   "id": "87383de0",
   "metadata": {},
   "outputs": [],
   "source": []
  },
  {
   "cell_type": "code",
   "execution_count": null,
   "id": "7fc6da41",
   "metadata": {},
   "outputs": [],
   "source": []
  },
  {
   "cell_type": "markdown",
   "id": "4e287d69",
   "metadata": {},
   "source": [
    "# Unite native and standard digest results"
   ]
  },
  {
   "cell_type": "code",
   "execution_count": 48,
   "id": "4468d5c6",
   "metadata": {
    "ExecuteTime": {
     "end_time": "2022-09-20T22:33:26.265981Z",
     "start_time": "2022-09-20T22:33:26.247498Z"
    },
    "execution": {
     "iopub.execute_input": "2023-08-27T23:46:11.494793Z",
     "iopub.status.busy": "2023-08-27T23:46:11.493841Z",
     "iopub.status.idle": "2023-08-27T23:46:11.519823Z",
     "shell.execute_reply": "2023-08-27T23:46:11.518223Z",
     "shell.execute_reply.started": "2023-08-27T23:46:11.494743Z"
    }
   },
   "outputs": [],
   "source": [
    "df_master_united = df_master_pared_down.copy()"
   ]
  },
  {
   "cell_type": "code",
   "execution_count": 49,
   "id": "587fc3c7",
   "metadata": {
    "ExecuteTime": {
     "end_time": "2022-09-20T22:33:26.832422Z",
     "start_time": "2022-09-20T22:33:26.777097Z"
    },
    "execution": {
     "iopub.execute_input": "2023-08-27T23:46:11.790403Z",
     "iopub.status.busy": "2023-08-27T23:46:11.790101Z",
     "iopub.status.idle": "2023-08-27T23:46:11.830886Z",
     "shell.execute_reply": "2023-08-27T23:46:11.830125Z",
     "shell.execute_reply.started": "2023-08-27T23:46:11.790381Z"
    }
   },
   "outputs": [],
   "source": [
    "for source_frac in ['hccf_feed', 'hccf_large', 'hccf_small', 'hccf_mab', 'hccf_lmw1', 'pafvin_feed', 'pafvin_large', 'pafvin_small', 'pafvin_mab']:\n",
    "    df_master_united[source_frac] = False\n",
    "    indeces = df_master_united[(df_master_united[f'std_{source_frac}']) | (df_master_united[f'native_{source_frac}'])].index\n",
    "    df_master_united.loc[indeces, source_frac] = True\n",
    "    \n",
    "df_master_united.rename(columns={'std_hccf_lmw2':'hccf_lmw2'}, inplace=True)\n",
    "df_master_united.drop(columns=['std_hccf_feed', 'std_hccf_large',\n",
    "                       'std_hccf_small', 'std_hccf_mab', 'std_hccf_lmw1',\n",
    "                       'native_hccf_feed', 'native_hccf_large', 'native_hccf_small', \n",
    "                       'native_hccf_mab', 'native_hccf_lmw1', 'std_pafvin_feed', 'std_pafvin_large',\n",
    "                       'std_pafvin_small', 'std_pafvin_mab', 'native_pafvin_feed', \n",
    "                       'native_pafvin_large', 'native_pafvin_small', 'native_pafvin_mab'], inplace=True)\n",
    "\n",
    "df_master_united = df_master_united[['accession', 'name', 'hccf_feed', 'hccf_large', 'hccf_small', 'hccf_mab', 'hccf_lmw1', 'hccf_lmw2', \n",
    "                       'pafvin_feed', 'pafvin_large', 'pafvin_small', 'pafvin_mab',\n",
    "                       'pI_mean', 'mass_mean', 'net_charge_mean',\n",
    "                       'net_charge_neg_mean', 'net_charge_pos_mean', 'charge_dens_C_m2_mean',\n",
    "                       'charge_dens_neg_C_m2_mean', 'charge_dens_pos_C_m2_mean', 'desc_lower', 'desc_lower_2']]"
   ]
  },
  {
   "cell_type": "code",
   "execution_count": 50,
   "id": "8c23c304",
   "metadata": {
    "ExecuteTime": {
     "end_time": "2022-09-20T22:33:28.035670Z",
     "start_time": "2022-09-20T22:33:27.960484Z"
    },
    "execution": {
     "iopub.execute_input": "2023-08-27T23:46:12.343960Z",
     "iopub.status.busy": "2023-08-27T23:46:12.343555Z",
     "iopub.status.idle": "2023-08-27T23:46:12.427234Z",
     "shell.execute_reply": "2023-08-27T23:46:12.426381Z",
     "shell.execute_reply.started": "2023-08-27T23:46:12.343933Z"
    }
   },
   "outputs": [],
   "source": [
    "df_master_united.to_csv('./generated_tables/location_master_united_with_only_mean_properties.csv', index=False)"
   ]
  },
  {
   "cell_type": "code",
   "execution_count": null,
   "id": "0ab4c9b8",
   "metadata": {},
   "outputs": [],
   "source": []
  },
  {
   "cell_type": "code",
   "execution_count": null,
   "id": "b63d4bbc",
   "metadata": {},
   "outputs": [],
   "source": []
  },
  {
   "cell_type": "code",
   "execution_count": null,
   "id": "6fe0201b",
   "metadata": {},
   "outputs": [],
   "source": []
  },
  {
   "cell_type": "code",
   "execution_count": null,
   "id": "4c678af3",
   "metadata": {},
   "outputs": [],
   "source": []
  },
  {
   "cell_type": "code",
   "execution_count": null,
   "id": "b0871c02",
   "metadata": {},
   "outputs": [],
   "source": []
  },
  {
   "cell_type": "code",
   "execution_count": null,
   "id": "f6d97f4d",
   "metadata": {},
   "outputs": [],
   "source": []
  },
  {
   "cell_type": "code",
   "execution_count": null,
   "id": "e8a77120",
   "metadata": {},
   "outputs": [],
   "source": []
  },
  {
   "cell_type": "code",
   "execution_count": null,
   "id": "ec081f39",
   "metadata": {},
   "outputs": [],
   "source": []
  },
  {
   "cell_type": "code",
   "execution_count": null,
   "id": "d2ead96a",
   "metadata": {},
   "outputs": [],
   "source": []
  },
  {
   "cell_type": "code",
   "execution_count": null,
   "id": "718623bc",
   "metadata": {},
   "outputs": [],
   "source": []
  },
  {
   "cell_type": "code",
   "execution_count": null,
   "id": "2ef712e6",
   "metadata": {},
   "outputs": [],
   "source": []
  },
  {
   "cell_type": "code",
   "execution_count": null,
   "id": "184173d9",
   "metadata": {},
   "outputs": [],
   "source": []
  },
  {
   "cell_type": "code",
   "execution_count": null,
   "id": "65b4c6eb",
   "metadata": {},
   "outputs": [],
   "source": []
  },
  {
   "cell_type": "code",
   "execution_count": null,
   "id": "6efa5353",
   "metadata": {},
   "outputs": [],
   "source": []
  },
  {
   "cell_type": "code",
   "execution_count": null,
   "id": "26c2406d",
   "metadata": {},
   "outputs": [],
   "source": []
  },
  {
   "cell_type": "code",
   "execution_count": null,
   "id": "e0f6f039",
   "metadata": {},
   "outputs": [],
   "source": []
  },
  {
   "cell_type": "code",
   "execution_count": null,
   "id": "d8620406",
   "metadata": {},
   "outputs": [],
   "source": []
  }
 ],
 "metadata": {
  "kernelspec": {
   "display_name": "Python 3 (ipykernel)",
   "language": "python",
   "name": "python3"
  },
  "language_info": {
   "codemirror_mode": {
    "name": "ipython",
    "version": 3
   },
   "file_extension": ".py",
   "mimetype": "text/x-python",
   "name": "python",
   "nbconvert_exporter": "python",
   "pygments_lexer": "ipython3",
   "version": "3.11.5"
  }
 },
 "nbformat": 4,
 "nbformat_minor": 5
}
