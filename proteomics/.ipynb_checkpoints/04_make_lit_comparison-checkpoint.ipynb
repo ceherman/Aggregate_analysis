{
 "cells": [
  {
   "cell_type": "code",
   "execution_count": 2,
   "id": "5e341c33",
   "metadata": {
    "ExecuteTime": {
     "end_time": "2022-11-21T22:52:00.749858Z",
     "start_time": "2022-11-21T22:52:00.735114Z"
    },
    "execution": {
     "iopub.execute_input": "2023-08-28T00:15:00.259966Z",
     "iopub.status.busy": "2023-08-28T00:15:00.259540Z",
     "iopub.status.idle": "2023-08-28T00:15:00.277471Z",
     "shell.execute_reply": "2023-08-28T00:15:00.276461Z",
     "shell.execute_reply.started": "2023-08-28T00:15:00.259932Z"
    }
   },
   "outputs": [],
   "source": [
    "%load_ext autoreload\n",
    "%autoreload 2"
   ]
  },
  {
   "cell_type": "code",
   "execution_count": 3,
   "id": "abb0045c",
   "metadata": {
    "ExecuteTime": {
     "end_time": "2022-11-21T22:52:02.666970Z",
     "start_time": "2022-11-21T22:52:01.583441Z"
    },
    "execution": {
     "iopub.execute_input": "2023-08-28T00:15:00.499208Z",
     "iopub.status.busy": "2023-08-28T00:15:00.498743Z",
     "iopub.status.idle": "2023-08-28T00:15:01.941623Z",
     "shell.execute_reply": "2023-08-28T00:15:01.940833Z",
     "shell.execute_reply.started": "2023-08-28T00:15:00.499175Z"
    }
   },
   "outputs": [],
   "source": [
    "import pandas as pd\n",
    "import numpy as np\n",
    "from scipy import optimize\n",
    "from scipy.stats import sem\n",
    "\n",
    "import os\n",
    "import sys\n",
    "\n",
    "import matplotlib.pyplot as plt\n",
    "import matplotlib.ticker\n",
    "from matplotlib.patches import Rectangle\n",
    "from matplotlib.colors import ListedColormap, BoundaryNorm\n",
    "\n",
    "from venn import venn, pseudovenn\n",
    "import seaborn as sns\n",
    "\n",
    "from Bio import SeqIO, SeqUtils\n",
    "\n",
    "from addict import Dict\n",
    "\n",
    "import math"
   ]
  },
  {
   "cell_type": "code",
   "execution_count": 6,
   "id": "8cb5c72b",
   "metadata": {
    "ExecuteTime": {
     "end_time": "2022-11-21T22:52:02.693527Z",
     "start_time": "2022-11-21T22:52:02.668922Z"
    },
    "execution": {
     "iopub.execute_input": "2023-08-28T00:15:31.189290Z",
     "iopub.status.busy": "2023-08-28T00:15:31.188766Z",
     "iopub.status.idle": "2023-08-28T00:15:31.206515Z",
     "shell.execute_reply": "2023-08-28T00:15:31.205667Z",
     "shell.execute_reply.started": "2023-08-28T00:15:31.189270Z"
    }
   },
   "outputs": [],
   "source": [
    "sys.path.append(\"../\")\n",
    "import plotting as my_plot\n",
    "\n",
    "sys.path.append(\"./mean_field_elect/\")\n",
    "import proteomics_functions as prot_fun"
   ]
  },
  {
   "cell_type": "code",
   "execution_count": null,
   "id": "8825e92c",
   "metadata": {},
   "outputs": [],
   "source": []
  },
  {
   "cell_type": "markdown",
   "id": "791bcf04",
   "metadata": {},
   "source": [
    "# High-risk HCPs "
   ]
  },
  {
   "cell_type": "code",
   "execution_count": 44,
   "id": "98fa2b5a",
   "metadata": {
    "ExecuteTime": {
     "end_time": "2022-09-20T23:04:17.304669Z",
     "start_time": "2022-09-20T23:04:16.158911Z"
    },
    "scrolled": true
   },
   "outputs": [],
   "source": [
    "# Generate the high-risk candidate list\n",
    "path = './lit_data/biophorum_high_risk_clean.csv'\n",
    "df_lit = pd.read_csv(path)\n",
    "df_master = pd.read_csv('./generated_tables/location_master_with_only_mean_properties.csv')\n",
    "prot_fun.get_name_matches(df_master, path, 'high_risk')\n",
    "df_risk = df_master[df_master.high_risk_name.notnull()].copy()\n",
    "df_risk.reset_index(drop=True, inplace=True)\n",
    "\n",
    "for i, cont in df_risk.iterrows():\n",
    "    for col in ['impact', 'impact_type', 'function']:\n",
    "        data = df_lit.loc[df_lit.desc_lower_2 == cont.high_risk_name, col].iloc[0] \n",
    "        df_risk.at[i, col] = data\n",
    "        \n",
    "df_risk.to_csv('./generated_tables/high_risk_unreviewed.csv', index=False)"
   ]
  },
  {
   "cell_type": "code",
   "execution_count": null,
   "id": "c72180fc",
   "metadata": {},
   "outputs": [],
   "source": []
  },
  {
   "cell_type": "markdown",
   "id": "17b8131c",
   "metadata": {},
   "source": [
    "# Difficult to remove"
   ]
  },
  {
   "cell_type": "code",
   "execution_count": 5,
   "id": "5102ffcb",
   "metadata": {
    "ExecuteTime": {
     "end_time": "2022-09-23T13:54:28.000719Z",
     "start_time": "2022-09-23T13:54:27.948578Z"
    }
   },
   "outputs": [],
   "source": [
    "# df_master = pd.read_csv('./generated_tables/location_master_with_properties.csv')\n",
    "\n",
    "# df_master.drop(columns=['pI_0', 'mass_0', 'net_charge_0', 'net_charge_neg_0', 'net_charge_pos_0',\n",
    "#                        'charge_dens_C_m2_0', 'charge_dens_neg_C_m2_0',\n",
    "#                        'charge_dens_pos_C_m2_0', 'pI_1', 'mass_1',\n",
    "#                        'net_charge_1', 'net_charge_neg_1', 'net_charge_pos_1',\n",
    "#                        'charge_dens_C_m2_1', 'charge_dens_neg_C_m2_1',\n",
    "#                        'charge_dens_pos_C_m2_1', 'pI_2', 'mass_2',\n",
    "#                        'net_charge_2', 'net_charge_neg_2', 'net_charge_pos_2',\n",
    "#                        'charge_dens_C_m2_2', 'charge_dens_neg_C_m2_2',\n",
    "#                        'charge_dens_pos_C_m2_2', 'cysteine_cont_percent_0', 'cysteine_num_0',\n",
    "#                        'cysteine_cont_percent_1', 'cysteine_num_1', 'cysteine_cont_percent_2',\n",
    "#                        'cysteine_num_2'], inplace=True)"
   ]
  },
  {
   "cell_type": "code",
   "execution_count": 6,
   "id": "8ab6843d",
   "metadata": {
    "ExecuteTime": {
     "end_time": "2022-09-23T13:54:42.821944Z",
     "start_time": "2022-09-23T13:54:31.547930Z"
    }
   },
   "outputs": [],
   "source": [
    "# prot_fun.get_name_matches(df_master, './lit_data/biophorum_clean.csv', 'Biophorum DTR', name_append='')\n",
    "# prot_fun.get_name_matches(df_master, './lit_data/biophorum_high_risk_clean.csv', 'Biophorum high-risk', name_append='')\n",
    "# prot_fun.get_name_matches(df_master, './lit_data/levy_2014_clean.csv', 'Levy 2014 - Association', name_append='')\n",
    "# prot_fun.get_name_matches(df_master, './lit_data/zhang_table_2_clean.csv', 'Zhang 2016 - Pro A', name_append='')\n",
    "# prot_fun.get_name_matches(df_master, './lit_data/levy_2016_clean.csv', 'Levy 2016 - Coelution', name_append='')\n",
    "# prot_fun.get_name_matches(df_master, './lit_data/molden_clean.csv', 'Molden 2021 - 29 DS', name_append='')\n",
    "# prot_fun.get_name_matches(df_master, './lit_data/falkenberg_table_4_clean.csv', 'Falkenberg 2019 - 6 DS', name_append='')\n",
    "# prot_fun.get_name_matches(df_master, './lit_data/kreimer_table_1_clean.csv', 'Kreimer 2017 - 1 DS', name_append='')"
   ]
  },
  {
   "cell_type": "code",
   "execution_count": 67,
   "id": "5071462c",
   "metadata": {
    "ExecuteTime": {
     "end_time": "2022-09-21T01:44:39.672985Z",
     "start_time": "2022-09-21T01:44:39.646070Z"
    }
   },
   "outputs": [],
   "source": [
    "# papers = ['Biophorum DTR', 'Biophorum high-risk', 'Levy 2014 - Association', 'Zhang 2016 - Pro A', \n",
    "#           'Levy 2016 - Coelution', 'Molden 2021 - 29 DS', 'Falkenberg 2019 - 6 DS', 'Kreimer 2017 - 1 DS']\n",
    "\n",
    "# df_dtr = df_master[(df_master[papers[0]].notnull()) |\n",
    "#                    (df_master[papers[1]].notnull()) |\n",
    "#                    (df_master[papers[2]].notnull()) |\n",
    "#                    (df_master[papers[3]].notnull()) |\n",
    "#                    (df_master[papers[4]].notnull()) |\n",
    "#                    (df_master[papers[5]].notnull()) |\n",
    "#                    (df_master[papers[6]].notnull()) |\n",
    "#                    (df_master[papers[7]].notnull()) ]\n",
    "\n",
    "# df_dtr.reset_index(inplace=True, drop=True)\n",
    "# df_dtr.to_csv('./generated_tables/difficult_to_remove_unreviewed_1.csv', index=False)"
   ]
  },
  {
   "cell_type": "markdown",
   "id": "e69ce23f",
   "metadata": {},
   "source": [
    "## Addition of Aboulaich data"
   ]
  },
  {
   "cell_type": "code",
   "execution_count": 138,
   "id": "49998e6a",
   "metadata": {
    "ExecuteTime": {
     "end_time": "2022-09-23T15:05:58.527591Z",
     "start_time": "2022-09-23T15:05:56.267106Z"
    }
   },
   "outputs": [],
   "source": [
    "df_master = pd.read_csv('./generated_tables/location_master_with_properties.csv')\n",
    "df_master.drop(columns=['pI_0', 'mass_0', 'net_charge_0', 'net_charge_neg_0', 'net_charge_pos_0',\n",
    "                       'charge_dens_C_m2_0', 'charge_dens_neg_C_m2_0',\n",
    "                       'charge_dens_pos_C_m2_0', 'pI_1', 'mass_1',\n",
    "                       'net_charge_1', 'net_charge_neg_1', 'net_charge_pos_1',\n",
    "                       'charge_dens_C_m2_1', 'charge_dens_neg_C_m2_1',\n",
    "                       'charge_dens_pos_C_m2_1', 'pI_2', 'mass_2',\n",
    "                       'net_charge_2', 'net_charge_neg_2', 'net_charge_pos_2',\n",
    "                       'charge_dens_C_m2_2', 'charge_dens_neg_C_m2_2',\n",
    "                       'charge_dens_pos_C_m2_2', 'cysteine_cont_percent_0', 'cysteine_num_0',\n",
    "                       'cysteine_cont_percent_1', 'cysteine_num_1', 'cysteine_cont_percent_2',\n",
    "                       'cysteine_num_2'], inplace=True)\n",
    "\n",
    "ab_name = 'Aboulaich 2014 - Association'\n",
    "prot_fun.get_name_matches(df_master, './lit_data/aboulaich_table_1_clean.csv', ab_name, name_append='')\n",
    "df_ab = df_master[df_master['Aboulaich 2014 - Association'].notnull()].copy()\n",
    "df_ab.set_index('accession_0', inplace=True)"
   ]
  },
  {
   "cell_type": "code",
   "execution_count": 139,
   "id": "859e13e4",
   "metadata": {
    "ExecuteTime": {
     "end_time": "2022-09-23T15:05:58.551263Z",
     "start_time": "2022-09-23T15:05:58.529189Z"
    }
   },
   "outputs": [],
   "source": [
    "df_dtr = pd.read_csv('./generated_tables/difficult_to_remove_reviewed_1.csv')\n",
    "df_dtr.set_index('accession_0', inplace=True)"
   ]
  },
  {
   "cell_type": "code",
   "execution_count": 141,
   "id": "3dc2fdc4",
   "metadata": {
    "ExecuteTime": {
     "end_time": "2022-09-23T15:06:23.018012Z",
     "start_time": "2022-09-23T15:06:22.995620Z"
    }
   },
   "outputs": [],
   "source": [
    "shared = list(set(df_dtr.index).intersection(df_ab.index))\n",
    "new = [accn for accn in df_ab.index if accn not in shared]\n",
    "\n",
    "for accn in shared:\n",
    "    df_dtr.at[accn, ab_name] = df_ab.at[accn, ab_name]\n",
    "    \n",
    "df_dtr_new = pd.concat([df_dtr, df_ab.loc[new]])\n",
    "df_dtr_new.to_csv('./generated_tables/difficult_to_remove_unreviewed_2.csv')"
   ]
  },
  {
   "cell_type": "code",
   "execution_count": null,
   "id": "528fa88b",
   "metadata": {},
   "outputs": [],
   "source": []
  },
  {
   "cell_type": "code",
   "execution_count": null,
   "id": "813db420",
   "metadata": {},
   "outputs": [],
   "source": []
  },
  {
   "cell_type": "code",
   "execution_count": null,
   "id": "7fe51cc6",
   "metadata": {},
   "outputs": [],
   "source": []
  },
  {
   "cell_type": "code",
   "execution_count": null,
   "id": "5184fd00",
   "metadata": {},
   "outputs": [],
   "source": []
  },
  {
   "cell_type": "code",
   "execution_count": null,
   "id": "59f870e9",
   "metadata": {},
   "outputs": [],
   "source": []
  },
  {
   "cell_type": "code",
   "execution_count": null,
   "id": "5da3dd87",
   "metadata": {},
   "outputs": [],
   "source": []
  },
  {
   "cell_type": "code",
   "execution_count": null,
   "id": "7e1085bd",
   "metadata": {},
   "outputs": [],
   "source": []
  },
  {
   "cell_type": "code",
   "execution_count": null,
   "id": "7a237980",
   "metadata": {},
   "outputs": [],
   "source": []
  },
  {
   "cell_type": "code",
   "execution_count": null,
   "id": "a2ab65d8",
   "metadata": {},
   "outputs": [],
   "source": []
  },
  {
   "cell_type": "code",
   "execution_count": null,
   "id": "a8df9609",
   "metadata": {},
   "outputs": [],
   "source": []
  },
  {
   "cell_type": "code",
   "execution_count": null,
   "id": "bfeea86a",
   "metadata": {},
   "outputs": [],
   "source": []
  },
  {
   "cell_type": "code",
   "execution_count": null,
   "id": "d52f9bf0",
   "metadata": {},
   "outputs": [],
   "source": []
  },
  {
   "cell_type": "code",
   "execution_count": null,
   "id": "d9f87e76",
   "metadata": {},
   "outputs": [],
   "source": []
  },
  {
   "cell_type": "code",
   "execution_count": null,
   "id": "fdf5eb76",
   "metadata": {},
   "outputs": [],
   "source": []
  },
  {
   "cell_type": "code",
   "execution_count": null,
   "id": "a7ddaeba",
   "metadata": {},
   "outputs": [],
   "source": []
  },
  {
   "cell_type": "code",
   "execution_count": null,
   "id": "cc28dc76",
   "metadata": {},
   "outputs": [],
   "source": []
  },
  {
   "cell_type": "code",
   "execution_count": null,
   "id": "7951f5a1",
   "metadata": {},
   "outputs": [],
   "source": []
  },
  {
   "cell_type": "code",
   "execution_count": null,
   "id": "43ed6298",
   "metadata": {},
   "outputs": [],
   "source": []
  }
 ],
 "metadata": {
  "kernelspec": {
   "display_name": "Python 3 (ipykernel)",
   "language": "python",
   "name": "python3"
  },
  "language_info": {
   "codemirror_mode": {
    "name": "ipython",
    "version": 3
   },
   "file_extension": ".py",
   "mimetype": "text/x-python",
   "name": "python",
   "nbconvert_exporter": "python",
   "pygments_lexer": "ipython3",
   "version": "3.11.5"
  }
 },
 "nbformat": 4,
 "nbformat_minor": 5
}
