{
 "cells": [
  {
   "cell_type": "code",
   "execution_count": 1,
   "id": "909f848e",
   "metadata": {
    "ExecuteTime": {
     "end_time": "2023-02-17T20:22:53.414439Z",
     "start_time": "2023-02-17T20:22:53.382386Z"
    },
    "execution": {
     "iopub.execute_input": "2023-08-28T00:20:43.544710Z",
     "iopub.status.busy": "2023-08-28T00:20:43.543821Z",
     "iopub.status.idle": "2023-08-28T00:20:43.560130Z",
     "shell.execute_reply": "2023-08-28T00:20:43.559383Z",
     "shell.execute_reply.started": "2023-08-28T00:20:43.544682Z"
    }
   },
   "outputs": [],
   "source": [
    "%load_ext autoreload\n",
    "%autoreload 2"
   ]
  },
  {
   "cell_type": "code",
   "execution_count": 2,
   "id": "fc446931",
   "metadata": {
    "ExecuteTime": {
     "end_time": "2023-02-17T20:22:53.915054Z",
     "start_time": "2023-02-17T20:22:53.893463Z"
    },
    "execution": {
     "iopub.execute_input": "2023-08-28T00:20:43.879401Z",
     "iopub.status.busy": "2023-08-28T00:20:43.878817Z",
     "iopub.status.idle": "2023-08-28T00:20:45.087653Z",
     "shell.execute_reply": "2023-08-28T00:20:45.086388Z",
     "shell.execute_reply.started": "2023-08-28T00:20:43.879381Z"
    }
   },
   "outputs": [],
   "source": [
    "import pandas as pd\n",
    "import numpy as np\n",
    "from scipy import optimize\n",
    "from scipy.stats import sem\n",
    "\n",
    "import os\n",
    "import sys\n",
    "\n",
    "import matplotlib.pyplot as plt\n",
    "import matplotlib.ticker\n",
    "from venn import venn, pseudovenn\n",
    "import seaborn as sns\n",
    "from matplotlib.collections import PathCollection\n",
    "\n",
    "from Bio import SeqIO, SeqUtils, Seq\n",
    "from Bio.SeqUtils.ProtParam import ProteinAnalysis\n",
    "\n",
    "from addict import Dict\n",
    "import json"
   ]
  },
  {
   "cell_type": "code",
   "execution_count": 3,
   "id": "88cf7f0d",
   "metadata": {
    "ExecuteTime": {
     "end_time": "2023-02-17T20:22:54.356355Z",
     "start_time": "2023-02-17T20:22:54.333492Z"
    },
    "execution": {
     "iopub.execute_input": "2023-08-28T00:20:49.980288Z",
     "iopub.status.busy": "2023-08-28T00:20:49.979114Z",
     "iopub.status.idle": "2023-08-28T00:20:49.999549Z",
     "shell.execute_reply": "2023-08-28T00:20:49.998058Z",
     "shell.execute_reply.started": "2023-08-28T00:20:49.980262Z"
    }
   },
   "outputs": [],
   "source": [
    "sys.path.append(\"../\")\n",
    "import plotting as my_plot\n",
    "\n",
    "sys.path.append(\"./mean_field_elect/\")\n",
    "import proteomics_functions as prot_fun\n",
    "import base_classes\n",
    "import morbidelli as m"
   ]
  },
  {
   "cell_type": "code",
   "execution_count": null,
   "id": "adc6c5e9",
   "metadata": {},
   "outputs": [],
   "source": []
  },
  {
   "cell_type": "markdown",
   "id": "9de76518",
   "metadata": {},
   "source": [
    "# Load data"
   ]
  },
  {
   "cell_type": "code",
   "execution_count": 4,
   "id": "8983e33b",
   "metadata": {
    "ExecuteTime": {
     "end_time": "2023-02-17T20:29:09.648707Z",
     "start_time": "2023-02-17T20:29:07.388318Z"
    },
    "execution": {
     "iopub.execute_input": "2023-08-28T00:20:55.971801Z",
     "iopub.status.busy": "2023-08-28T00:20:55.970568Z",
     "iopub.status.idle": "2023-08-28T00:20:57.471713Z",
     "shell.execute_reply": "2023-08-28T00:20:57.470683Z",
     "shell.execute_reply.started": "2023-08-28T00:20:55.971770Z"
    }
   },
   "outputs": [],
   "source": [
    "dfs = Dict()\n",
    "dfs_mab = Dict()\n",
    "\n",
    "file = pd.ExcelFile(f'./data/Chase SWATH 20220830.xlsx')\n",
    "dfs.hccf.feed  = file.parse('HCCF-Feed')\n",
    "dfs.hccf.large = file.parse('HCCF-LrgAgg')\n",
    "dfs.hccf.small = file.parse('HCCF-SmAgg')\n",
    "dfs.hccf.mab   = file.parse('HCCF-mAb')\n",
    "dfs.hccf.spf1  = file.parse('HCCF-LMW1')\n",
    "dfs.hccf.spf2  = file.parse('HCCF-LMW2') \n",
    "dfs.pavin.feed  = file.parse('PAFVIN-Feed')\n",
    "dfs.pavin.large = file.parse('PAFVIN-LrgAgg')\n",
    "dfs.pavin.small = file.parse('PAFVIN-SmAgg')\n",
    "\n",
    "file = pd.ExcelFile('./data/Chase SWATH 20221128.xlsx')\n",
    "dfs.pavin.mab = file.parse('PAFVIN mAb!')\n",
    "\n",
    "\n",
    "for feed in ['hccf', 'pavin']:\n",
    "    for frac in dfs[feed].keys():\n",
    "        dfs[feed][frac].columns = ['accn', 'name', 'rep1_log2_norm_area', 'rep2_log2_norm_area', 'rep3_log2_norm_area', 'prot_mw', 'rep1_ng', 'rep2_ng', 'rep3_ng', 'ave_ng', 'cv']\n",
    "        if frac == 'spf2':\n",
    "            dfs[feed][frac]['ave_ppm'] = dfs[feed][frac]['ave_ng']/5.0 * 1e3 # x ng/5 ug * 1e-3 ug/ng * 1e6 ppm\n",
    "        else:\n",
    "            dfs[feed][frac]['ave_ppm'] = dfs[feed][frac]['ave_ng']/90.91 * 1e3 # x ng/90.91 ug * 1e-3 ug/ng * 1e6 ppm\n",
    "                    \n",
    "        # Get mAb as a separate df\n",
    "        dfs_mab[feed][frac] = dfs[feed][frac][dfs[feed][frac]['name'].str.contains('Custom')]\n",
    "        dfs_mab[feed][frac].reset_index(inplace=True, drop=True)\n",
    "        \n",
    "        # Select only CHO HCPs\n",
    "        dfs[feed][frac] = dfs[feed][frac][dfs[feed][frac]['name'].str.contains('Cricetulus griseus')]\n",
    "        dfs[feed][frac].reset_index(inplace=True, drop=True)"
   ]
  },
  {
   "cell_type": "code",
   "execution_count": null,
   "id": "c3f939e3",
   "metadata": {},
   "outputs": [],
   "source": []
  },
  {
   "cell_type": "code",
   "execution_count": null,
   "id": "aed8f3a6",
   "metadata": {},
   "outputs": [],
   "source": []
  },
  {
   "cell_type": "markdown",
   "id": "65e48c7e",
   "metadata": {},
   "source": [
    "# Assemble a flat df with ave_ppm values"
   ]
  },
  {
   "cell_type": "code",
   "execution_count": 18,
   "id": "0b188f62",
   "metadata": {
    "ExecuteTime": {
     "end_time": "2023-02-17T20:29:18.793646Z",
     "start_time": "2023-02-17T20:29:12.388439Z"
    }
   },
   "outputs": [],
   "source": [
    "names = {}\n",
    "\n",
    "for source in dfs.keys():\n",
    "    for frac in dfs[source].keys():\n",
    "        df = dfs[source][frac]\n",
    "        for i, cont in df.iterrows():\n",
    "            names[cont['accn']] = cont['name']\n",
    "                \n",
    "df_master = pd.DataFrame.from_dict(names, orient='index')\n",
    "df_master.reset_index(inplace=True)\n",
    "df_master.columns = ['accn', 'name']\n",
    "\n",
    "for source in dfs.keys():\n",
    "    for frac in dfs[source].keys():\n",
    "        df = dfs[source][frac]\n",
    "        for i, cont in df.iterrows():\n",
    "            df_master.loc[df_master.accn == cont.accn, f'{source}_{frac}'] = cont.ave_ppm"
   ]
  },
  {
   "cell_type": "code",
   "execution_count": 19,
   "id": "e59d2f82",
   "metadata": {
    "ExecuteTime": {
     "end_time": "2023-02-17T20:29:18.830410Z",
     "start_time": "2023-02-17T20:29:18.795573Z"
    }
   },
   "outputs": [],
   "source": [
    "df_master.to_csv('./generated_tables/swath_master_df_ppm_with_na.csv', index=False)"
   ]
  },
  {
   "cell_type": "code",
   "execution_count": 20,
   "id": "45b48b76",
   "metadata": {
    "ExecuteTime": {
     "end_time": "2023-02-17T20:29:18.846174Z",
     "start_time": "2023-02-17T20:29:18.831761Z"
    }
   },
   "outputs": [],
   "source": [
    "df_master = df_master.fillna(0)"
   ]
  },
  {
   "cell_type": "code",
   "execution_count": 21,
   "id": "7a3f2aa2",
   "metadata": {
    "ExecuteTime": {
     "end_time": "2023-02-17T20:29:19.018570Z",
     "start_time": "2023-02-17T20:29:18.965526Z"
    }
   },
   "outputs": [],
   "source": [
    "df_master.to_csv('./generated_tables/swath_master_df_ppm.csv', index=False)"
   ]
  },
  {
   "cell_type": "code",
   "execution_count": null,
   "id": "ddf65a64",
   "metadata": {},
   "outputs": [],
   "source": []
  },
  {
   "cell_type": "code",
   "execution_count": 22,
   "id": "b222b9c3",
   "metadata": {
    "ExecuteTime": {
     "end_time": "2023-02-17T20:29:20.949592Z",
     "start_time": "2023-02-17T20:29:20.913036Z"
    }
   },
   "outputs": [
    {
     "data": {
      "text/html": [
       "<div>\n",
       "<style scoped>\n",
       "    .dataframe tbody tr th:only-of-type {\n",
       "        vertical-align: middle;\n",
       "    }\n",
       "\n",
       "    .dataframe tbody tr th {\n",
       "        vertical-align: top;\n",
       "    }\n",
       "\n",
       "    .dataframe thead th {\n",
       "        text-align: right;\n",
       "    }\n",
       "</style>\n",
       "<table border=\"1\" class=\"dataframe\">\n",
       "  <thead>\n",
       "    <tr style=\"text-align: right;\">\n",
       "      <th></th>\n",
       "      <th>accn</th>\n",
       "      <th>name</th>\n",
       "      <th>hccf_feed</th>\n",
       "      <th>hccf_large</th>\n",
       "      <th>hccf_small</th>\n",
       "      <th>hccf_mab</th>\n",
       "      <th>hccf_spf1</th>\n",
       "      <th>hccf_spf2</th>\n",
       "      <th>pavin_feed</th>\n",
       "      <th>pavin_large</th>\n",
       "      <th>pavin_small</th>\n",
       "      <th>pavin_mab</th>\n",
       "    </tr>\n",
       "  </thead>\n",
       "  <tbody>\n",
       "    <tr>\n",
       "      <th>0</th>\n",
       "      <td>NP_001230909.1</td>\n",
       "      <td>alpha-1,3-mannosyl-glycoprotein 2-beta-N-acety...</td>\n",
       "      <td>0.308491</td>\n",
       "      <td>44.640145</td>\n",
       "      <td>2.474209</td>\n",
       "      <td>0.000000</td>\n",
       "      <td>2.526376</td>\n",
       "      <td>0.000000</td>\n",
       "      <td>0.0</td>\n",
       "      <td>0.000000</td>\n",
       "      <td>0.000000</td>\n",
       "      <td>0.0</td>\n",
       "    </tr>\n",
       "    <tr>\n",
       "      <th>1</th>\n",
       "      <td>NP_001230921.1</td>\n",
       "      <td>disintegrin and metalloproteinase domain-conta...</td>\n",
       "      <td>21.775462</td>\n",
       "      <td>67.131030</td>\n",
       "      <td>28.834576</td>\n",
       "      <td>1.438311</td>\n",
       "      <td>16.463027</td>\n",
       "      <td>48.661161</td>\n",
       "      <td>0.0</td>\n",
       "      <td>53.213184</td>\n",
       "      <td>8.808894</td>\n",
       "      <td>0.0</td>\n",
       "    </tr>\n",
       "    <tr>\n",
       "      <th>2</th>\n",
       "      <td>NP_001230924.2</td>\n",
       "      <td>MHC class I antigen Hm1-C2 precursor [Cricetul...</td>\n",
       "      <td>0.969297</td>\n",
       "      <td>19.575620</td>\n",
       "      <td>5.471594</td>\n",
       "      <td>0.000000</td>\n",
       "      <td>3.733299</td>\n",
       "      <td>0.000000</td>\n",
       "      <td>0.0</td>\n",
       "      <td>13.794253</td>\n",
       "      <td>3.384845</td>\n",
       "      <td>0.0</td>\n",
       "    </tr>\n",
       "    <tr>\n",
       "      <th>3</th>\n",
       "      <td>NP_001230935.1</td>\n",
       "      <td>carbonyl reductase 2 [Cricetulus griseus]</td>\n",
       "      <td>2.042439</td>\n",
       "      <td>33.554075</td>\n",
       "      <td>11.558503</td>\n",
       "      <td>0.000000</td>\n",
       "      <td>21.775220</td>\n",
       "      <td>10.319524</td>\n",
       "      <td>0.0</td>\n",
       "      <td>17.617045</td>\n",
       "      <td>0.000000</td>\n",
       "      <td>0.0</td>\n",
       "    </tr>\n",
       "    <tr>\n",
       "      <th>4</th>\n",
       "      <td>NP_001230936.1</td>\n",
       "      <td>carbonyl reductase [NADPH] 3 [Cricetulus griseus]</td>\n",
       "      <td>0.585707</td>\n",
       "      <td>37.070939</td>\n",
       "      <td>4.646791</td>\n",
       "      <td>0.000000</td>\n",
       "      <td>35.039610</td>\n",
       "      <td>24.485879</td>\n",
       "      <td>0.0</td>\n",
       "      <td>22.751988</td>\n",
       "      <td>4.818177</td>\n",
       "      <td>0.0</td>\n",
       "    </tr>\n",
       "  </tbody>\n",
       "</table>\n",
       "</div>"
      ],
      "text/plain": [
       "             accn                                               name  \\\n",
       "0  NP_001230909.1  alpha-1,3-mannosyl-glycoprotein 2-beta-N-acety...   \n",
       "1  NP_001230921.1  disintegrin and metalloproteinase domain-conta...   \n",
       "2  NP_001230924.2  MHC class I antigen Hm1-C2 precursor [Cricetul...   \n",
       "3  NP_001230935.1          carbonyl reductase 2 [Cricetulus griseus]   \n",
       "4  NP_001230936.1  carbonyl reductase [NADPH] 3 [Cricetulus griseus]   \n",
       "\n",
       "   hccf_feed  hccf_large  hccf_small  hccf_mab  hccf_spf1  hccf_spf2  \\\n",
       "0   0.308491   44.640145    2.474209  0.000000   2.526376   0.000000   \n",
       "1  21.775462   67.131030   28.834576  1.438311  16.463027  48.661161   \n",
       "2   0.969297   19.575620    5.471594  0.000000   3.733299   0.000000   \n",
       "3   2.042439   33.554075   11.558503  0.000000  21.775220  10.319524   \n",
       "4   0.585707   37.070939    4.646791  0.000000  35.039610  24.485879   \n",
       "\n",
       "   pavin_feed  pavin_large  pavin_small  pavin_mab  \n",
       "0         0.0     0.000000     0.000000        0.0  \n",
       "1         0.0    53.213184     8.808894        0.0  \n",
       "2         0.0    13.794253     3.384845        0.0  \n",
       "3         0.0    17.617045     0.000000        0.0  \n",
       "4         0.0    22.751988     4.818177        0.0  "
      ]
     },
     "execution_count": 22,
     "metadata": {},
     "output_type": "execute_result"
    }
   ],
   "source": [
    "df_master.head()"
   ]
  },
  {
   "cell_type": "markdown",
   "id": "8ba7be33",
   "metadata": {},
   "source": [
    "# Add biophysical properties"
   ]
  },
  {
   "cell_type": "code",
   "execution_count": 62,
   "id": "bdffc8f3",
   "metadata": {
    "ExecuteTime": {
     "end_time": "2022-12-07T19:12:38.369452Z",
     "start_time": "2022-12-07T19:12:38.352654Z"
    },
    "scrolled": true
   },
   "outputs": [],
   "source": [
    "# # Get new html links to look up sequences\n",
    "\n",
    "# html = ''\n",
    "# cnt = 0\n",
    "\n",
    "# for i, a in enumerate(df_master.accn):\n",
    "#     if i % 200 == 0:\n",
    "#         print(html[:-1], '\\n'*2)\n",
    "#         html = 'https://www.ncbi.nlm.nih.gov/protein/'        \n",
    "#     html += a + ','\n",
    "#     cnt += 1\n",
    "    \n",
    "# print(html[:-1], '\\n'*2)"
   ]
  },
  {
   "cell_type": "code",
   "execution_count": 23,
   "id": "52a2d6b5",
   "metadata": {
    "ExecuteTime": {
     "end_time": "2023-02-17T20:29:32.518510Z",
     "start_time": "2023-02-17T20:29:32.445637Z"
    }
   },
   "outputs": [],
   "source": [
    "# My substitution rules for uncertain amino acids\n",
    "my_sub_rules = {'B':'D', 'Z':'E', 'X':'A', 'J':'L'}\n",
    "\n",
    "# Get sequence dictionary {accession:sequence_object}\n",
    "sequences = {}\n",
    "subbed_ids = []\n",
    "\n",
    "for r in SeqIO.parse(\"./data/sequences_swath.fasta\", \"fasta\"):\n",
    "    for aa in my_sub_rules.keys(): # uncertain amino acids\n",
    "        if aa in r.seq:\n",
    "            r.seq = Seq.Seq(str(r.seq).replace(aa, my_sub_rules[aa]))\n",
    "            subbed_ids.append(r.id)\n",
    "    sequences[r.id] = r.seq"
   ]
  },
  {
   "cell_type": "code",
   "execution_count": 24,
   "id": "e8357fe1",
   "metadata": {
    "ExecuteTime": {
     "end_time": "2023-02-17T20:29:33.876753Z",
     "start_time": "2023-02-17T20:29:33.565477Z"
    }
   },
   "outputs": [],
   "source": [
    "missing = []\n",
    "for i, cont in df_master.iterrows():\n",
    "    if cont.accn not in list(sequences.keys()):\n",
    "        missing.append(cont.accn)\n",
    "assert len(missing) == 0"
   ]
  },
  {
   "cell_type": "code",
   "execution_count": 25,
   "id": "3f17e3b7",
   "metadata": {
    "ExecuteTime": {
     "end_time": "2023-02-17T20:30:24.986796Z",
     "start_time": "2023-02-17T20:29:35.573339Z"
    }
   },
   "outputs": [
    {
     "name": "stderr",
     "output_type": "stream",
     "text": [
      "/home/chase/anaconda3/lib/python3.7/site-packages/scipy/optimize/minpack.py:175: RuntimeWarning: The iteration is not making good progress, as measured by the \n",
      "  improvement from the last ten iterations.\n",
      "  warnings.warn(msg, RuntimeWarning)\n"
     ]
    }
   ],
   "source": [
    "# Get pI and mass dictionaries {accession:pI/mass}\n",
    "pI_vals = {}\n",
    "masses = {}\n",
    "\n",
    "for p_id, seq in sequences.items():\n",
    "    pI, is_solved = prot_fun.get_pI(seq)\n",
    "    assert is_solved\n",
    "    pI_vals[p_id] = pI\n",
    "    masses[p_id] = SeqUtils.molecular_weight(seq, seq_type='protein')"
   ]
  },
  {
   "cell_type": "code",
   "execution_count": 26,
   "id": "aa200adc",
   "metadata": {
    "ExecuteTime": {
     "end_time": "2023-02-17T20:30:25.314133Z",
     "start_time": "2023-02-17T20:30:24.988681Z"
    }
   },
   "outputs": [],
   "source": [
    "# Add sequences, pI values, and masses to df_master\n",
    "for i, cont in df_master.iterrows():\n",
    "    df_master.at[i, 'sequence'] = str(sequences[cont.accn])\n",
    "    df_master.at[i, 'pI'] = pI_vals[cont.accn]\n",
    "    df_master.at[i, 'mass'] = masses[cont.accn]"
   ]
  },
  {
   "cell_type": "code",
   "execution_count": 27,
   "id": "3e99bb4c",
   "metadata": {
    "ExecuteTime": {
     "end_time": "2023-02-17T20:30:29.826309Z",
     "start_time": "2023-02-17T20:30:25.315374Z"
    }
   },
   "outputs": [],
   "source": [
    "# Get other biophysical property dictionaries (assuming pH 7.0)\n",
    "net_charges, net_neg_charges, net_pos_charges, charge_densities, charge_densities_neg, charge_densities_pos = {}, {}, {}, {}, {}, {}\n",
    "\n",
    "for p_id, seq in sequences.items():\n",
    "    net_charge, net_neg_charge, net_pos_charge, charge_dens, charge_dens_neg, charge_dens_pos = prot_fun.get_charge(pH=7.0, seq=seq, charge_contributions=True)\n",
    "    net_charges[p_id] = net_charge\n",
    "    net_neg_charges[p_id] = net_neg_charge\n",
    "    net_pos_charges[p_id] = net_pos_charge\n",
    "    charge_densities[p_id] = charge_dens\n",
    "    charge_densities_neg[p_id] = charge_dens_neg\n",
    "    charge_densities_pos[p_id] = charge_dens_pos"
   ]
  },
  {
   "cell_type": "code",
   "execution_count": 28,
   "id": "e3e2f521",
   "metadata": {
    "ExecuteTime": {
     "end_time": "2023-02-17T20:30:30.267941Z",
     "start_time": "2023-02-17T20:30:29.828067Z"
    }
   },
   "outputs": [],
   "source": [
    "# Add these biophysical properties to df_master\n",
    "for i, cont in df_master.iterrows():\n",
    "    df_master.at[i, 'net_charge'] = net_charges[cont.accn]\n",
    "    df_master.at[i, 'net_charge_neg'] = net_neg_charges[cont.accn]\n",
    "    df_master.at[i, 'net_charge_pos'] = net_pos_charges[cont.accn]\n",
    "    df_master.at[i, 'charge_dens_C_m2'] = charge_densities[cont.accn]\n",
    "    df_master.at[i, 'charge_dens_neg_C_m2'] = charge_densities_neg[cont.accn]\n",
    "    df_master.at[i, 'charge_dens_pos_C_m2'] = charge_densities_pos[cont.accn]"
   ]
  },
  {
   "cell_type": "code",
   "execution_count": 29,
   "id": "d2a0e0dc",
   "metadata": {
    "ExecuteTime": {
     "end_time": "2023-02-17T20:30:30.346028Z",
     "start_time": "2023-02-17T20:30:30.269166Z"
    }
   },
   "outputs": [],
   "source": [
    "df_master.to_csv('./generated_tables/swath_master_df_ppm_with_properties.csv', index=False)"
   ]
  },
  {
   "cell_type": "code",
   "execution_count": null,
   "id": "3ba2b64b",
   "metadata": {},
   "outputs": [],
   "source": []
  },
  {
   "cell_type": "code",
   "execution_count": null,
   "id": "20d9f3ef",
   "metadata": {},
   "outputs": [],
   "source": []
  },
  {
   "cell_type": "code",
   "execution_count": null,
   "id": "ee347044",
   "metadata": {},
   "outputs": [],
   "source": []
  }
 ],
 "metadata": {
  "kernelspec": {
   "display_name": "Python 3 (ipykernel)",
   "language": "python",
   "name": "python3"
  },
  "language_info": {
   "codemirror_mode": {
    "name": "ipython",
    "version": 3
   },
   "file_extension": ".py",
   "mimetype": "text/x-python",
   "name": "python",
   "nbconvert_exporter": "python",
   "pygments_lexer": "ipython3",
   "version": "3.11.5"
  }
 },
 "nbformat": 4,
 "nbformat_minor": 5
}
