{
 "cells": [
  {
   "cell_type": "code",
   "execution_count": 1,
   "id": "5e341c33",
   "metadata": {
    "ExecuteTime": {
     "end_time": "2023-02-17T20:40:43.962496Z",
     "start_time": "2023-02-17T20:40:43.940990Z"
    },
    "execution": {
     "iopub.execute_input": "2023-08-28T00:22:00.280210Z",
     "iopub.status.busy": "2023-08-28T00:22:00.279951Z",
     "iopub.status.idle": "2023-08-28T00:22:00.296369Z",
     "shell.execute_reply": "2023-08-28T00:22:00.294616Z",
     "shell.execute_reply.started": "2023-08-28T00:22:00.280190Z"
    }
   },
   "outputs": [],
   "source": [
    "%load_ext autoreload\n",
    "%autoreload 2"
   ]
  },
  {
   "cell_type": "code",
   "execution_count": 2,
   "id": "abb0045c",
   "metadata": {
    "ExecuteTime": {
     "end_time": "2023-02-17T20:40:46.121566Z",
     "start_time": "2023-02-17T20:40:44.987913Z"
    },
    "execution": {
     "iopub.execute_input": "2023-08-28T00:22:00.711711Z",
     "iopub.status.busy": "2023-08-28T00:22:00.710785Z",
     "iopub.status.idle": "2023-08-28T00:22:02.108052Z",
     "shell.execute_reply": "2023-08-28T00:22:02.107163Z",
     "shell.execute_reply.started": "2023-08-28T00:22:00.711681Z"
    }
   },
   "outputs": [],
   "source": [
    "import pandas as pd\n",
    "import numpy as np\n",
    "from scipy import optimize\n",
    "from scipy.stats import sem\n",
    "\n",
    "import os\n",
    "import sys\n",
    "\n",
    "import matplotlib.pyplot as plt\n",
    "import matplotlib.ticker\n",
    "from matplotlib.patches import Rectangle\n",
    "from matplotlib.colors import ListedColormap, BoundaryNorm\n",
    "\n",
    "from venn import venn, pseudovenn\n",
    "import seaborn as sns\n",
    "\n",
    "from Bio import SeqIO, SeqUtils\n",
    "\n",
    "from addict import Dict\n",
    "\n",
    "import math"
   ]
  },
  {
   "cell_type": "code",
   "execution_count": 3,
   "id": "8cb5c72b",
   "metadata": {
    "ExecuteTime": {
     "end_time": "2023-02-17T20:40:46.137831Z",
     "start_time": "2023-02-17T20:40:46.123413Z"
    },
    "execution": {
     "iopub.execute_input": "2023-08-28T00:22:06.276545Z",
     "iopub.status.busy": "2023-08-28T00:22:06.275096Z",
     "iopub.status.idle": "2023-08-28T00:22:06.295667Z",
     "shell.execute_reply": "2023-08-28T00:22:06.293990Z",
     "shell.execute_reply.started": "2023-08-28T00:22:06.276515Z"
    }
   },
   "outputs": [],
   "source": [
    "sys.path.append(\"../\")\n",
    "import plotting as my_plot\n",
    "\n",
    "sys.path.append(\"./mean_field_elect/\")\n",
    "import proteomics_functions as prot_fun"
   ]
  },
  {
   "cell_type": "code",
   "execution_count": null,
   "id": "8825e92c",
   "metadata": {},
   "outputs": [],
   "source": []
  },
  {
   "cell_type": "markdown",
   "id": "4d61ddee",
   "metadata": {},
   "source": [
    "# Prepare SWATH data"
   ]
  },
  {
   "cell_type": "code",
   "execution_count": 7,
   "id": "c0b586ef",
   "metadata": {
    "ExecuteTime": {
     "end_time": "2022-12-16T22:15:37.658020Z",
     "start_time": "2022-12-16T22:15:37.398759Z"
    }
   },
   "outputs": [],
   "source": [
    "df_master = pd.read_csv('./generated_tables/swath_master_df_ppm.csv')\n",
    "for i, cont in df_master.iterrows():\n",
    "    text = cont['name'].replace(' [Cricetulus griseus]', '')\n",
    "    text = text.lower()\n",
    "    text = text.replace('-', ' ')\n",
    "    text = text.replace('_', ' ')\n",
    "    text = text.replace(',', '')\n",
    "    df_master.at[i, 'desc_lower_2'] = text"
   ]
  },
  {
   "cell_type": "markdown",
   "id": "791bcf04",
   "metadata": {},
   "source": [
    "# High-risk HCPs "
   ]
  },
  {
   "cell_type": "code",
   "execution_count": 6,
   "id": "98fa2b5a",
   "metadata": {
    "ExecuteTime": {
     "end_time": "2022-12-16T22:15:33.346283Z",
     "start_time": "2022-12-16T22:15:32.234599Z"
    },
    "scrolled": true
   },
   "outputs": [],
   "source": [
    "# Generate the high-risk candidate list\n",
    "path = './lit_data/biophorum_high_risk_clean.csv'\n",
    "df_lit = pd.read_csv(path)\n",
    "prot_fun.get_name_matches(df_master, path, 'high_risk')\n",
    "df_risk = df_master[df_master.high_risk_name.notnull()].copy()\n",
    "df_risk.reset_index(drop=True, inplace=True)\n",
    "\n",
    "for i, cont in df_risk.iterrows():\n",
    "    for col in ['impact', 'impact_type', 'function']:\n",
    "        data = df_lit.loc[df_lit.desc_lower_2 == cont.high_risk_name, col].iloc[0] \n",
    "        df_risk.at[i, col] = data\n",
    "        \n",
    "df_risk.to_csv('./generated_tables/high_risk_swath_unreviewed.csv', index=False)"
   ]
  },
  {
   "cell_type": "markdown",
   "id": "17b8131c",
   "metadata": {},
   "source": [
    "# Difficult to remove\n",
    "\n",
    "**Re-run** the SWATH data prep before running this section"
   ]
  },
  {
   "cell_type": "code",
   "execution_count": 8,
   "id": "8ab6843d",
   "metadata": {
    "ExecuteTime": {
     "end_time": "2022-12-16T22:15:53.078727Z",
     "start_time": "2022-12-16T22:15:40.314576Z"
    }
   },
   "outputs": [],
   "source": [
    "prot_fun.get_name_matches(df_master, './lit_data/biophorum_clean.csv', 'Biophorum DTR', name_append='')\n",
    "prot_fun.get_name_matches(df_master, './lit_data/biophorum_high_risk_clean.csv', 'Biophorum high-risk', name_append='')\n",
    "prot_fun.get_name_matches(df_master, './lit_data/levy_2014_clean.csv', 'Levy 2014 - Association', name_append='')\n",
    "prot_fun.get_name_matches(df_master, './lit_data/zhang_table_2_clean.csv', 'Zhang 2016 - Pro A', name_append='')\n",
    "prot_fun.get_name_matches(df_master, './lit_data/levy_2016_clean.csv', 'Levy 2016 - Coelution', name_append='')\n",
    "prot_fun.get_name_matches(df_master, './lit_data/molden_clean.csv', 'Molden 2021 - 29 DS', name_append='')\n",
    "prot_fun.get_name_matches(df_master, './lit_data/falkenberg_table_4_clean.csv', 'Falkenberg 2019 - 6 DS', name_append='')\n",
    "prot_fun.get_name_matches(df_master, './lit_data/kreimer_table_1_clean.csv', 'Kreimer 2017 - 1 DS', name_append='')\n",
    "prot_fun.get_name_matches(df_master, './lit_data/aboulaich_table_1_clean.csv', 'Aboulaich 2014 - Association', name_append='')"
   ]
  },
  {
   "cell_type": "code",
   "execution_count": 9,
   "id": "5071462c",
   "metadata": {
    "ExecuteTime": {
     "end_time": "2022-12-16T22:15:53.112736Z",
     "start_time": "2022-12-16T22:15:53.080508Z"
    }
   },
   "outputs": [],
   "source": [
    "papers = ['Biophorum DTR', 'Biophorum high-risk', 'Levy 2014 - Association', 'Zhang 2016 - Pro A', \n",
    "          'Levy 2016 - Coelution', 'Molden 2021 - 29 DS', 'Falkenberg 2019 - 6 DS', 'Kreimer 2017 - 1 DS',\n",
    "          'Aboulaich 2014 - Association']\n",
    "\n",
    "df_dtr = df_master[(df_master[papers[0]].notnull()) |\n",
    "                   (df_master[papers[1]].notnull()) |\n",
    "                   (df_master[papers[2]].notnull()) |\n",
    "                   (df_master[papers[3]].notnull()) |\n",
    "                   (df_master[papers[4]].notnull()) |\n",
    "                   (df_master[papers[5]].notnull()) |\n",
    "                   (df_master[papers[6]].notnull()) |\n",
    "                   (df_master[papers[7]].notnull()) |\n",
    "                   (df_master[papers[8]].notnull()) ]\n",
    "\n",
    "df_dtr.reset_index(inplace=True, drop=True)\n",
    "df_dtr.to_csv('./generated_tables/difficult_to_remove_swath_unreviewed.csv', index=False)"
   ]
  },
  {
   "cell_type": "code",
   "execution_count": null,
   "id": "528fa88b",
   "metadata": {},
   "outputs": [],
   "source": []
  },
  {
   "cell_type": "markdown",
   "id": "108e0718",
   "metadata": {},
   "source": [
    "# Ad hoc - after updating the ppm values \n",
    "After having already reviewed the name matches"
   ]
  },
  {
   "cell_type": "code",
   "execution_count": 16,
   "id": "5710f87b",
   "metadata": {
    "ExecuteTime": {
     "end_time": "2022-12-16T22:18:35.896627Z",
     "start_time": "2022-12-16T22:18:35.855812Z"
    }
   },
   "outputs": [],
   "source": [
    "df_master = pd.read_csv('./generated_tables/swath_master_df_ppm.csv')\n",
    "df_risk = pd.read_csv('./generated_tables/high_risk_swath_reviewed_prev.csv') # previous (wrong) ppm values\n",
    "df_dtr = pd.read_csv('./generated_tables/difficult_to_remove_swath_reviewed_prev.csv') # previous (wrong) ppm values"
   ]
  },
  {
   "cell_type": "code",
   "execution_count": 18,
   "id": "26d75814",
   "metadata": {
    "ExecuteTime": {
     "end_time": "2022-12-16T22:20:53.736020Z",
     "start_time": "2022-12-16T22:20:52.835550Z"
    }
   },
   "outputs": [],
   "source": [
    "for i, cont in df_risk.iterrows():\n",
    "    for col in ['hccf_feed', 'hccf_large', 'hccf_small', 'hccf_mab', 'hccf_spf1', 'hccf_spf2', 'pavin_feed', 'pavin_large', 'pavin_small']:\n",
    "        df_risk.at[i, col] = df_master.loc[df_master.accn == cont.accn, col].iloc[0]\n",
    "        \n",
    "for i, cont in df_dtr.iterrows():\n",
    "    for col in ['hccf_feed', 'hccf_large', 'hccf_small', 'hccf_mab', 'hccf_spf1', 'hccf_spf2', 'pavin_feed', 'pavin_large', 'pavin_small']:\n",
    "        df_dtr.at[i, col] = df_master.loc[df_master.accn == cont.accn, col].iloc[0]"
   ]
  },
  {
   "cell_type": "code",
   "execution_count": 19,
   "id": "5184fd00",
   "metadata": {
    "ExecuteTime": {
     "end_time": "2022-12-16T22:21:48.118608Z",
     "start_time": "2022-12-16T22:21:48.097585Z"
    }
   },
   "outputs": [],
   "source": [
    "# df_risk.to_csv('./generated_tables/high_risk_swath_reviewed.csv', index=False)\n",
    "# df_dtr.to_csv('./generated_tables/difficult_to_remove_swath_reviewed.csv', index=False)"
   ]
  },
  {
   "cell_type": "code",
   "execution_count": null,
   "id": "59f870e9",
   "metadata": {},
   "outputs": [],
   "source": []
  },
  {
   "cell_type": "markdown",
   "id": "6cedf664",
   "metadata": {},
   "source": [
    "# Ad hoc - after receiving PAVIN mAb data"
   ]
  },
  {
   "cell_type": "code",
   "execution_count": 5,
   "id": "7e1085bd",
   "metadata": {
    "ExecuteTime": {
     "end_time": "2023-02-17T20:45:58.308059Z",
     "start_time": "2023-02-17T20:45:58.274725Z"
    }
   },
   "outputs": [],
   "source": [
    "df_master = pd.read_csv('./generated_tables/swath_master_df_ppm.csv')\n",
    "df_risk = pd.read_csv('./generated_tables/high_risk_swath_reviewed_no_pavin_mAb.csv') # previous (wrong) ppm values\n",
    "df_dtr = pd.read_csv('./generated_tables/difficult_to_remove_swath_reviewed_no_pavin_mAb.csv') # previous (wrong) ppm values"
   ]
  },
  {
   "cell_type": "code",
   "execution_count": 6,
   "id": "7a237980",
   "metadata": {
    "ExecuteTime": {
     "end_time": "2023-02-17T20:47:11.320713Z",
     "start_time": "2023-02-17T20:47:10.299937Z"
    }
   },
   "outputs": [],
   "source": [
    "for i, cont in df_risk.iterrows():\n",
    "    for col in ['hccf_feed', 'hccf_large', 'hccf_small', 'hccf_mab', 'hccf_spf1', 'hccf_spf2', 'pavin_feed', 'pavin_large', 'pavin_small', 'pavin_mab']:\n",
    "        df_risk.at[i, col] = df_master.loc[df_master.accn == cont.accn, col].iloc[0]\n",
    "        \n",
    "for i, cont in df_dtr.iterrows():\n",
    "    for col in ['hccf_feed', 'hccf_large', 'hccf_small', 'hccf_mab', 'hccf_spf1', 'hccf_spf2', 'pavin_feed', 'pavin_large', 'pavin_small', 'pavin_mab']:\n",
    "        df_dtr.at[i, col] = df_master.loc[df_master.accn == cont.accn, col].iloc[0]"
   ]
  },
  {
   "cell_type": "code",
   "execution_count": 7,
   "id": "a2ab65d8",
   "metadata": {
    "ExecuteTime": {
     "end_time": "2023-02-17T20:47:24.952753Z",
     "start_time": "2023-02-17T20:47:24.915845Z"
    }
   },
   "outputs": [],
   "source": [
    "# df_risk.to_csv('./generated_tables/high_risk_swath_reviewed.csv', index=False)\n",
    "# df_dtr.to_csv('./generated_tables/difficult_to_remove_swath_reviewed.csv', index=False)"
   ]
  },
  {
   "cell_type": "code",
   "execution_count": null,
   "id": "a8df9609",
   "metadata": {},
   "outputs": [],
   "source": []
  },
  {
   "cell_type": "code",
   "execution_count": null,
   "id": "bfeea86a",
   "metadata": {},
   "outputs": [],
   "source": []
  },
  {
   "cell_type": "code",
   "execution_count": null,
   "id": "d52f9bf0",
   "metadata": {},
   "outputs": [],
   "source": []
  },
  {
   "cell_type": "code",
   "execution_count": null,
   "id": "d9f87e76",
   "metadata": {},
   "outputs": [],
   "source": []
  },
  {
   "cell_type": "code",
   "execution_count": null,
   "id": "fdf5eb76",
   "metadata": {},
   "outputs": [],
   "source": []
  },
  {
   "cell_type": "code",
   "execution_count": null,
   "id": "a7ddaeba",
   "metadata": {},
   "outputs": [],
   "source": []
  },
  {
   "cell_type": "code",
   "execution_count": null,
   "id": "cc28dc76",
   "metadata": {},
   "outputs": [],
   "source": []
  },
  {
   "cell_type": "code",
   "execution_count": null,
   "id": "7951f5a1",
   "metadata": {},
   "outputs": [],
   "source": []
  },
  {
   "cell_type": "code",
   "execution_count": null,
   "id": "43ed6298",
   "metadata": {},
   "outputs": [],
   "source": []
  }
 ],
 "metadata": {
  "kernelspec": {
   "display_name": "Python 3 (ipykernel)",
   "language": "python",
   "name": "python3"
  },
  "language_info": {
   "codemirror_mode": {
    "name": "ipython",
    "version": 3
   },
   "file_extension": ".py",
   "mimetype": "text/x-python",
   "name": "python",
   "nbconvert_exporter": "python",
   "pygments_lexer": "ipython3",
   "version": "3.11.5"
  }
 },
 "nbformat": 4,
 "nbformat_minor": 5
}
