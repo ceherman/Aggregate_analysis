{
 "cells": [
  {
   "cell_type": "code",
   "execution_count": 1,
   "id": "c6f5948b",
   "metadata": {
    "ExecuteTime": {
     "end_time": "2022-04-25T02:17:26.397296Z",
     "start_time": "2022-04-25T02:17:26.374095Z"
    }
   },
   "outputs": [],
   "source": [
    "%load_ext autoreload\n",
    "%autoreload 2"
   ]
  },
  {
   "cell_type": "code",
   "execution_count": 2,
   "id": "c153cd43",
   "metadata": {
    "ExecuteTime": {
     "end_time": "2022-04-25T02:17:26.604660Z",
     "start_time": "2022-04-25T02:17:26.581146Z"
    }
   },
   "outputs": [
    {
     "data": {
      "text/html": [
       "<style>.container { width:100% !important; }</style>"
      ],
      "text/plain": [
       "<IPython.core.display.HTML object>"
      ]
     },
     "metadata": {},
     "output_type": "display_data"
    }
   ],
   "source": [
    "from IPython.core.display import display, HTML, clear_output\n",
    "display(HTML(\"<style>.container { width:100% !important; }</style>\"))"
   ]
  },
  {
   "cell_type": "code",
   "execution_count": 3,
   "id": "030925a7",
   "metadata": {
    "ExecuteTime": {
     "end_time": "2022-04-25T02:17:27.892711Z",
     "start_time": "2022-04-25T02:17:26.781014Z"
    }
   },
   "outputs": [],
   "source": [
    "import pandas as pd\n",
    "import numpy as np\n",
    "from scipy import optimize\n",
    "from scipy.stats import sem\n",
    "\n",
    "import os\n",
    "import sys\n",
    "\n",
    "import matplotlib.pyplot as plt\n",
    "import matplotlib.ticker\n",
    "from venn import venn, pseudovenn\n",
    "import seaborn as sns\n",
    "\n",
    "from Bio import SeqIO, SeqUtils\n",
    "\n",
    "from addict import Dict"
   ]
  },
  {
   "cell_type": "code",
   "execution_count": 4,
   "id": "bdac22e0",
   "metadata": {
    "ExecuteTime": {
     "end_time": "2022-04-25T02:17:27.909139Z",
     "start_time": "2022-04-25T02:17:27.894346Z"
    }
   },
   "outputs": [],
   "source": [
    "sys.path.append(\"/home/chase/codes/python_functions/\")\n",
    "import plotting as my_plot\n",
    "\n",
    "sys.path.append(\"/home/chase/my_work/correlation_aex_data/mean_field_electrostatics/v2\")\n",
    "import base_classes\n",
    "import morbidelli as m"
   ]
  },
  {
   "cell_type": "code",
   "execution_count": null,
   "id": "30e5b15d",
   "metadata": {},
   "outputs": [],
   "source": []
  },
  {
   "cell_type": "markdown",
   "id": "cfb97e5c",
   "metadata": {},
   "source": [
    "### Load my cleaned data"
   ]
  },
  {
   "cell_type": "code",
   "execution_count": 5,
   "id": "e86f61ba",
   "metadata": {
    "ExecuteTime": {
     "end_time": "2022-04-25T02:17:29.634380Z",
     "start_time": "2022-04-25T02:17:29.611764Z"
    }
   },
   "outputs": [],
   "source": [
    "df_master = pd.read_csv('./generated_tables/location_master.csv')"
   ]
  },
  {
   "cell_type": "code",
   "execution_count": null,
   "id": "bb00e7f7",
   "metadata": {},
   "outputs": [],
   "source": []
  },
  {
   "cell_type": "markdown",
   "id": "25b0ce8b",
   "metadata": {},
   "source": [
    "# Comparison to literature"
   ]
  },
  {
   "cell_type": "markdown",
   "id": "008dc9d8",
   "metadata": {},
   "source": [
    "### Clean up the literature data spreadsheets\n",
    "Should only need to run once"
   ]
  },
  {
   "cell_type": "code",
   "execution_count": 6,
   "id": "67d62a0b",
   "metadata": {
    "ExecuteTime": {
     "end_time": "2022-04-25T02:17:44.545812Z",
     "start_time": "2022-04-25T02:17:44.492675Z"
    }
   },
   "outputs": [],
   "source": [
    "def clean_connolly(df_con):\n",
    "    for i, cont in df_con.iterrows():\n",
    "        string = cont['desc'].lower()\n",
    "\n",
    "        string = string.replace('✓', '')\n",
    "        string = string.replace('\\xa0', ' ')\n",
    "        string = string.replace('\\u2009', ' ')\n",
    "        string = string.replace(') c', ')')\n",
    "        string = string.replace(') d', ')')\n",
    "        string = string.replace(') e', ')')\n",
    "        string = string.replace(' - ', '-')\n",
    "        string = string.replace('-β1', '')\n",
    "\n",
    "        string = string.strip()\n",
    "        if string.find('(')-1 > 0:\n",
    "            df_con.at[i, 'desc_lower'] = string[:string.find('(')-1]\n",
    "        else:\n",
    "            df_con.at[i, 'desc_lower'] = string\n",
    "\n",
    "        if '(' in string:\n",
    "            df_con.at[i, 'acronym'] = string[string.find('(')+1:-1]\n",
    "        else:\n",
    "            df_con.at[i, 'acronym'] = 'ignore_me_xxx'\n",
    "    return \n",
    "        \n",
    "df_con = pd.read_csv('./lit_data/connolly_dirty.csv')\n",
    "df_con.columns = ['desc', 'mw_kDa', 'pI', 'uniprot', 'n_aa']\n",
    "clean_connolly(df_con)\n",
    "df_con.to_csv('./lit_data/connolly_clean.csv', index=False)\n",
    "\n",
    "df_risk = pd.read_csv('./lit_data/connolly_dirty_high_risk.csv')\n",
    "df_risk.columns = ['desc', 'function', 'impact', 'impact_type', 'references']\n",
    "clean_connolly(df_risk)\n",
    "df_risk.to_csv('./lit_data/connolly_clean_high_risk.csv', index=False)"
   ]
  },
  {
   "cell_type": "code",
   "execution_count": 7,
   "id": "ec0036b1",
   "metadata": {
    "ExecuteTime": {
     "end_time": "2022-04-25T02:26:20.626726Z",
     "start_time": "2022-04-25T02:26:20.591807Z"
    }
   },
   "outputs": [],
   "source": [
    "df_li = pd.read_csv('./lit_data/li_dirty.csv')\n",
    "df_li.rename(columns={'Accession Number (Uniport) ':'uniprot', 'Protein Name':'name'}, inplace=True)\n",
    "for i, cont in df_li.iterrows():\n",
    "    df_li.at[i, 'desc_lower'] = cont['name'].lower()\n",
    "df_li.to_csv('./lit_data/li_clean.csv', index=False)"
   ]
  },
  {
   "cell_type": "code",
   "execution_count": null,
   "id": "b18ffe95",
   "metadata": {},
   "outputs": [],
   "source": []
  },
  {
   "cell_type": "markdown",
   "id": "f9755633",
   "metadata": {},
   "source": [
    "### Check against accession number lists"
   ]
  },
  {
   "cell_type": "code",
   "execution_count": 203,
   "id": "d6961d79",
   "metadata": {
    "ExecuteTime": {
     "end_time": "2022-04-25T01:59:52.078244Z",
     "start_time": "2022-04-25T01:59:52.049325Z"
    }
   },
   "outputs": [],
   "source": [
    "def check_against_id_map(my_df, id_map_file, map_name):\n",
    "    df_map = pd.read_csv(id_map_file, sep='\\t')\n",
    "    df_map.columns = ['uniprot', 'ref_seq']\n",
    "    ref_seq_vals = list(df_map.ref_seq)\n",
    "\n",
    "    for i, cont in my_df.iterrows():\n",
    "        if cont.accession in ref_seq_vals:\n",
    "            my_df.at[i, f'id_in_{map_name}'] = True\n",
    "        else:\n",
    "            my_df.at[i, f'id_in_{map_name}'] = False\n",
    "    return"
   ]
  },
  {
   "cell_type": "code",
   "execution_count": 204,
   "id": "ba2ca8e3",
   "metadata": {
    "ExecuteTime": {
     "end_time": "2022-04-25T01:59:57.336001Z",
     "start_time": "2022-04-25T01:59:57.305397Z"
    }
   },
   "outputs": [],
   "source": [
    "check_against_id_map(df_master, './lit_data/li_uniprot_ref_seq_map.txt', 'li')\n",
    "check_against_id_map(df_master, './lit_data/connolly_uniprot_ref_seq_map.txt', 'connolly')"
   ]
  },
  {
   "cell_type": "code",
   "execution_count": null,
   "id": "7bf6a302",
   "metadata": {},
   "outputs": [],
   "source": []
  },
  {
   "cell_type": "markdown",
   "id": "c0ddcb79",
   "metadata": {},
   "source": [
    "### Check against names"
   ]
  },
  {
   "cell_type": "code",
   "execution_count": 7,
   "id": "05853fed",
   "metadata": {
    "ExecuteTime": {
     "end_time": "2022-04-25T02:04:37.827743Z",
     "start_time": "2022-04-25T02:04:37.804678Z"
    }
   },
   "outputs": [],
   "source": [
    "df_li = pd.read_csv('./lit_data/li_clean.csv')\n",
    "df_connolly = pd.read_csv('./lit_data/connolly_clean.csv')\n",
    "df_risk = pd.read_csv('./lit_data/connolly_clean_high_risk.csv')"
   ]
  },
  {
   "cell_type": "code",
   "execution_count": 8,
   "id": "fd38fa78",
   "metadata": {
    "ExecuteTime": {
     "end_time": "2022-04-25T02:04:39.718768Z",
     "start_time": "2022-04-25T02:04:39.693065Z"
    }
   },
   "outputs": [
    {
     "name": "stdout",
     "output_type": "stream",
     "text": [
      "carboxyesterase\n",
      "glutathione-s-transferase\n",
      "matrix metalloproteinase\n",
      "peroxiredoxin\n",
      "protein s100\n",
      "transforming growth factor\n"
     ]
    }
   ],
   "source": [
    "for name in list(df_risk.desc_lower):\n",
    "    if name not in list(df_connolly.desc_lower):\n",
    "        print(name)"
   ]
  },
  {
   "cell_type": "code",
   "execution_count": null,
   "id": "b3edc4cf",
   "metadata": {},
   "outputs": [],
   "source": []
  },
  {
   "cell_type": "code",
   "execution_count": 207,
   "id": "ca387531",
   "metadata": {
    "ExecuteTime": {
     "end_time": "2022-04-25T02:00:08.087887Z",
     "start_time": "2022-04-25T02:00:08.057641Z"
    }
   },
   "outputs": [],
   "source": [
    "# li_fam = list(df_li.desc_lower)\n",
    "# con_fam = list(df_con.desc_lower)\n",
    "# # con_fam += list(df_con.acronym)\n",
    "# con_fam = list(set(con_fam))\n",
    "# con_fam.sort()\n"
   ]
  },
  {
   "cell_type": "code",
   "execution_count": null,
   "id": "a1050828",
   "metadata": {},
   "outputs": [],
   "source": []
  },
  {
   "cell_type": "markdown",
   "id": "1cf17964",
   "metadata": {},
   "source": [
    "### Previous charts"
   ]
  },
  {
   "cell_type": "code",
   "execution_count": 232,
   "id": "475d323a",
   "metadata": {
    "ExecuteTime": {
     "end_time": "2022-04-25T22:52:27.228309Z",
     "start_time": "2022-04-25T22:52:27.207966Z"
    }
   },
   "outputs": [],
   "source": [
    "total        = len(df_master)\n",
    "total_hccf   = len(df_master_hccf)\n",
    "total_pafvin = len(df_master_pafvin)"
   ]
  },
  {
   "cell_type": "code",
   "execution_count": 233,
   "id": "04329033",
   "metadata": {
    "ExecuteTime": {
     "end_time": "2022-04-25T22:52:27.823310Z",
     "start_time": "2022-04-25T22:52:27.799611Z"
    }
   },
   "outputs": [],
   "source": [
    "bar_counts = {'Source': [r'HCCF $\\cup$ PAFVIN', 'HCCF', 'PAFVIN'],\n",
    "              'Fraction': ['Total', 'Total', 'Total'],\n",
    "              'Number of HCPs': [total, total_hccf, total_pafvin]}\n",
    "\n",
    "for source in dfs.keys():\n",
    "    for frac in dfs[source].keys():\n",
    "        bar_counts['Source'].append(source.upper())\n",
    "        bar_counts['Fraction'].append(frac.upper())\n",
    "        bar_counts['Number of HCPs'].append(len(dfs[source][frac]))\n",
    "        \n",
    "df_bar = pd.DataFrame(bar_counts)"
   ]
  },
  {
   "cell_type": "code",
   "execution_count": 234,
   "id": "5235eb80",
   "metadata": {
    "ExecuteTime": {
     "end_time": "2022-04-25T22:52:31.820028Z",
     "start_time": "2022-04-25T22:52:31.792212Z"
    }
   },
   "outputs": [
    {
     "data": {
      "text/html": [
       "<div>\n",
       "<style scoped>\n",
       "    .dataframe tbody tr th:only-of-type {\n",
       "        vertical-align: middle;\n",
       "    }\n",
       "\n",
       "    .dataframe tbody tr th {\n",
       "        vertical-align: top;\n",
       "    }\n",
       "\n",
       "    .dataframe thead th {\n",
       "        text-align: right;\n",
       "    }\n",
       "</style>\n",
       "<table border=\"1\" class=\"dataframe\">\n",
       "  <thead>\n",
       "    <tr style=\"text-align: right;\">\n",
       "      <th></th>\n",
       "      <th>Source</th>\n",
       "      <th>Fraction</th>\n",
       "      <th>Number of HCPs</th>\n",
       "    </tr>\n",
       "  </thead>\n",
       "  <tbody>\n",
       "    <tr>\n",
       "      <th>0</th>\n",
       "      <td>HCCF $\\cup$ PAFVIN</td>\n",
       "      <td>Total</td>\n",
       "      <td>2359</td>\n",
       "    </tr>\n",
       "    <tr>\n",
       "      <th>1</th>\n",
       "      <td>HCCF</td>\n",
       "      <td>Total</td>\n",
       "      <td>1550</td>\n",
       "    </tr>\n",
       "    <tr>\n",
       "      <th>2</th>\n",
       "      <td>PAFVIN</td>\n",
       "      <td>Total</td>\n",
       "      <td>1787</td>\n",
       "    </tr>\n",
       "    <tr>\n",
       "      <th>3</th>\n",
       "      <td>HCCF</td>\n",
       "      <td>FEED</td>\n",
       "      <td>473</td>\n",
       "    </tr>\n",
       "    <tr>\n",
       "      <th>4</th>\n",
       "      <td>HCCF</td>\n",
       "      <td>LARGE</td>\n",
       "      <td>951</td>\n",
       "    </tr>\n",
       "    <tr>\n",
       "      <th>5</th>\n",
       "      <td>HCCF</td>\n",
       "      <td>SMALL</td>\n",
       "      <td>764</td>\n",
       "    </tr>\n",
       "    <tr>\n",
       "      <th>6</th>\n",
       "      <td>HCCF</td>\n",
       "      <td>MAB</td>\n",
       "      <td>201</td>\n",
       "    </tr>\n",
       "    <tr>\n",
       "      <th>7</th>\n",
       "      <td>HCCF</td>\n",
       "      <td>LMW1</td>\n",
       "      <td>671</td>\n",
       "    </tr>\n",
       "    <tr>\n",
       "      <th>8</th>\n",
       "      <td>HCCF</td>\n",
       "      <td>LMW2</td>\n",
       "      <td>507</td>\n",
       "    </tr>\n",
       "    <tr>\n",
       "      <th>9</th>\n",
       "      <td>PAFVIN</td>\n",
       "      <td>FEED</td>\n",
       "      <td>104</td>\n",
       "    </tr>\n",
       "    <tr>\n",
       "      <th>10</th>\n",
       "      <td>PAFVIN</td>\n",
       "      <td>LARGE</td>\n",
       "      <td>1715</td>\n",
       "    </tr>\n",
       "    <tr>\n",
       "      <th>11</th>\n",
       "      <td>PAFVIN</td>\n",
       "      <td>SMALL</td>\n",
       "      <td>785</td>\n",
       "    </tr>\n",
       "    <tr>\n",
       "      <th>12</th>\n",
       "      <td>PAFVIN</td>\n",
       "      <td>MAB</td>\n",
       "      <td>2</td>\n",
       "    </tr>\n",
       "  </tbody>\n",
       "</table>\n",
       "</div>"
      ],
      "text/plain": [
       "                Source Fraction  Number of HCPs\n",
       "0   HCCF $\\cup$ PAFVIN    Total            2359\n",
       "1                 HCCF    Total            1550\n",
       "2               PAFVIN    Total            1787\n",
       "3                 HCCF     FEED             473\n",
       "4                 HCCF    LARGE             951\n",
       "5                 HCCF    SMALL             764\n",
       "6                 HCCF      MAB             201\n",
       "7                 HCCF     LMW1             671\n",
       "8                 HCCF     LMW2             507\n",
       "9               PAFVIN     FEED             104\n",
       "10              PAFVIN    LARGE            1715\n",
       "11              PAFVIN    SMALL             785\n",
       "12              PAFVIN      MAB               2"
      ]
     },
     "execution_count": 234,
     "metadata": {},
     "output_type": "execute_result"
    }
   ],
   "source": [
    "df_bar"
   ]
  },
  {
   "cell_type": "code",
   "execution_count": 235,
   "id": "3edb1c9e",
   "metadata": {
    "ExecuteTime": {
     "end_time": "2022-04-25T22:52:35.770119Z",
     "start_time": "2022-04-25T22:52:35.016458Z"
    }
   },
   "outputs": [
    {
     "name": "stderr",
     "output_type": "stream",
     "text": [
      "/home/chase/anaconda3/lib/python3.7/site-packages/seaborn/categorical.py:3806: UserWarning: Setting `sharex=False` with `color=None` may cause different levels of the `x` variable to share colors. This will change in a future version.\n",
      "  warnings.warn(msg.format(\"sharex\", \"x\"), UserWarning)\n"
     ]
    },
    {
     "data": {
      "image/png": "[encoded data removed]",
      "text/plain": [
       "<Figure size 864x432 with 3 Axes>"
      ]
     },
     "metadata": {
      "needs_background": "light"
     },
     "output_type": "display_data"
    }
   ],
   "source": [
    "g = sns.catplot(kind='bar', data=df_bar, col='Source', x='Fraction', y='Number of HCPs',\n",
    "                dodge=False, sharex=False)\n",
    "g.set_xticklabels(rotation=50)\n",
    "\n",
    "g.fig.set_size_inches(12, 6)\n",
    "plt.tight_layout()\n",
    "plt.savefig('./images/bar_chart_totals.png', dpi=300)"
   ]
  },
  {
   "cell_type": "code",
   "execution_count": null,
   "id": "61d5140a",
   "metadata": {},
   "outputs": [],
   "source": [
    "# g = sns.catplot(kind='bar', data=df_questionable, col='Source', x='Fraction', y='Low confidence HCPs',\n",
    "#                 dodge=False, sharex=False)\n",
    "# g.set_xticklabels(rotation=50)\n",
    "\n",
    "# g.fig.set_size_inches(8.5, 6)\n",
    "# plt.tight_layout()\n",
    "# plt.savefig('./images/bar_chart_number_of_low_confidence_HCPs.png', dpi=300)"
   ]
  },
  {
   "cell_type": "code",
   "execution_count": null,
   "id": "f715bd77",
   "metadata": {},
   "outputs": [],
   "source": []
  },
  {
   "cell_type": "code",
   "execution_count": null,
   "id": "071084dd",
   "metadata": {},
   "outputs": [],
   "source": []
  }
 ],
 "metadata": {
  "kernelspec": {
   "display_name": "Python 3 (ipykernel)",
   "language": "python",
   "name": "python3"
  },
  "language_info": {
   "codemirror_mode": {
    "name": "ipython",
    "version": 3
   },
   "file_extension": ".py",
   "mimetype": "text/x-python",
   "name": "python",
   "nbconvert_exporter": "python",
   "pygments_lexer": "ipython3",
   "version": "3.7.12"
  }
 },
 "nbformat": 4,
 "nbformat_minor": 5
}
