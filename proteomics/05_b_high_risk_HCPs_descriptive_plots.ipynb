{
 "cells": [
  {
   "cell_type": "code",
   "execution_count": 2,
   "id": "5e341c33",
   "metadata": {
    "ExecuteTime": {
     "end_time": "2023-06-13T14:52:19.426704Z",
     "start_time": "2023-06-13T14:52:19.404305Z"
    },
    "execution": {
     "iopub.execute_input": "2023-08-28T00:17:51.202915Z",
     "iopub.status.busy": "2023-08-28T00:17:51.202514Z",
     "iopub.status.idle": "2023-08-28T00:17:51.217388Z",
     "shell.execute_reply": "2023-08-28T00:17:51.216666Z",
     "shell.execute_reply.started": "2023-08-28T00:17:51.202886Z"
    }
   },
   "outputs": [],
   "source": [
    "%load_ext autoreload\n",
    "%autoreload 2"
   ]
  },
  {
   "cell_type": "code",
   "execution_count": 3,
   "id": "abb0045c",
   "metadata": {
    "ExecuteTime": {
     "end_time": "2023-06-13T14:52:21.035923Z",
     "start_time": "2023-06-13T14:52:19.881588Z"
    },
    "execution": {
     "iopub.execute_input": "2023-08-28T00:17:51.441876Z",
     "iopub.status.busy": "2023-08-28T00:17:51.441458Z",
     "iopub.status.idle": "2023-08-28T00:17:52.785720Z",
     "shell.execute_reply": "2023-08-28T00:17:52.784929Z",
     "shell.execute_reply.started": "2023-08-28T00:17:51.441845Z"
    }
   },
   "outputs": [],
   "source": [
    "import pandas as pd\n",
    "import numpy as np\n",
    "from scipy import optimize\n",
    "from scipy.stats import sem\n",
    "\n",
    "import os\n",
    "import sys\n",
    "\n",
    "import matplotlib.pyplot as plt\n",
    "import matplotlib.ticker\n",
    "from matplotlib.patches import Rectangle\n",
    "from matplotlib.colors import ListedColormap, BoundaryNorm\n",
    "\n",
    "from venn import venn, pseudovenn\n",
    "import seaborn as sns\n",
    "\n",
    "from Bio import SeqIO, SeqUtils\n",
    "\n",
    "from addict import Dict\n",
    "\n",
    "import math"
   ]
  },
  {
   "cell_type": "code",
   "execution_count": 4,
   "id": "8cb5c72b",
   "metadata": {
    "ExecuteTime": {
     "end_time": "2023-06-13T14:52:21.054188Z",
     "start_time": "2023-06-13T14:52:21.037727Z"
    },
    "execution": {
     "iopub.execute_input": "2023-08-28T00:17:52.788268Z",
     "iopub.status.busy": "2023-08-28T00:17:52.787910Z",
     "iopub.status.idle": "2023-08-28T00:17:52.807197Z",
     "shell.execute_reply": "2023-08-28T00:17:52.806388Z",
     "shell.execute_reply.started": "2023-08-28T00:17:52.788249Z"
    }
   },
   "outputs": [],
   "source": [
    "sys.path.append(\"../\")\n",
    "import plotting as my_plot\n",
    "\n",
    "sys.path.append(\"./mean_field_elect/\")\n",
    "import proteomics_functions as prot_fun"
   ]
  },
  {
   "cell_type": "code",
   "execution_count": 5,
   "id": "400c9289",
   "metadata": {
    "ExecuteTime": {
     "end_time": "2023-06-13T14:52:21.124899Z",
     "start_time": "2023-06-13T14:52:21.055610Z"
    },
    "execution": {
     "iopub.execute_input": "2023-08-28T00:17:52.808360Z",
     "iopub.status.busy": "2023-08-28T00:17:52.808030Z",
     "iopub.status.idle": "2023-08-28T00:17:52.923785Z",
     "shell.execute_reply": "2023-08-28T00:17:52.922965Z",
     "shell.execute_reply.started": "2023-08-28T00:17:52.808344Z"
    }
   },
   "outputs": [
    {
     "data": {
      "text/plain": [
       "(<Figure size 100x100 with 1 Axes>, <Axes: >)"
      ]
     },
     "execution_count": 5,
     "metadata": {},
     "output_type": "execute_result"
    },
    {
     "data": {
      "image/png": "[encoded data removed]",
      "text/plain": [
       "<Figure size 100x100 with 1 Axes>"
      ]
     },
     "metadata": {},
     "output_type": "display_data"
    }
   ],
   "source": [
    "my_plot.instantiate_fig(1, 1)"
   ]
  },
  {
   "cell_type": "code",
   "execution_count": null,
   "id": "8825e92c",
   "metadata": {},
   "outputs": [],
   "source": []
  },
  {
   "cell_type": "code",
   "execution_count": 6,
   "id": "141766bc",
   "metadata": {
    "ExecuteTime": {
     "end_time": "2023-06-13T14:52:21.167667Z",
     "start_time": "2023-06-13T14:52:21.126908Z"
    }
   },
   "outputs": [],
   "source": [
    "df_risk_reviewed = pd.read_csv('./generated_tables/high_risk_reviewed.csv')\n",
    "df_risk_reviewed['native_hccf_lmw2'] = False\n",
    "\n",
    "df_std_master = df_risk_reviewed[(df_risk_reviewed.std_hccf_feed) | \n",
    "                          (df_risk_reviewed.std_hccf_large) | \n",
    "                          (df_risk_reviewed.std_hccf_small) | \n",
    "                          (df_risk_reviewed.std_hccf_mab) | \n",
    "                          (df_risk_reviewed.std_hccf_lmw1) | \n",
    "                          (df_risk_reviewed.std_hccf_lmw2) |\n",
    "                          (df_risk_reviewed.std_pafvin_feed) | \n",
    "                          (df_risk_reviewed.std_pafvin_large) |\n",
    "                          (df_risk_reviewed.std_pafvin_small) |\n",
    "                          (df_risk_reviewed.std_pafvin_mab)].copy()\n",
    "\n",
    "df_native_master = df_risk_reviewed[(df_risk_reviewed.native_hccf_feed) | \n",
    "                             (df_risk_reviewed.native_hccf_large) | \n",
    "                             (df_risk_reviewed.native_hccf_small) | \n",
    "                             (df_risk_reviewed.native_hccf_mab) | \n",
    "                             (df_risk_reviewed.native_hccf_lmw1) | \n",
    "                             (df_risk_reviewed.native_pafvin_feed) | \n",
    "                             (df_risk_reviewed.native_pafvin_large) |\n",
    "                             (df_risk_reviewed.native_pafvin_small) |\n",
    "                             (df_risk_reviewed.native_pafvin_mab)].copy()\n",
    "\n",
    "df_hccf = df_risk_reviewed[(df_risk_reviewed.std_hccf_feed) | \n",
    "                    (df_risk_reviewed.std_hccf_large) | \n",
    "                    (df_risk_reviewed.std_hccf_small) | \n",
    "                    (df_risk_reviewed.std_hccf_mab) | \n",
    "                    (df_risk_reviewed.std_hccf_lmw1) | \n",
    "                    (df_risk_reviewed.std_hccf_lmw2) |\n",
    "                    (df_risk_reviewed.native_hccf_feed) | \n",
    "                    (df_risk_reviewed.native_hccf_large) | \n",
    "                    (df_risk_reviewed.native_hccf_small) | \n",
    "                    (df_risk_reviewed.native_hccf_mab) | \n",
    "                    (df_risk_reviewed.native_hccf_lmw1)].copy()\n",
    "\n",
    "df_std_hccf = df_risk_reviewed[(df_risk_reviewed.std_hccf_feed) | \n",
    "                        (df_risk_reviewed.std_hccf_large) | \n",
    "                        (df_risk_reviewed.std_hccf_small) | \n",
    "                        (df_risk_reviewed.std_hccf_mab) | \n",
    "                        (df_risk_reviewed.std_hccf_lmw1) | \n",
    "                        (df_risk_reviewed.std_hccf_lmw2)].copy()\n",
    "\n",
    "df_native_hccf = df_risk_reviewed[(df_risk_reviewed.native_hccf_feed) | \n",
    "                           (df_risk_reviewed.native_hccf_large) | \n",
    "                           (df_risk_reviewed.native_hccf_small) | \n",
    "                           (df_risk_reviewed.native_hccf_mab) | \n",
    "                           (df_risk_reviewed.native_hccf_lmw1)].copy()\n",
    "\n",
    "df_pafvin = df_risk_reviewed[(df_risk_reviewed.std_pafvin_feed) | \n",
    "                      (df_risk_reviewed.std_pafvin_large) |\n",
    "                      (df_risk_reviewed.std_pafvin_small) |\n",
    "                      (df_risk_reviewed.std_pafvin_mab) |\n",
    "                      (df_risk_reviewed.native_pafvin_feed) | \n",
    "                      (df_risk_reviewed.native_pafvin_large) |\n",
    "                      (df_risk_reviewed.native_pafvin_small) |\n",
    "                      (df_risk_reviewed.native_pafvin_mab)].copy()\n",
    "\n",
    "df_std_pafvin = df_risk_reviewed[(df_risk_reviewed.std_pafvin_feed) | \n",
    "                          (df_risk_reviewed.std_pafvin_large) |\n",
    "                          (df_risk_reviewed.std_pafvin_small) |\n",
    "                          (df_risk_reviewed.std_pafvin_mab)].copy()\n",
    "\n",
    "df_native_pafvin = df_risk_reviewed[(df_risk_reviewed.native_pafvin_feed) | \n",
    "                             (df_risk_reviewed.native_pafvin_large) |\n",
    "                             (df_risk_reviewed.native_pafvin_small) |\n",
    "                             (df_risk_reviewed.native_pafvin_mab)].copy()"
   ]
  },
  {
   "cell_type": "code",
   "execution_count": 7,
   "id": "12a4b98d",
   "metadata": {
    "ExecuteTime": {
     "end_time": "2023-06-13T14:52:21.560360Z",
     "start_time": "2023-06-13T14:52:21.513433Z"
    }
   },
   "outputs": [],
   "source": [
    "names = []\n",
    "std_unique = []\n",
    "instersection = []\n",
    "native_unique = []\n",
    "\n",
    "names, std_unique, instersection, native_unique = prot_fun.add_entry(r'HCCF $\\bigcup$ PAVIN', df_std_master.accession.values, df_native_master.accession.values,\n",
    "                                                            names, std_unique, instersection, native_unique)\n",
    "names, std_unique, instersection, native_unique = prot_fun.add_entry('HCCF Union', df_std_hccf.accession.values, df_native_hccf.accession.values,\n",
    "                                                            names, std_unique, instersection, native_unique)\n",
    "\n",
    "for sample in ['hccf_feed', 'hccf_large', 'hccf_small', 'hccf_mab', 'hccf_lmw1', 'hccf_lmw2']:\n",
    "    df_std_accn = df_risk_reviewed[df_risk_reviewed[f'std_{sample}']].accession.values\n",
    "    df_nat_accn = df_risk_reviewed[df_risk_reviewed[f'native_{sample}']].accession.values\n",
    "    names, std_unique, instersection, native_unique = prot_fun.add_entry(sample, df_std_accn, df_nat_accn, names, std_unique, instersection, native_unique)\n",
    "    \n",
    "names, std_unique, instersection, native_unique = prot_fun.add_entry('PAVIN Union', df_std_pafvin.accession.values, df_native_pafvin.accession.values,\n",
    "                                                            names, std_unique, instersection, native_unique)\n",
    "\n",
    "for sample in ['pafvin_feed', 'pafvin_large', 'pafvin_small', 'pafvin_mab']:\n",
    "    df_std_accn = df_risk_reviewed[df_risk_reviewed[f'std_{sample}']].accession.values\n",
    "    df_nat_accn = df_risk_reviewed[df_risk_reviewed[f'native_{sample}']].accession.values\n",
    "    names, std_unique, instersection, native_unique = prot_fun.add_entry(sample, df_std_accn, df_nat_accn, names, std_unique, instersection, native_unique)\n",
    "    \n",
    "nice_names_dic = {'hccf_feed':'HCCF Feed',\n",
    "                  'hccf_large':'HCCF Large agg.',\n",
    "                  'hccf_small':'HCCF Small agg.',\n",
    "                  'hccf_mab':'HCCF mAb',\n",
    "                  'hccf_lmw1':'HCCF SPF 1',\n",
    "                  'hccf_lmw2':'HCCF SPF 2',\n",
    "                  'pafvin_feed':'PAVIN Feed',\n",
    "                  'pafvin_large':'PAVIN Large agg.',\n",
    "                  'pafvin_small':'PAVIN Small agg.',\n",
    "                  'pafvin_mab':'PAVIN mAb'}\n",
    "\n",
    "nice_names = []\n",
    "for n in names:\n",
    "    if n in nice_names_dic.keys():\n",
    "        nice_names.append(nice_names_dic[n])\n",
    "    else:\n",
    "        nice_names.append(n)\n",
    "        \n",
    "df_bar = pd.DataFrame({'name':nice_names, 'std_unique':std_unique, 'intersection':instersection, 'native_unique':native_unique})\n",
    "\n",
    "df_bar['std_total'] = df_bar.std_unique + df_bar.intersection\n",
    "df_bar['native_total'] = df_bar.native_unique + df_bar.intersection"
   ]
  },
  {
   "cell_type": "code",
   "execution_count": 8,
   "id": "c31fc7d7",
   "metadata": {
    "ExecuteTime": {
     "end_time": "2023-06-13T14:52:22.535752Z",
     "start_time": "2023-06-13T14:52:22.505948Z"
    }
   },
   "outputs": [
    {
     "data": {
      "text/html": [
       "<div>\n",
       "<style scoped>\n",
       "    .dataframe tbody tr th:only-of-type {\n",
       "        vertical-align: middle;\n",
       "    }\n",
       "\n",
       "    .dataframe tbody tr th {\n",
       "        vertical-align: top;\n",
       "    }\n",
       "\n",
       "    .dataframe thead th {\n",
       "        text-align: right;\n",
       "    }\n",
       "</style>\n",
       "<table border=\"1\" class=\"dataframe\">\n",
       "  <thead>\n",
       "    <tr style=\"text-align: right;\">\n",
       "      <th></th>\n",
       "      <th>name</th>\n",
       "      <th>std_unique</th>\n",
       "      <th>intersection</th>\n",
       "      <th>native_unique</th>\n",
       "      <th>std_total</th>\n",
       "      <th>native_total</th>\n",
       "    </tr>\n",
       "  </thead>\n",
       "  <tbody>\n",
       "    <tr>\n",
       "      <th>0</th>\n",
       "      <td>HCCF $\\bigcup$ PAVIN</td>\n",
       "      <td>3</td>\n",
       "      <td>43</td>\n",
       "      <td>10</td>\n",
       "      <td>46</td>\n",
       "      <td>53</td>\n",
       "    </tr>\n",
       "    <tr>\n",
       "      <th>1</th>\n",
       "      <td>HCCF Union</td>\n",
       "      <td>3</td>\n",
       "      <td>42</td>\n",
       "      <td>10</td>\n",
       "      <td>45</td>\n",
       "      <td>52</td>\n",
       "    </tr>\n",
       "    <tr>\n",
       "      <th>2</th>\n",
       "      <td>HCCF Feed</td>\n",
       "      <td>2</td>\n",
       "      <td>33</td>\n",
       "      <td>6</td>\n",
       "      <td>35</td>\n",
       "      <td>39</td>\n",
       "    </tr>\n",
       "    <tr>\n",
       "      <th>3</th>\n",
       "      <td>HCCF Large agg.</td>\n",
       "      <td>4</td>\n",
       "      <td>25</td>\n",
       "      <td>13</td>\n",
       "      <td>29</td>\n",
       "      <td>38</td>\n",
       "    </tr>\n",
       "    <tr>\n",
       "      <th>4</th>\n",
       "      <td>HCCF Small agg.</td>\n",
       "      <td>2</td>\n",
       "      <td>28</td>\n",
       "      <td>6</td>\n",
       "      <td>30</td>\n",
       "      <td>34</td>\n",
       "    </tr>\n",
       "    <tr>\n",
       "      <th>5</th>\n",
       "      <td>HCCF mAb</td>\n",
       "      <td>0</td>\n",
       "      <td>27</td>\n",
       "      <td>9</td>\n",
       "      <td>27</td>\n",
       "      <td>36</td>\n",
       "    </tr>\n",
       "    <tr>\n",
       "      <th>6</th>\n",
       "      <td>HCCF SPF 1</td>\n",
       "      <td>3</td>\n",
       "      <td>36</td>\n",
       "      <td>6</td>\n",
       "      <td>39</td>\n",
       "      <td>42</td>\n",
       "    </tr>\n",
       "    <tr>\n",
       "      <th>7</th>\n",
       "      <td>HCCF SPF 2</td>\n",
       "      <td>36</td>\n",
       "      <td>0</td>\n",
       "      <td>0</td>\n",
       "      <td>36</td>\n",
       "      <td>0</td>\n",
       "    </tr>\n",
       "    <tr>\n",
       "      <th>8</th>\n",
       "      <td>PAVIN Union</td>\n",
       "      <td>1</td>\n",
       "      <td>27</td>\n",
       "      <td>10</td>\n",
       "      <td>28</td>\n",
       "      <td>37</td>\n",
       "    </tr>\n",
       "    <tr>\n",
       "      <th>9</th>\n",
       "      <td>PAVIN Feed</td>\n",
       "      <td>0</td>\n",
       "      <td>5</td>\n",
       "      <td>7</td>\n",
       "      <td>5</td>\n",
       "      <td>12</td>\n",
       "    </tr>\n",
       "    <tr>\n",
       "      <th>10</th>\n",
       "      <td>PAVIN Large agg.</td>\n",
       "      <td>2</td>\n",
       "      <td>26</td>\n",
       "      <td>8</td>\n",
       "      <td>28</td>\n",
       "      <td>34</td>\n",
       "    </tr>\n",
       "    <tr>\n",
       "      <th>11</th>\n",
       "      <td>PAVIN Small agg.</td>\n",
       "      <td>1</td>\n",
       "      <td>13</td>\n",
       "      <td>14</td>\n",
       "      <td>14</td>\n",
       "      <td>27</td>\n",
       "    </tr>\n",
       "    <tr>\n",
       "      <th>12</th>\n",
       "      <td>PAVIN mAb</td>\n",
       "      <td>0</td>\n",
       "      <td>0</td>\n",
       "      <td>2</td>\n",
       "      <td>0</td>\n",
       "      <td>2</td>\n",
       "    </tr>\n",
       "  </tbody>\n",
       "</table>\n",
       "</div>"
      ],
      "text/plain": [
       "                    name  std_unique  intersection  native_unique  std_total  \\\n",
       "0   HCCF $\\bigcup$ PAVIN           3            43             10         46   \n",
       "1             HCCF Union           3            42             10         45   \n",
       "2              HCCF Feed           2            33              6         35   \n",
       "3        HCCF Large agg.           4            25             13         29   \n",
       "4        HCCF Small agg.           2            28              6         30   \n",
       "5               HCCF mAb           0            27              9         27   \n",
       "6             HCCF SPF 1           3            36              6         39   \n",
       "7             HCCF SPF 2          36             0              0         36   \n",
       "8            PAVIN Union           1            27             10         28   \n",
       "9             PAVIN Feed           0             5              7          5   \n",
       "10      PAVIN Large agg.           2            26              8         28   \n",
       "11      PAVIN Small agg.           1            13             14         14   \n",
       "12             PAVIN mAb           0             0              2          0   \n",
       "\n",
       "    native_total  \n",
       "0             53  \n",
       "1             52  \n",
       "2             39  \n",
       "3             38  \n",
       "4             34  \n",
       "5             36  \n",
       "6             42  \n",
       "7              0  \n",
       "8             37  \n",
       "9             12  \n",
       "10            34  \n",
       "11            27  \n",
       "12             2  "
      ]
     },
     "execution_count": 8,
     "metadata": {},
     "output_type": "execute_result"
    }
   ],
   "source": [
    "df_bar"
   ]
  },
  {
   "cell_type": "code",
   "execution_count": 9,
   "id": "1a258f9d",
   "metadata": {
    "ExecuteTime": {
     "end_time": "2023-06-13T14:52:27.695437Z",
     "start_time": "2023-06-13T14:52:27.266881Z"
    }
   },
   "outputs": [
    {
     "data": {
      "image/png": "[encoded data removed]",
      "text/plain": [
       "<Figure size 720x504 with 1 Axes>"
      ]
     },
     "metadata": {
      "needs_background": "light"
     },
     "output_type": "display_data"
    }
   ],
   "source": [
    "fig, ax = my_plot.instantiate_fig(x=10, y=7, ylabel='Number of high-risk HCPs')\n",
    "ticks = ax.set_xticks(df_bar.index, df_bar.name, rotation=45, ha='right', rotation_mode='anchor')\n",
    "\n",
    "rects_1 = ax.bar(df_bar.index, df_bar.native_unique, label='Unique to native digest')\n",
    "rects_2 = ax.bar(df_bar.index, df_bar.intersection, label='Intersection', bottom=df_bar.native_unique)\n",
    "rects_3 = ax.bar(df_bar.index, df_bar.std_unique, label='Unique to standard digest', bottom=df_bar.native_total)\n",
    "\n",
    "# text_1 = ax.annotate('HCCF', xy=(0.35, -0.45), xytext=(0.35, -0.55), xycoords='axes fraction', ha='center', \n",
    "#                      va='bottom', arrowprops=dict(arrowstyle='-[, widthB=6.45, lengthB=0.7', lw=2.0))\n",
    "# text_2 = ax.annotate('PAVIN', xy=(0.77, -0.45), xytext=(0.77, -0.55), xycoords='axes fraction', ha='center', \n",
    "#                      va='bottom', arrowprops=dict(arrowstyle='-[, widthB=4.4, lengthB=0.7', lw=2.0))\n",
    "\n",
    "bar_labels = ax.bar_label(rects_3, fontsize=16)\n",
    "legend = ax.legend(handlelength=1, frameon=False, fontsize=18, handletextpad=0.8)\n",
    "ylim = ax.set_ylim(0, 65)\n",
    "\n",
    "# plt.savefig('./images/5_stacked_bar_chart_high_risk.png', dpi=300, bbox_inches='tight')\n",
    "# plt.savefig('./images/5_stacked_bar_chart_high_risk.tif', dpi=300, bbox_inches='tight')\n",
    "# plt.savefig('./images/5_stacked_bar_chart_high_risk.eps', dpi=300, bbox_inches='tight')"
   ]
  },
  {
   "cell_type": "code",
   "execution_count": 10,
   "id": "fb0a4a72",
   "metadata": {
    "ExecuteTime": {
     "end_time": "2023-06-13T14:53:06.451551Z",
     "start_time": "2023-06-13T14:53:06.427564Z"
    }
   },
   "outputs": [],
   "source": [
    "df_bar.to_csv('./generated_tables/high_risk_bar.csv', index=False)"
   ]
  },
  {
   "cell_type": "code",
   "execution_count": 15,
   "id": "15b28a79",
   "metadata": {
    "ExecuteTime": {
     "end_time": "2022-09-20T15:57:36.916532Z",
     "start_time": "2022-09-20T15:57:36.892946Z"
    }
   },
   "outputs": [],
   "source": []
  },
  {
   "cell_type": "code",
   "execution_count": 17,
   "id": "156c8f54",
   "metadata": {
    "ExecuteTime": {
     "end_time": "2022-09-20T15:57:54.984180Z",
     "start_time": "2022-09-20T15:57:54.965004Z"
    }
   },
   "outputs": [],
   "source": [
    "# df_bar_total = pd.read_csv('./generated_tables/std_vs_native_bar.csv')\n",
    "\n",
    "# fig, ax = plt.subplots(2, 1, sharex=True)\n",
    "# fig.set_size_inches(10, 15, forward=True)\n",
    "# plt.subplots_adjust(hspace=0.06)\n",
    "# ax[0].set_ylabel('Number of HCPs')\n",
    "# ax[1].set_ylabel('Number of high-risk HCPs')\n",
    "# ax[0].set_ylim(0, 3000)\n",
    "# ax[1].set_ylim(0, 40)\n",
    "# ax[1].set_xticks(df_bar.index, df_bar.name, rotation=45, ha='right', rotation_mode='anchor')\n",
    "\n",
    "# for i, df in enumerate([df_bar_total, df_bar]):\n",
    "#     rects_1 = ax[i].bar(df.index, df.native_unique, label='Unique to native digest')\n",
    "#     rects_2 = ax[i].bar(df.index, df.intersection, label='Intersection', bottom=df.native_unique)\n",
    "#     rects_3 = ax[i].bar(df.index, df.std_unique, label='Unique to standard digest', bottom=df.native_total)\n",
    "    \n",
    "#     bar_labels = ax[i].bar_label(rects_3, fontsize=16)\n",
    "#     legend = ax[i].legend(handlelength=1, frameon=False, fontsize=16, handletextpad=0.8)\n",
    "    \n",
    "# t = ax[0].annotate('(A)', xytext=(-4, 2925), xy=(0, 0), weight='bold', fontsize=22)\n",
    "# t = ax[1].annotate('(B)', xytext=(-4, 38), xy=(0, 0), weight='bold', fontsize=22)\n",
    "\n",
    "# # plt.savefig('./images/5_stacked_bar_chart_total_and_high_risk.png', dpi=300, bbox_inches='tight')"
   ]
  },
  {
   "cell_type": "code",
   "execution_count": null,
   "id": "191150c7",
   "metadata": {},
   "outputs": [],
   "source": []
  },
  {
   "cell_type": "code",
   "execution_count": null,
   "id": "67c2fa75",
   "metadata": {},
   "outputs": [],
   "source": []
  },
  {
   "cell_type": "code",
   "execution_count": null,
   "id": "526bdbd8",
   "metadata": {},
   "outputs": [],
   "source": []
  },
  {
   "cell_type": "code",
   "execution_count": null,
   "id": "e8c686f7",
   "metadata": {},
   "outputs": [],
   "source": []
  },
  {
   "cell_type": "code",
   "execution_count": null,
   "id": "c01c0c8d",
   "metadata": {},
   "outputs": [],
   "source": []
  },
  {
   "cell_type": "code",
   "execution_count": null,
   "id": "25c474d4",
   "metadata": {},
   "outputs": [],
   "source": []
  },
  {
   "cell_type": "code",
   "execution_count": null,
   "id": "859e13e4",
   "metadata": {},
   "outputs": [],
   "source": []
  },
  {
   "cell_type": "code",
   "execution_count": null,
   "id": "942e0140",
   "metadata": {},
   "outputs": [],
   "source": []
  },
  {
   "cell_type": "code",
   "execution_count": null,
   "id": "14c0e34d",
   "metadata": {},
   "outputs": [],
   "source": []
  },
  {
   "cell_type": "code",
   "execution_count": null,
   "id": "bf48c089",
   "metadata": {},
   "outputs": [],
   "source": []
  },
  {
   "cell_type": "code",
   "execution_count": null,
   "id": "78419935",
   "metadata": {},
   "outputs": [],
   "source": []
  },
  {
   "cell_type": "code",
   "execution_count": null,
   "id": "6537401d",
   "metadata": {},
   "outputs": [],
   "source": []
  },
  {
   "cell_type": "code",
   "execution_count": null,
   "id": "2fdf2dcc",
   "metadata": {},
   "outputs": [],
   "source": []
  },
  {
   "cell_type": "code",
   "execution_count": null,
   "id": "7fe8060c",
   "metadata": {},
   "outputs": [],
   "source": []
  },
  {
   "cell_type": "code",
   "execution_count": null,
   "id": "25b0650d",
   "metadata": {},
   "outputs": [],
   "source": []
  },
  {
   "cell_type": "code",
   "execution_count": null,
   "id": "dc5c9628",
   "metadata": {},
   "outputs": [],
   "source": []
  },
  {
   "cell_type": "code",
   "execution_count": null,
   "id": "a9f9549e",
   "metadata": {},
   "outputs": [],
   "source": []
  },
  {
   "cell_type": "code",
   "execution_count": null,
   "id": "99335e4c",
   "metadata": {},
   "outputs": [],
   "source": []
  },
  {
   "cell_type": "code",
   "execution_count": null,
   "id": "b7856cbb",
   "metadata": {},
   "outputs": [],
   "source": []
  },
  {
   "cell_type": "code",
   "execution_count": null,
   "id": "69164eeb",
   "metadata": {},
   "outputs": [],
   "source": []
  },
  {
   "cell_type": "code",
   "execution_count": null,
   "id": "581a3f37",
   "metadata": {},
   "outputs": [],
   "source": []
  },
  {
   "cell_type": "code",
   "execution_count": null,
   "id": "c2fae8da",
   "metadata": {},
   "outputs": [],
   "source": []
  },
  {
   "cell_type": "code",
   "execution_count": null,
   "id": "528fa88b",
   "metadata": {},
   "outputs": [],
   "source": []
  },
  {
   "cell_type": "code",
   "execution_count": null,
   "id": "813db420",
   "metadata": {},
   "outputs": [],
   "source": []
  },
  {
   "cell_type": "code",
   "execution_count": null,
   "id": "7fe51cc6",
   "metadata": {},
   "outputs": [],
   "source": []
  },
  {
   "cell_type": "code",
   "execution_count": null,
   "id": "5184fd00",
   "metadata": {},
   "outputs": [],
   "source": []
  },
  {
   "cell_type": "code",
   "execution_count": null,
   "id": "59f870e9",
   "metadata": {},
   "outputs": [],
   "source": []
  },
  {
   "cell_type": "code",
   "execution_count": null,
   "id": "5da3dd87",
   "metadata": {},
   "outputs": [],
   "source": []
  },
  {
   "cell_type": "code",
   "execution_count": null,
   "id": "7e1085bd",
   "metadata": {},
   "outputs": [],
   "source": []
  },
  {
   "cell_type": "code",
   "execution_count": null,
   "id": "7a237980",
   "metadata": {},
   "outputs": [],
   "source": []
  },
  {
   "cell_type": "code",
   "execution_count": null,
   "id": "a2ab65d8",
   "metadata": {},
   "outputs": [],
   "source": []
  },
  {
   "cell_type": "code",
   "execution_count": null,
   "id": "a8df9609",
   "metadata": {},
   "outputs": [],
   "source": []
  },
  {
   "cell_type": "code",
   "execution_count": null,
   "id": "bfeea86a",
   "metadata": {},
   "outputs": [],
   "source": []
  },
  {
   "cell_type": "code",
   "execution_count": null,
   "id": "d52f9bf0",
   "metadata": {},
   "outputs": [],
   "source": []
  },
  {
   "cell_type": "code",
   "execution_count": null,
   "id": "d9f87e76",
   "metadata": {},
   "outputs": [],
   "source": []
  },
  {
   "cell_type": "code",
   "execution_count": null,
   "id": "fdf5eb76",
   "metadata": {},
   "outputs": [],
   "source": []
  },
  {
   "cell_type": "code",
   "execution_count": null,
   "id": "a7ddaeba",
   "metadata": {},
   "outputs": [],
   "source": []
  },
  {
   "cell_type": "code",
   "execution_count": null,
   "id": "cc28dc76",
   "metadata": {},
   "outputs": [],
   "source": []
  },
  {
   "cell_type": "code",
   "execution_count": null,
   "id": "7951f5a1",
   "metadata": {},
   "outputs": [],
   "source": []
  },
  {
   "cell_type": "code",
   "execution_count": null,
   "id": "43ed6298",
   "metadata": {},
   "outputs": [],
   "source": []
  }
 ],
 "metadata": {
  "kernelspec": {
   "display_name": "Python 3 (ipykernel)",
   "language": "python",
   "name": "python3"
  },
  "language_info": {
   "codemirror_mode": {
    "name": "ipython",
    "version": 3
   },
   "file_extension": ".py",
   "mimetype": "text/x-python",
   "name": "python",
   "nbconvert_exporter": "python",
   "pygments_lexer": "ipython3",
   "version": "3.11.5"
  }
 },
 "nbformat": 4,
 "nbformat_minor": 5
}
