{
 "cells": [
  {
   "cell_type": "code",
   "execution_count": 1,
   "id": "40443ed8",
   "metadata": {
    "ExecuteTime": {
     "end_time": "2023-02-16T23:05:31.954285Z",
     "start_time": "2023-02-16T23:05:31.929012Z"
    }
   },
   "outputs": [],
   "source": [
    "%load_ext autoreload\n",
    "%autoreload 2"
   ]
  },
  {
   "cell_type": "code",
   "execution_count": 1,
   "id": "ee2d521e",
   "metadata": {
    "ExecuteTime": {
     "end_time": "2023-04-03T11:16:26.605346Z",
     "start_time": "2023-04-03T11:16:26.586142Z"
    }
   },
   "outputs": [
    {
     "data": {
      "text/html": [
       "<style>.container { width:100% !important; }</style>"
      ],
      "text/plain": [
       "<IPython.core.display.HTML object>"
      ]
     },
     "metadata": {},
     "output_type": "display_data"
    }
   ],
   "source": [
    "from IPython.core.display import display, HTML, clear_output\n",
    "display(HTML(\"<style>.container { width:100% !important; }</style>\"))"
   ]
  },
  {
   "cell_type": "code",
   "execution_count": 2,
   "id": "419dcd68",
   "metadata": {
    "ExecuteTime": {
     "end_time": "2023-02-20T17:58:27.847812Z",
     "start_time": "2023-02-20T17:58:26.717696Z"
    }
   },
   "outputs": [],
   "source": [
    "import pandas as pd\n",
    "import numpy as np\n",
    "from scipy import optimize\n",
    "from scipy.stats import sem\n",
    "\n",
    "import os\n",
    "import sys\n",
    "\n",
    "import matplotlib.pyplot as plt\n",
    "import matplotlib.ticker\n",
    "from venn import venn, pseudovenn\n",
    "import seaborn as sns\n",
    "from matplotlib.collections import PathCollection\n",
    "\n",
    "from Bio import SeqIO, SeqUtils\n",
    "from Bio.SeqUtils.ProtParam import ProteinAnalysis\n",
    "\n",
    "from addict import Dict\n",
    "import json\n"
   ]
  },
  {
   "cell_type": "code",
   "execution_count": 3,
   "id": "11547f9a",
   "metadata": {
    "ExecuteTime": {
     "end_time": "2023-02-20T17:58:27.854508Z",
     "start_time": "2023-02-20T17:58:27.849596Z"
    }
   },
   "outputs": [],
   "source": [
    "import proteomics_functions as prot_fun\n",
    "\n",
    "sys.path.append(\"/home/chase/codes/python_functions/\")\n",
    "import plotting as my_plot\n",
    "\n",
    "sys.path.append(\"/home/chase/my_work/correlation_aex_data/mean_field_electrostatics/v2\")\n",
    "import base_classes\n",
    "import morbidelli as m"
   ]
  },
  {
   "cell_type": "code",
   "execution_count": 4,
   "id": "57a81405",
   "metadata": {
    "ExecuteTime": {
     "end_time": "2023-02-20T17:58:27.921774Z",
     "start_time": "2023-02-20T17:58:27.855924Z"
    }
   },
   "outputs": [
    {
     "data": {
      "image/png": "[encoded data removed]",
      "text/plain": [
       "<Figure size 72x72 with 1 Axes>"
      ]
     },
     "metadata": {
      "needs_background": "light"
     },
     "output_type": "display_data"
    }
   ],
   "source": [
    "fig, ax = my_plot.instantiate_fig(1, 1)"
   ]
  },
  {
   "cell_type": "code",
   "execution_count": null,
   "id": "2863f4de",
   "metadata": {},
   "outputs": [],
   "source": []
  },
  {
   "cell_type": "markdown",
   "id": "9781ec99",
   "metadata": {},
   "source": [
    "# Load data\n"
   ]
  },
  {
   "cell_type": "code",
   "execution_count": 5,
   "id": "699307e9",
   "metadata": {
    "ExecuteTime": {
     "end_time": "2023-02-20T17:58:40.612740Z",
     "start_time": "2023-02-20T17:58:40.605951Z"
    }
   },
   "outputs": [],
   "source": [
    "df_totals = pd.read_csv('./generated_tables/elisa_bradford_swath_and_dda_data.csv')"
   ]
  },
  {
   "cell_type": "code",
   "execution_count": 6,
   "id": "60b93355",
   "metadata": {
    "ExecuteTime": {
     "end_time": "2023-02-20T17:58:40.872985Z",
     "start_time": "2023-02-20T17:58:40.845785Z"
    }
   },
   "outputs": [
    {
     "data": {
      "text/html": [
       "<div>\n",
       "<style scoped>\n",
       "    .dataframe tbody tr th:only-of-type {\n",
       "        vertical-align: middle;\n",
       "    }\n",
       "\n",
       "    .dataframe tbody tr th {\n",
       "        vertical-align: top;\n",
       "    }\n",
       "\n",
       "    .dataframe thead th {\n",
       "        text-align: right;\n",
       "    }\n",
       "</style>\n",
       "<table border=\"1\" class=\"dataframe\">\n",
       "  <thead>\n",
       "    <tr style=\"text-align: right;\">\n",
       "      <th></th>\n",
       "      <th>label</th>\n",
       "      <th>feed</th>\n",
       "      <th>frac</th>\n",
       "      <th>elisa_ppm</th>\n",
       "      <th>elisa_stdev_ppm</th>\n",
       "      <th>elisa_rsd_percent</th>\n",
       "      <th>den_bradford_stdev_mg_ml</th>\n",
       "      <th>bradford_rsd_percent</th>\n",
       "      <th>digest_method</th>\n",
       "      <th>swath_ppm</th>\n",
       "      <th>swath_stdev_ppm</th>\n",
       "      <th>swath_rsd_percent</th>\n",
       "      <th>n_dda</th>\n",
       "      <th>n_swath</th>\n",
       "    </tr>\n",
       "  </thead>\n",
       "  <tbody>\n",
       "    <tr>\n",
       "      <th>0</th>\n",
       "      <td>HCCF Feed</td>\n",
       "      <td>hccf</td>\n",
       "      <td>feed</td>\n",
       "      <td>400000.0</td>\n",
       "      <td>151718.633700</td>\n",
       "      <td>37.929658</td>\n",
       "      <td>0.241040</td>\n",
       "      <td>4.820792</td>\n",
       "      <td>native</td>\n",
       "      <td>37401.367222</td>\n",
       "      <td>2243.519420</td>\n",
       "      <td>5.998496</td>\n",
       "      <td>1062.0</td>\n",
       "      <td>1131.0</td>\n",
       "    </tr>\n",
       "    <tr>\n",
       "      <th>1</th>\n",
       "      <td>HCCF Large agg.</td>\n",
       "      <td>hccf</td>\n",
       "      <td>large</td>\n",
       "      <td>127000.0</td>\n",
       "      <td>47085.079910</td>\n",
       "      <td>37.074866</td>\n",
       "      <td>0.102268</td>\n",
       "      <td>2.045369</td>\n",
       "      <td>native</td>\n",
       "      <td>186442.925701</td>\n",
       "      <td>5343.532827</td>\n",
       "      <td>2.866042</td>\n",
       "      <td>1709.0</td>\n",
       "      <td>1980.0</td>\n",
       "    </tr>\n",
       "    <tr>\n",
       "      <th>2</th>\n",
       "      <td>HCCF Small agg.</td>\n",
       "      <td>hccf</td>\n",
       "      <td>small</td>\n",
       "      <td>101000.0</td>\n",
       "      <td>21960.718110</td>\n",
       "      <td>21.743285</td>\n",
       "      <td>0.199342</td>\n",
       "      <td>3.986831</td>\n",
       "      <td>native</td>\n",
       "      <td>110588.105207</td>\n",
       "      <td>4574.558201</td>\n",
       "      <td>4.136573</td>\n",
       "      <td>1390.0</td>\n",
       "      <td>1635.0</td>\n",
       "    </tr>\n",
       "    <tr>\n",
       "      <th>3</th>\n",
       "      <td>HCCF mAb</td>\n",
       "      <td>hccf</td>\n",
       "      <td>mab</td>\n",
       "      <td>162000.0</td>\n",
       "      <td>75029.087230</td>\n",
       "      <td>46.314251</td>\n",
       "      <td>0.199047</td>\n",
       "      <td>3.980937</td>\n",
       "      <td>native</td>\n",
       "      <td>16225.097508</td>\n",
       "      <td>948.776676</td>\n",
       "      <td>5.847587</td>\n",
       "      <td>593.0</td>\n",
       "      <td>783.0</td>\n",
       "    </tr>\n",
       "    <tr>\n",
       "      <th>4</th>\n",
       "      <td>HCCF SPF 1</td>\n",
       "      <td>hccf</td>\n",
       "      <td>spf1</td>\n",
       "      <td>607000.0</td>\n",
       "      <td>88846.062830</td>\n",
       "      <td>14.636913</td>\n",
       "      <td>0.171472</td>\n",
       "      <td>3.429449</td>\n",
       "      <td>native</td>\n",
       "      <td>43452.695814</td>\n",
       "      <td>1514.740942</td>\n",
       "      <td>3.485954</td>\n",
       "      <td>1012.0</td>\n",
       "      <td>1161.0</td>\n",
       "    </tr>\n",
       "    <tr>\n",
       "      <th>5</th>\n",
       "      <td>HCCF SPF 2</td>\n",
       "      <td>hccf</td>\n",
       "      <td>spf2</td>\n",
       "      <td>718000.0</td>\n",
       "      <td>156156.545300</td>\n",
       "      <td>21.748822</td>\n",
       "      <td>0.034840</td>\n",
       "      <td>6.968049</td>\n",
       "      <td>standard</td>\n",
       "      <td>133538.064700</td>\n",
       "      <td>10843.772213</td>\n",
       "      <td>8.120360</td>\n",
       "      <td>504.0</td>\n",
       "      <td>745.0</td>\n",
       "    </tr>\n",
       "    <tr>\n",
       "      <th>6</th>\n",
       "      <td>PAVIN Feed</td>\n",
       "      <td>pavin</td>\n",
       "      <td>feed</td>\n",
       "      <td>1510.0</td>\n",
       "      <td>860.315308</td>\n",
       "      <td>56.974524</td>\n",
       "      <td>0.158233</td>\n",
       "      <td>3.164659</td>\n",
       "      <td>native</td>\n",
       "      <td>1553.038451</td>\n",
       "      <td>58.595544</td>\n",
       "      <td>3.772962</td>\n",
       "      <td>104.0</td>\n",
       "      <td>348.0</td>\n",
       "    </tr>\n",
       "    <tr>\n",
       "      <th>7</th>\n",
       "      <td>PAVIN Large agg.</td>\n",
       "      <td>pavin</td>\n",
       "      <td>large</td>\n",
       "      <td>149000.0</td>\n",
       "      <td>87284.775990</td>\n",
       "      <td>58.580387</td>\n",
       "      <td>0.547865</td>\n",
       "      <td>10.957302</td>\n",
       "      <td>native</td>\n",
       "      <td>87179.396374</td>\n",
       "      <td>9619.728583</td>\n",
       "      <td>11.034406</td>\n",
       "      <td>1714.0</td>\n",
       "      <td>1883.0</td>\n",
       "    </tr>\n",
       "    <tr>\n",
       "      <th>8</th>\n",
       "      <td>PAVIN Small agg.</td>\n",
       "      <td>pavin</td>\n",
       "      <td>small</td>\n",
       "      <td>11200.0</td>\n",
       "      <td>NaN</td>\n",
       "      <td>NaN</td>\n",
       "      <td>0.502731</td>\n",
       "      <td>10.054629</td>\n",
       "      <td>native</td>\n",
       "      <td>20802.780379</td>\n",
       "      <td>2134.852037</td>\n",
       "      <td>10.262340</td>\n",
       "      <td>786.0</td>\n",
       "      <td>944.0</td>\n",
       "    </tr>\n",
       "    <tr>\n",
       "      <th>9</th>\n",
       "      <td>PAVIN mAb</td>\n",
       "      <td>pavin</td>\n",
       "      <td>mab</td>\n",
       "      <td>NaN</td>\n",
       "      <td>NaN</td>\n",
       "      <td>NaN</td>\n",
       "      <td>0.035538</td>\n",
       "      <td>0.710768</td>\n",
       "      <td>native</td>\n",
       "      <td>1.864600</td>\n",
       "      <td>0.070643</td>\n",
       "      <td>3.788643</td>\n",
       "      <td>2.0</td>\n",
       "      <td>4.0</td>\n",
       "    </tr>\n",
       "  </tbody>\n",
       "</table>\n",
       "</div>"
      ],
      "text/plain": [
       "              label   feed   frac  elisa_ppm  elisa_stdev_ppm  \\\n",
       "0         HCCF Feed   hccf   feed   400000.0    151718.633700   \n",
       "1   HCCF Large agg.   hccf  large   127000.0     47085.079910   \n",
       "2   HCCF Small agg.   hccf  small   101000.0     21960.718110   \n",
       "3          HCCF mAb   hccf    mab   162000.0     75029.087230   \n",
       "4        HCCF SPF 1   hccf   spf1   607000.0     88846.062830   \n",
       "5        HCCF SPF 2   hccf   spf2   718000.0    156156.545300   \n",
       "6        PAVIN Feed  pavin   feed     1510.0       860.315308   \n",
       "7  PAVIN Large agg.  pavin  large   149000.0     87284.775990   \n",
       "8  PAVIN Small agg.  pavin  small    11200.0              NaN   \n",
       "9         PAVIN mAb  pavin    mab        NaN              NaN   \n",
       "\n",
       "   elisa_rsd_percent  den_bradford_stdev_mg_ml  bradford_rsd_percent  \\\n",
       "0          37.929658                  0.241040              4.820792   \n",
       "1          37.074866                  0.102268              2.045369   \n",
       "2          21.743285                  0.199342              3.986831   \n",
       "3          46.314251                  0.199047              3.980937   \n",
       "4          14.636913                  0.171472              3.429449   \n",
       "5          21.748822                  0.034840              6.968049   \n",
       "6          56.974524                  0.158233              3.164659   \n",
       "7          58.580387                  0.547865             10.957302   \n",
       "8                NaN                  0.502731             10.054629   \n",
       "9                NaN                  0.035538              0.710768   \n",
       "\n",
       "  digest_method      swath_ppm  swath_stdev_ppm  swath_rsd_percent   n_dda  \\\n",
       "0        native   37401.367222      2243.519420           5.998496  1062.0   \n",
       "1        native  186442.925701      5343.532827           2.866042  1709.0   \n",
       "2        native  110588.105207      4574.558201           4.136573  1390.0   \n",
       "3        native   16225.097508       948.776676           5.847587   593.0   \n",
       "4        native   43452.695814      1514.740942           3.485954  1012.0   \n",
       "5      standard  133538.064700     10843.772213           8.120360   504.0   \n",
       "6        native    1553.038451        58.595544           3.772962   104.0   \n",
       "7        native   87179.396374      9619.728583          11.034406  1714.0   \n",
       "8        native   20802.780379      2134.852037          10.262340   786.0   \n",
       "9        native       1.864600         0.070643           3.788643     2.0   \n",
       "\n",
       "   n_swath  \n",
       "0   1131.0  \n",
       "1   1980.0  \n",
       "2   1635.0  \n",
       "3    783.0  \n",
       "4   1161.0  \n",
       "5    745.0  \n",
       "6    348.0  \n",
       "7   1883.0  \n",
       "8    944.0  \n",
       "9      4.0  "
      ]
     },
     "execution_count": 6,
     "metadata": {},
     "output_type": "execute_result"
    }
   ],
   "source": [
    "df_totals"
   ]
  },
  {
   "cell_type": "markdown",
   "id": "4927409f",
   "metadata": {},
   "source": [
    "# Plot"
   ]
  },
  {
   "cell_type": "code",
   "execution_count": 18,
   "id": "9b3771fe",
   "metadata": {
    "ExecuteTime": {
     "end_time": "2023-02-16T23:34:51.903588Z",
     "start_time": "2023-02-16T23:34:49.381207Z"
    }
   },
   "outputs": [
    {
     "name": "stderr",
     "output_type": "stream",
     "text": [
      "/home/chase/anaconda3/lib/python3.7/site-packages/numpy/core/_methods.py:44: RuntimeWarning: invalid value encountered in reduce\n",
      "  return umr_minimum(a, axis, None, out, keepdims, initial, where)\n",
      "/home/chase/anaconda3/lib/python3.7/site-packages/numpy/core/_methods.py:40: RuntimeWarning: invalid value encountered in reduce\n",
      "  return umr_maximum(a, axis, None, out, keepdims, initial, where)\n"
     ]
    },
    {
     "data": {
      "image/png": "[encoded data removed]",
      "text/plain": [
       "<Figure size 720x576 with 1 Axes>"
      ]
     },
     "metadata": {
      "needs_background": "light"
     },
     "output_type": "display_data"
    }
   ],
   "source": [
    "fig, ax = my_plot.instantiate_fig(x=10, y=8, ylabel=r'$\\mathsf{c_{HCP}}$ [ppm = ng HCP / mg total]')\n",
    "ticks = ax.set_xticks(df_totals.index, df_totals.label, rotation=45, ha='right', rotation_mode='anchor')\n",
    "width = 1/3\n",
    "rects_1 = ax.bar(df_totals.index-width/2, df_totals.elisa_ppm, width=width, label='ELISA', color='tab:grey')\n",
    "err_1 = ax.errorbar(df_totals.index-width/2, df_totals.elisa_ppm, yerr=df_totals.elisa_stdev_ppm, fmt=' ', color='black', capsize=5)\n",
    "rects_2 = ax.bar(df_totals.index+width/2, df_totals.swath_ppm, width=width, label='SWATH', color='tab:cyan')\n",
    "err_2 = ax.errorbar(df_totals.index+width/2, df_totals.swath_ppm, yerr=df_totals.swath_stdev_ppm, fmt=' ', color='black', capsize=5)\n",
    "\n",
    "ax.set_yscale('log')\n",
    "ylim = ax.set_ylim(1, 1e6)\n",
    "ax.tick_params(axis='y', which='major', length=8)\n",
    "ax.tick_params(axis='y', which='minor', length=5)\n",
    "my_plot.set_layout(fig, ax, legend=True)\n",
    "\n",
    "plt.savefig('./images/8_ELISA_vs_SWATH_bar_chart.png', dpi=300, bbox_inches='tight')\n",
    "plt.savefig('./images/8_ELISA_vs_SWATH_bar_chart.tif', dpi=300, bbox_inches='tight')\n",
    "plt.savefig('./images/8_ELISA_vs_SWATH_bar_chart.eps', dpi=300, bbox_inches='tight')"
   ]
  },
  {
   "cell_type": "code",
   "execution_count": 19,
   "id": "9a8388da",
   "metadata": {
    "ExecuteTime": {
     "end_time": "2023-02-16T23:34:56.610513Z",
     "start_time": "2023-02-16T23:34:55.333396Z"
    }
   },
   "outputs": [
    {
     "name": "stderr",
     "output_type": "stream",
     "text": [
      "The PostScript backend does not support transparency; partially transparent artists will be rendered opaque.\n"
     ]
    },
    {
     "data": {
      "image/png": "[encoded data removed]",
      "text/plain": [
       "<Figure size 504x432 with 1 Axes>"
      ]
     },
     "metadata": {
      "needs_background": "light"
     },
     "output_type": "display_data"
    }
   ],
   "source": [
    "fig, ax = my_plot.instantiate_fig(xlabel=r'$\\mathsf{N_{SWATH}}$', ylabel=r'$\\mathsf{c_{HCP}}$ [ppm = ng HCP / mg total]')\n",
    "ax.scatter(df_totals.n_swath, df_totals.elisa_ppm, label='ELISA', color='tab:grey')\n",
    "ax.scatter(df_totals.n_swath, df_totals.swath_ppm, label='SWATH', color='tab:cyan')\n",
    "ax.set_yscale('log')\n",
    "ax.set_ylim(1, 1e6)\n",
    "my_plot.set_layout(fig, ax, legend=True, loc='lower right', frameon=True)\n",
    "plt.savefig('./images/9_c_vs_n_swath.png', dpi=300)\n",
    "plt.savefig('./images/9_c_vs_n_swath.tif', dpi=300)\n",
    "plt.savefig('./images/9_c_vs_n_swath.eps', dpi=300)"
   ]
  },
  {
   "cell_type": "code",
   "execution_count": null,
   "id": "63a12f1e",
   "metadata": {},
   "outputs": [],
   "source": []
  },
  {
   "cell_type": "code",
   "execution_count": 31,
   "id": "d388b70b",
   "metadata": {
    "ExecuteTime": {
     "end_time": "2023-02-16T23:45:51.908517Z",
     "start_time": "2023-02-16T23:45:49.258030Z"
    }
   },
   "outputs": [
    {
     "name": "stderr",
     "output_type": "stream",
     "text": [
      "/home/chase/anaconda3/lib/python3.7/site-packages/numpy/core/_methods.py:44: RuntimeWarning: invalid value encountered in reduce\n",
      "  return umr_minimum(a, axis, None, out, keepdims, initial, where)\n",
      "/home/chase/anaconda3/lib/python3.7/site-packages/numpy/core/_methods.py:40: RuntimeWarning: invalid value encountered in reduce\n",
      "  return umr_maximum(a, axis, None, out, keepdims, initial, where)\n",
      "The PostScript backend does not support transparency; partially transparent artists will be rendered opaque.\n"
     ]
    },
    {
     "data": {
      "image/png": "[encoded data removed]",
      "text/plain": [
       "<Figure size 1224x576 with 2 Axes>"
      ]
     },
     "metadata": {
      "needs_background": "light"
     },
     "output_type": "display_data"
    }
   ],
   "source": [
    "fig, ax = plt.subplots(1, 2, gridspec_kw={'width_ratios': [1.5, 1]})\n",
    "fig.set_size_inches(17, 8, forward=True)\n",
    "fontsize=23\n",
    "\n",
    "for i in range(2):\n",
    "    ax[i].set_ylabel(r'$\\mathsf{c_{HCP}}$ [ppm = ng HCP / mg total]', fontsize=fontsize)\n",
    "    ax[i].set_yscale('log')\n",
    "    ax[i].set_ylim(1, 1e6)\n",
    "    ax[i].tick_params(axis='y', which='major', length=8)\n",
    "    ax[i].tick_params(axis='y', which='minor', length=5)\n",
    "\n",
    "ticks = ax[0].set_xticks(df_totals.index, df_totals.label, rotation=45, ha='right', rotation_mode='anchor', fontsize=fontsize)\n",
    "width = 1/3\n",
    "rects_1 = ax[0].bar(df_totals.index-width/2, df_totals.elisa_ppm, width=width, label='ELISA', color='tab:grey')\n",
    "err_1 = ax[0].errorbar(df_totals.index-width/2, df_totals.elisa_ppm, yerr=df_totals.elisa_stdev_ppm, fmt=' ', color='black', capsize=5)\n",
    "rects_2 = ax[0].bar(df_totals.index+width/2, df_totals.swath_ppm, width=width, label='SWATH', color='tab:cyan')\n",
    "err_2 = ax[0].errorbar(df_totals.index+width/2, df_totals.swath_ppm, yerr=df_totals.swath_stdev_ppm, fmt=' ', color='black', capsize=5)\n",
    "\n",
    "# ax[1].set_xlabel(r'$\\mathsf{N_{SWATH}}$')\n",
    "ax[1].set_xlabel('Number of HCPs', labelpad=15, fontsize=fontsize)\n",
    "ax[1].scatter(df_totals.n_swath, df_totals.elisa_ppm, label='ELISA', color='tab:grey')\n",
    "ax[1].scatter(df_totals.n_swath, df_totals.swath_ppm, label='SWATH', color='tab:cyan')\n",
    "\n",
    "ax[0].annotate('A', xy=(-0.22, 0.95), xycoords=ax[0].transAxes, weight='bold', fontsize=30)\n",
    "ax[1].annotate('B', xy=(-0.32, 0.95), xycoords=ax[1].transAxes, weight='bold', fontsize=30)\n",
    "\n",
    "ax[0].legend(handlelength=1, frameon=False, fontsize=20, handletextpad=0.7, bbox_to_anchor=(1.025, 1.025), loc='upper right')\n",
    "ax[1].legend(loc='lower right', handlelength=1, frameon=True, fontsize=20, handletextpad=0.5)\n",
    "plt.tight_layout()\n",
    "plt.subplots_adjust(wspace=0.3)\n",
    "\n",
    "plt.savefig('./images/8_ELISA_vs_SWATH_bar_chart_and_n_hcps_scatter.png', dpi=300)\n",
    "plt.savefig('./images/8_ELISA_vs_SWATH_bar_chart_and_n_hcps_scatter.tif', dpi=300)\n",
    "plt.savefig('./images/8_ELISA_vs_SWATH_bar_chart_and_n_hcps_scatter.eps', dpi=300)"
   ]
  },
  {
   "cell_type": "code",
   "execution_count": null,
   "id": "8023b0e2",
   "metadata": {},
   "outputs": [],
   "source": []
  },
  {
   "cell_type": "code",
   "execution_count": 25,
   "id": "60168751",
   "metadata": {
    "ExecuteTime": {
     "end_time": "2023-02-16T23:37:10.729583Z",
     "start_time": "2023-02-16T23:37:10.199808Z"
    }
   },
   "outputs": [
    {
     "data": {
      "image/png": "[encoded data removed]",
      "text/plain": [
       "<Figure size 504x432 with 1 Axes>"
      ]
     },
     "metadata": {
      "needs_background": "light"
     },
     "output_type": "display_data"
    }
   ],
   "source": [
    "fig, ax = my_plot.instantiate_fig(xlabel=r'$\\mathsf{N_{DDA}}$', ylabel=r'$\\mathsf{N_{SWATH}}$')\n",
    "ax.scatter(df_totals.n_dda, df_totals.n_swath)\n",
    "ax.plot([0, 2250], [0, 2250], 'k--')\n",
    "ax.set_xlim(0, 2250)\n",
    "ax.set_ylim(0, 2250)\n",
    "my_plot.set_layout(fig, ax)\n",
    "plt.savefig('./images/9_n_swath_vs_n_dda.png', dpi=300)\n",
    "plt.savefig('./images/9_n_swath_vs_n_dda.tif', dpi=300)\n",
    "plt.savefig('./images/9_n_swath_vs_n_dda.eps', dpi=300)"
   ]
  },
  {
   "cell_type": "code",
   "execution_count": null,
   "id": "5fc6cf81",
   "metadata": {},
   "outputs": [],
   "source": []
  },
  {
   "cell_type": "markdown",
   "id": "de20ce6e",
   "metadata": {},
   "source": [
    "# Short list method investigation - PAVIN mAb"
   ]
  },
  {
   "cell_type": "code",
   "execution_count": 28,
   "id": "eeccd37c",
   "metadata": {
    "ExecuteTime": {
     "end_time": "2023-02-20T18:05:01.618140Z",
     "start_time": "2023-02-20T18:05:01.604201Z"
    }
   },
   "outputs": [],
   "source": [
    "df_swath = pd.read_csv('./generated_tables/swath_master_df_ppm.csv')"
   ]
  },
  {
   "cell_type": "code",
   "execution_count": 33,
   "id": "d911d862",
   "metadata": {
    "ExecuteTime": {
     "end_time": "2023-02-20T18:06:27.116824Z",
     "start_time": "2023-02-20T18:06:27.110653Z"
    }
   },
   "outputs": [
    {
     "data": {
      "text/plain": [
       "True"
      ]
     },
     "execution_count": 33,
     "metadata": {},
     "output_type": "execute_result"
    }
   ],
   "source": [
    "aoi = 'XP_027260201.1'\n",
    "aoi in list(df_swath[df_swath.pavin_mab > 0.0].accn)"
   ]
  },
  {
   "cell_type": "code",
   "execution_count": 36,
   "id": "6a21a00a",
   "metadata": {
    "ExecuteTime": {
     "end_time": "2023-02-20T18:07:28.460028Z",
     "start_time": "2023-02-20T18:07:28.225540Z"
    }
   },
   "outputs": [],
   "source": [
    "file = pd.ExcelFile('./data/CH_20220421_PAFVIN DDA zero.xlsx')\n",
    "df_nat_pavin_mab = file.parse('PAFVIN mAb')\n",
    "\n",
    "file = pd.ExcelFile('./data/CH_CrossDigestStandard_DDA.xlsx')\n",
    "df_std_pavin_mab = file.parse('PAFVIN mAb')"
   ]
  },
  {
   "cell_type": "code",
   "execution_count": 37,
   "id": "733cb870",
   "metadata": {
    "ExecuteTime": {
     "end_time": "2023-02-20T18:07:30.804648Z",
     "start_time": "2023-02-20T18:07:30.799343Z"
    }
   },
   "outputs": [
    {
     "data": {
      "text/plain": [
       "False"
      ]
     },
     "execution_count": 37,
     "metadata": {},
     "output_type": "execute_result"
    }
   ],
   "source": [
    "(aoi in list(df_std_pavin_mab['Accession'])) or (aoi in list(df_nat_pavin_mab['Accession']))"
   ]
  },
  {
   "cell_type": "code",
   "execution_count": 38,
   "id": "06933e23",
   "metadata": {
    "ExecuteTime": {
     "end_time": "2023-02-20T18:07:56.951238Z",
     "start_time": "2023-02-20T18:07:56.934621Z"
    }
   },
   "outputs": [
    {
     "data": {
      "text/html": [
       "<div>\n",
       "<style scoped>\n",
       "    .dataframe tbody tr th:only-of-type {\n",
       "        vertical-align: middle;\n",
       "    }\n",
       "\n",
       "    .dataframe tbody tr th {\n",
       "        vertical-align: top;\n",
       "    }\n",
       "\n",
       "    .dataframe thead th {\n",
       "        text-align: right;\n",
       "    }\n",
       "</style>\n",
       "<table border=\"1\" class=\"dataframe\">\n",
       "  <thead>\n",
       "    <tr style=\"text-align: right;\">\n",
       "      <th></th>\n",
       "      <th>accn</th>\n",
       "      <th>name</th>\n",
       "      <th>hccf_feed</th>\n",
       "      <th>hccf_large</th>\n",
       "      <th>hccf_small</th>\n",
       "      <th>hccf_mab</th>\n",
       "      <th>hccf_spf1</th>\n",
       "      <th>hccf_spf2</th>\n",
       "      <th>pavin_feed</th>\n",
       "      <th>pavin_large</th>\n",
       "      <th>pavin_small</th>\n",
       "      <th>pavin_mab</th>\n",
       "    </tr>\n",
       "  </thead>\n",
       "  <tbody>\n",
       "    <tr>\n",
       "      <th>482</th>\n",
       "      <td>XP_027260201.1</td>\n",
       "      <td>serine protease HTRA1 isoform X3 [Cricetulus g...</td>\n",
       "      <td>158.669206</td>\n",
       "      <td>4055.905572</td>\n",
       "      <td>1213.953813</td>\n",
       "      <td>23.893492</td>\n",
       "      <td>298.248626</td>\n",
       "      <td>563.050327</td>\n",
       "      <td>116.107668</td>\n",
       "      <td>2085.766382</td>\n",
       "      <td>574.090794</td>\n",
       "      <td>0.355977</td>\n",
       "    </tr>\n",
       "  </tbody>\n",
       "</table>\n",
       "</div>"
      ],
      "text/plain": [
       "               accn                                               name  \\\n",
       "482  XP_027260201.1  serine protease HTRA1 isoform X3 [Cricetulus g...   \n",
       "\n",
       "      hccf_feed   hccf_large   hccf_small   hccf_mab   hccf_spf1   hccf_spf2  \\\n",
       "482  158.669206  4055.905572  1213.953813  23.893492  298.248626  563.050327   \n",
       "\n",
       "     pavin_feed  pavin_large  pavin_small  pavin_mab  \n",
       "482  116.107668  2085.766382   574.090794   0.355977  "
      ]
     },
     "execution_count": 38,
     "metadata": {},
     "output_type": "execute_result"
    }
   ],
   "source": [
    "df_swath[df_swath.accn == aoi]"
   ]
  },
  {
   "cell_type": "code",
   "execution_count": null,
   "id": "34df9168",
   "metadata": {},
   "outputs": [],
   "source": []
  },
  {
   "cell_type": "code",
   "execution_count": 41,
   "id": "15756cc3",
   "metadata": {
    "ExecuteTime": {
     "end_time": "2023-02-20T21:50:39.462306Z",
     "start_time": "2023-02-20T21:50:39.444937Z"
    }
   },
   "outputs": [
    {
     "data": {
      "text/html": [
       "<div>\n",
       "<style scoped>\n",
       "    .dataframe tbody tr th:only-of-type {\n",
       "        vertical-align: middle;\n",
       "    }\n",
       "\n",
       "    .dataframe tbody tr th {\n",
       "        vertical-align: top;\n",
       "    }\n",
       "\n",
       "    .dataframe thead th {\n",
       "        text-align: right;\n",
       "    }\n",
       "</style>\n",
       "<table border=\"1\" class=\"dataframe\">\n",
       "  <thead>\n",
       "    <tr style=\"text-align: right;\">\n",
       "      <th></th>\n",
       "      <th>accn</th>\n",
       "      <th>name</th>\n",
       "      <th>hccf_feed</th>\n",
       "      <th>hccf_large</th>\n",
       "      <th>hccf_small</th>\n",
       "      <th>hccf_mab</th>\n",
       "      <th>hccf_spf1</th>\n",
       "      <th>hccf_spf2</th>\n",
       "      <th>pavin_feed</th>\n",
       "      <th>pavin_large</th>\n",
       "      <th>pavin_small</th>\n",
       "      <th>pavin_mab</th>\n",
       "    </tr>\n",
       "  </thead>\n",
       "  <tbody>\n",
       "    <tr>\n",
       "      <th>158</th>\n",
       "      <td>XP_027246103.1</td>\n",
       "      <td>clusterin [Cricetulus griseus]</td>\n",
       "      <td>1116.343358</td>\n",
       "      <td>19098.739793</td>\n",
       "      <td>12198.069924</td>\n",
       "      <td>335.430732</td>\n",
       "      <td>249.386225</td>\n",
       "      <td>602.973053</td>\n",
       "      <td>498.959310</td>\n",
       "      <td>16375.565451</td>\n",
       "      <td>5966.987435</td>\n",
       "      <td>0.821371</td>\n",
       "    </tr>\n",
       "    <tr>\n",
       "      <th>482</th>\n",
       "      <td>XP_027260201.1</td>\n",
       "      <td>serine protease HTRA1 isoform X3 [Cricetulus g...</td>\n",
       "      <td>158.669206</td>\n",
       "      <td>4055.905572</td>\n",
       "      <td>1213.953813</td>\n",
       "      <td>23.893492</td>\n",
       "      <td>298.248626</td>\n",
       "      <td>563.050327</td>\n",
       "      <td>116.107668</td>\n",
       "      <td>2085.766382</td>\n",
       "      <td>574.090794</td>\n",
       "      <td>0.355977</td>\n",
       "    </tr>\n",
       "    <tr>\n",
       "      <th>710</th>\n",
       "      <td>XP_027269956.1</td>\n",
       "      <td>putative phospholipase B-like 2 [Cricetulus gr...</td>\n",
       "      <td>103.191256</td>\n",
       "      <td>1024.130193</td>\n",
       "      <td>296.206341</td>\n",
       "      <td>146.670159</td>\n",
       "      <td>29.200703</td>\n",
       "      <td>76.545820</td>\n",
       "      <td>9.765162</td>\n",
       "      <td>286.950564</td>\n",
       "      <td>92.950772</td>\n",
       "      <td>0.409507</td>\n",
       "    </tr>\n",
       "    <tr>\n",
       "      <th>991</th>\n",
       "      <td>XP_027282301.1</td>\n",
       "      <td>C-C motif chemokine 2 [Cricetulus griseus]</td>\n",
       "      <td>2391.097146</td>\n",
       "      <td>153.580907</td>\n",
       "      <td>85.024897</td>\n",
       "      <td>1665.607925</td>\n",
       "      <td>2258.160534</td>\n",
       "      <td>7394.202068</td>\n",
       "      <td>1.747352</td>\n",
       "      <td>59.749513</td>\n",
       "      <td>30.572851</td>\n",
       "      <td>0.277746</td>\n",
       "    </tr>\n",
       "  </tbody>\n",
       "</table>\n",
       "</div>"
      ],
      "text/plain": [
       "               accn                                               name  \\\n",
       "158  XP_027246103.1                     clusterin [Cricetulus griseus]   \n",
       "482  XP_027260201.1  serine protease HTRA1 isoform X3 [Cricetulus g...   \n",
       "710  XP_027269956.1  putative phospholipase B-like 2 [Cricetulus gr...   \n",
       "991  XP_027282301.1         C-C motif chemokine 2 [Cricetulus griseus]   \n",
       "\n",
       "       hccf_feed    hccf_large    hccf_small     hccf_mab    hccf_spf1  \\\n",
       "158  1116.343358  19098.739793  12198.069924   335.430732   249.386225   \n",
       "482   158.669206   4055.905572   1213.953813    23.893492   298.248626   \n",
       "710   103.191256   1024.130193    296.206341   146.670159    29.200703   \n",
       "991  2391.097146    153.580907     85.024897  1665.607925  2258.160534   \n",
       "\n",
       "       hccf_spf2  pavin_feed   pavin_large  pavin_small  pavin_mab  \n",
       "158   602.973053  498.959310  16375.565451  5966.987435   0.821371  \n",
       "482   563.050327  116.107668   2085.766382   574.090794   0.355977  \n",
       "710    76.545820    9.765162    286.950564    92.950772   0.409507  \n",
       "991  7394.202068    1.747352     59.749513    30.572851   0.277746  "
      ]
     },
     "execution_count": 41,
     "metadata": {},
     "output_type": "execute_result"
    }
   ],
   "source": [
    "df_swath[df_swath.pavin_mab > 0.0]"
   ]
  },
  {
   "cell_type": "code",
   "execution_count": null,
   "id": "539accb3",
   "metadata": {},
   "outputs": [],
   "source": []
  },
  {
   "cell_type": "code",
   "execution_count": null,
   "id": "22a51ef2",
   "metadata": {},
   "outputs": [],
   "source": []
  },
  {
   "cell_type": "code",
   "execution_count": null,
   "id": "7ac90417",
   "metadata": {},
   "outputs": [],
   "source": []
  },
  {
   "cell_type": "code",
   "execution_count": null,
   "id": "6284ef2d",
   "metadata": {},
   "outputs": [],
   "source": []
  },
  {
   "cell_type": "code",
   "execution_count": null,
   "id": "ecb8e965",
   "metadata": {},
   "outputs": [],
   "source": []
  }
 ],
 "metadata": {
  "kernelspec": {
   "display_name": "Python 3 (ipykernel)",
   "language": "python",
   "name": "python3"
  },
  "language_info": {
   "codemirror_mode": {
    "name": "ipython",
    "version": 3
   },
   "file_extension": ".py",
   "mimetype": "text/x-python",
   "name": "python",
   "nbconvert_exporter": "python",
   "pygments_lexer": "ipython3",
   "version": "3.7.12"
  }
 },
 "nbformat": 4,
 "nbformat_minor": 5
}
